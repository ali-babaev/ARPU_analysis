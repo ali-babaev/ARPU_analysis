{
 "cells": [
  {
   "cell_type": "markdown",
   "metadata": {
    "toc": true
   },
   "source": [
    "<h1>Содержание<span class=\"tocSkip\"></span></h1>\n",
    "<div class=\"toc\"><ul class=\"toc-item\"><li><span><a href=\"#Загрузка-и-предобработка-данных\" data-toc-modified-id=\"Загрузка-и-предобработка-данных-1\"><span class=\"toc-item-num\">1&nbsp;&nbsp;</span>Загрузка и предобработка данных</a></span></li><li><span><a href=\"#Исследовательский-анализ-данных\" data-toc-modified-id=\"Исследовательский-анализ-данных-2\"><span class=\"toc-item-num\">2&nbsp;&nbsp;</span>Исследовательский анализ данных</a></span></li><li><span><a href=\"#Статистическая-проверка-гипотез\" data-toc-modified-id=\"Статистическая-проверка-гипотез-3\"><span class=\"toc-item-num\">3&nbsp;&nbsp;</span>Статистическая проверка гипотез</a></span></li><li><span><a href=\"#Общий-вывод\" data-toc-modified-id=\"Общий-вывод-4\"><span class=\"toc-item-num\">4&nbsp;&nbsp;</span>Общий вывод</a></span></li></ul></div>"
   ]
  },
  {
   "cell_type": "markdown",
   "metadata": {},
   "source": [
    "# Определение перспективного тарифа для телеком-оператора\n",
    "\n",
    "Целью данного исследования является сравнение и анализ клиентских тарифов телеком-оператора. Чтобы скорректировать рекламный бюджет, необходимо понять, какой тариф приносит больше денег.\n",
    "\n",
    "Для анализа имеются данные по небольшой выборке клиентов:\n",
    " - информация о пользователях\n",
    " - информация о тарифах\n",
    " - информация о звонках\n",
    " - информация о сообщениях\n",
    " - информация об интернет-сессиях\n",
    " \n",
    "Необходимо проверить гипотезы:\n",
    " - средняя выручка пользователей тарифов «Ультра» и «Смарт» различается\n",
    " - средняя выручка пользователей из Москвы отличается от выручки пользователей из других регионов\n",
    " \n"
   ]
  },
  {
   "cell_type": "markdown",
   "metadata": {},
   "source": [
    "## Загрузка и предобработка данных"
   ]
  },
  {
   "cell_type": "markdown",
   "metadata": {},
   "source": [
    "Импортируем библиотеки:"
   ]
  },
  {
   "cell_type": "code",
   "execution_count": 1,
   "metadata": {},
   "outputs": [],
   "source": [
    "import pandas as pd\n",
    "import numpy as np\n",
    "import matplotlib.pyplot as plt\n",
    "import seaborn as sns\n",
    "from functools import reduce\n",
    "import math\n",
    "from scipy import stats as st\n",
    "import warnings\n",
    "import matplotlib.cbook\n",
    "warnings.filterwarnings(\"ignore\",category=matplotlib.cbook.mplDeprecation)\n",
    "\n",
    "pd.set_option('display.float_format', '{:,.2f}'.format)"
   ]
  },
  {
   "cell_type": "markdown",
   "metadata": {},
   "source": [
    "Загрузим файлы с данными о пользователях, звонках, сообщениях, интернет-сессиях и тарифах и сохраним их в переменные `users`, `calls`, `messages`, `internet` и `tariffs`. Выведем на экран первые 5 строк таблиц:"
   ]
  },
  {
   "cell_type": "code",
   "execution_count": 2,
   "metadata": {},
   "outputs": [
    {
     "data": {
      "text/html": [
       "<div>\n",
       "<style scoped>\n",
       "    .dataframe tbody tr th:only-of-type {\n",
       "        vertical-align: middle;\n",
       "    }\n",
       "\n",
       "    .dataframe tbody tr th {\n",
       "        vertical-align: top;\n",
       "    }\n",
       "\n",
       "    .dataframe thead th {\n",
       "        text-align: right;\n",
       "    }\n",
       "</style>\n",
       "<table border=\"1\" class=\"dataframe\">\n",
       "  <thead>\n",
       "    <tr style=\"text-align: right;\">\n",
       "      <th></th>\n",
       "      <th>user_id</th>\n",
       "      <th>age</th>\n",
       "      <th>churn_date</th>\n",
       "      <th>city</th>\n",
       "      <th>first_name</th>\n",
       "      <th>last_name</th>\n",
       "      <th>reg_date</th>\n",
       "      <th>tariff</th>\n",
       "    </tr>\n",
       "  </thead>\n",
       "  <tbody>\n",
       "    <tr>\n",
       "      <th>0</th>\n",
       "      <td>1000</td>\n",
       "      <td>52</td>\n",
       "      <td>NaN</td>\n",
       "      <td>Краснодар</td>\n",
       "      <td>Рафаил</td>\n",
       "      <td>Верещагин</td>\n",
       "      <td>2018-05-25</td>\n",
       "      <td>ultra</td>\n",
       "    </tr>\n",
       "    <tr>\n",
       "      <th>1</th>\n",
       "      <td>1001</td>\n",
       "      <td>41</td>\n",
       "      <td>NaN</td>\n",
       "      <td>Москва</td>\n",
       "      <td>Иван</td>\n",
       "      <td>Ежов</td>\n",
       "      <td>2018-11-01</td>\n",
       "      <td>smart</td>\n",
       "    </tr>\n",
       "    <tr>\n",
       "      <th>2</th>\n",
       "      <td>1002</td>\n",
       "      <td>59</td>\n",
       "      <td>NaN</td>\n",
       "      <td>Стерлитамак</td>\n",
       "      <td>Евгений</td>\n",
       "      <td>Абрамович</td>\n",
       "      <td>2018-06-17</td>\n",
       "      <td>smart</td>\n",
       "    </tr>\n",
       "    <tr>\n",
       "      <th>3</th>\n",
       "      <td>1003</td>\n",
       "      <td>23</td>\n",
       "      <td>NaN</td>\n",
       "      <td>Москва</td>\n",
       "      <td>Белла</td>\n",
       "      <td>Белякова</td>\n",
       "      <td>2018-08-17</td>\n",
       "      <td>ultra</td>\n",
       "    </tr>\n",
       "    <tr>\n",
       "      <th>4</th>\n",
       "      <td>1004</td>\n",
       "      <td>68</td>\n",
       "      <td>NaN</td>\n",
       "      <td>Новокузнецк</td>\n",
       "      <td>Татьяна</td>\n",
       "      <td>Авдеенко</td>\n",
       "      <td>2018-05-14</td>\n",
       "      <td>ultra</td>\n",
       "    </tr>\n",
       "  </tbody>\n",
       "</table>\n",
       "</div>"
      ],
      "text/plain": [
       "   user_id  age churn_date         city first_name  last_name    reg_date  \\\n",
       "0     1000   52        NaN    Краснодар     Рафаил  Верещагин  2018-05-25   \n",
       "1     1001   41        NaN       Москва       Иван       Ежов  2018-11-01   \n",
       "2     1002   59        NaN  Стерлитамак    Евгений  Абрамович  2018-06-17   \n",
       "3     1003   23        NaN       Москва      Белла   Белякова  2018-08-17   \n",
       "4     1004   68        NaN  Новокузнецк    Татьяна   Авдеенко  2018-05-14   \n",
       "\n",
       "  tariff  \n",
       "0  ultra  \n",
       "1  smart  \n",
       "2  smart  \n",
       "3  ultra  \n",
       "4  ultra  "
      ]
     },
     "metadata": {},
     "output_type": "display_data"
    },
    {
     "data": {
      "text/html": [
       "<div>\n",
       "<style scoped>\n",
       "    .dataframe tbody tr th:only-of-type {\n",
       "        vertical-align: middle;\n",
       "    }\n",
       "\n",
       "    .dataframe tbody tr th {\n",
       "        vertical-align: top;\n",
       "    }\n",
       "\n",
       "    .dataframe thead th {\n",
       "        text-align: right;\n",
       "    }\n",
       "</style>\n",
       "<table border=\"1\" class=\"dataframe\">\n",
       "  <thead>\n",
       "    <tr style=\"text-align: right;\">\n",
       "      <th></th>\n",
       "      <th>id</th>\n",
       "      <th>call_date</th>\n",
       "      <th>duration</th>\n",
       "      <th>user_id</th>\n",
       "    </tr>\n",
       "  </thead>\n",
       "  <tbody>\n",
       "    <tr>\n",
       "      <th>0</th>\n",
       "      <td>1000_0</td>\n",
       "      <td>2018-07-25</td>\n",
       "      <td>0.00</td>\n",
       "      <td>1000</td>\n",
       "    </tr>\n",
       "    <tr>\n",
       "      <th>1</th>\n",
       "      <td>1000_1</td>\n",
       "      <td>2018-08-17</td>\n",
       "      <td>0.00</td>\n",
       "      <td>1000</td>\n",
       "    </tr>\n",
       "    <tr>\n",
       "      <th>2</th>\n",
       "      <td>1000_2</td>\n",
       "      <td>2018-06-11</td>\n",
       "      <td>2.85</td>\n",
       "      <td>1000</td>\n",
       "    </tr>\n",
       "    <tr>\n",
       "      <th>3</th>\n",
       "      <td>1000_3</td>\n",
       "      <td>2018-09-21</td>\n",
       "      <td>13.80</td>\n",
       "      <td>1000</td>\n",
       "    </tr>\n",
       "    <tr>\n",
       "      <th>4</th>\n",
       "      <td>1000_4</td>\n",
       "      <td>2018-12-15</td>\n",
       "      <td>5.18</td>\n",
       "      <td>1000</td>\n",
       "    </tr>\n",
       "  </tbody>\n",
       "</table>\n",
       "</div>"
      ],
      "text/plain": [
       "       id   call_date  duration  user_id\n",
       "0  1000_0  2018-07-25      0.00     1000\n",
       "1  1000_1  2018-08-17      0.00     1000\n",
       "2  1000_2  2018-06-11      2.85     1000\n",
       "3  1000_3  2018-09-21     13.80     1000\n",
       "4  1000_4  2018-12-15      5.18     1000"
      ]
     },
     "metadata": {},
     "output_type": "display_data"
    },
    {
     "data": {
      "text/html": [
       "<div>\n",
       "<style scoped>\n",
       "    .dataframe tbody tr th:only-of-type {\n",
       "        vertical-align: middle;\n",
       "    }\n",
       "\n",
       "    .dataframe tbody tr th {\n",
       "        vertical-align: top;\n",
       "    }\n",
       "\n",
       "    .dataframe thead th {\n",
       "        text-align: right;\n",
       "    }\n",
       "</style>\n",
       "<table border=\"1\" class=\"dataframe\">\n",
       "  <thead>\n",
       "    <tr style=\"text-align: right;\">\n",
       "      <th></th>\n",
       "      <th>id</th>\n",
       "      <th>message_date</th>\n",
       "      <th>user_id</th>\n",
       "    </tr>\n",
       "  </thead>\n",
       "  <tbody>\n",
       "    <tr>\n",
       "      <th>0</th>\n",
       "      <td>1000_0</td>\n",
       "      <td>2018-06-27</td>\n",
       "      <td>1000</td>\n",
       "    </tr>\n",
       "    <tr>\n",
       "      <th>1</th>\n",
       "      <td>1000_1</td>\n",
       "      <td>2018-10-08</td>\n",
       "      <td>1000</td>\n",
       "    </tr>\n",
       "    <tr>\n",
       "      <th>2</th>\n",
       "      <td>1000_2</td>\n",
       "      <td>2018-08-04</td>\n",
       "      <td>1000</td>\n",
       "    </tr>\n",
       "    <tr>\n",
       "      <th>3</th>\n",
       "      <td>1000_3</td>\n",
       "      <td>2018-06-16</td>\n",
       "      <td>1000</td>\n",
       "    </tr>\n",
       "    <tr>\n",
       "      <th>4</th>\n",
       "      <td>1000_4</td>\n",
       "      <td>2018-12-05</td>\n",
       "      <td>1000</td>\n",
       "    </tr>\n",
       "  </tbody>\n",
       "</table>\n",
       "</div>"
      ],
      "text/plain": [
       "       id message_date  user_id\n",
       "0  1000_0   2018-06-27     1000\n",
       "1  1000_1   2018-10-08     1000\n",
       "2  1000_2   2018-08-04     1000\n",
       "3  1000_3   2018-06-16     1000\n",
       "4  1000_4   2018-12-05     1000"
      ]
     },
     "metadata": {},
     "output_type": "display_data"
    },
    {
     "data": {
      "text/html": [
       "<div>\n",
       "<style scoped>\n",
       "    .dataframe tbody tr th:only-of-type {\n",
       "        vertical-align: middle;\n",
       "    }\n",
       "\n",
       "    .dataframe tbody tr th {\n",
       "        vertical-align: top;\n",
       "    }\n",
       "\n",
       "    .dataframe thead th {\n",
       "        text-align: right;\n",
       "    }\n",
       "</style>\n",
       "<table border=\"1\" class=\"dataframe\">\n",
       "  <thead>\n",
       "    <tr style=\"text-align: right;\">\n",
       "      <th></th>\n",
       "      <th>id</th>\n",
       "      <th>mb_used</th>\n",
       "      <th>session_date</th>\n",
       "      <th>user_id</th>\n",
       "    </tr>\n",
       "  </thead>\n",
       "  <tbody>\n",
       "    <tr>\n",
       "      <th>0</th>\n",
       "      <td>1000_0</td>\n",
       "      <td>112.95</td>\n",
       "      <td>2018-11-25</td>\n",
       "      <td>1000</td>\n",
       "    </tr>\n",
       "    <tr>\n",
       "      <th>1</th>\n",
       "      <td>1000_1</td>\n",
       "      <td>1,052.81</td>\n",
       "      <td>2018-09-07</td>\n",
       "      <td>1000</td>\n",
       "    </tr>\n",
       "    <tr>\n",
       "      <th>2</th>\n",
       "      <td>1000_2</td>\n",
       "      <td>1,197.26</td>\n",
       "      <td>2018-06-25</td>\n",
       "      <td>1000</td>\n",
       "    </tr>\n",
       "    <tr>\n",
       "      <th>3</th>\n",
       "      <td>1000_3</td>\n",
       "      <td>550.27</td>\n",
       "      <td>2018-08-22</td>\n",
       "      <td>1000</td>\n",
       "    </tr>\n",
       "    <tr>\n",
       "      <th>4</th>\n",
       "      <td>1000_4</td>\n",
       "      <td>302.56</td>\n",
       "      <td>2018-09-24</td>\n",
       "      <td>1000</td>\n",
       "    </tr>\n",
       "  </tbody>\n",
       "</table>\n",
       "</div>"
      ],
      "text/plain": [
       "       id  mb_used session_date  user_id\n",
       "0  1000_0   112.95   2018-11-25     1000\n",
       "1  1000_1 1,052.81   2018-09-07     1000\n",
       "2  1000_2 1,197.26   2018-06-25     1000\n",
       "3  1000_3   550.27   2018-08-22     1000\n",
       "4  1000_4   302.56   2018-09-24     1000"
      ]
     },
     "metadata": {},
     "output_type": "display_data"
    },
    {
     "data": {
      "text/html": [
       "<div>\n",
       "<style scoped>\n",
       "    .dataframe tbody tr th:only-of-type {\n",
       "        vertical-align: middle;\n",
       "    }\n",
       "\n",
       "    .dataframe tbody tr th {\n",
       "        vertical-align: top;\n",
       "    }\n",
       "\n",
       "    .dataframe thead th {\n",
       "        text-align: right;\n",
       "    }\n",
       "</style>\n",
       "<table border=\"1\" class=\"dataframe\">\n",
       "  <thead>\n",
       "    <tr style=\"text-align: right;\">\n",
       "      <th></th>\n",
       "      <th>messages_included</th>\n",
       "      <th>mb_per_month_included</th>\n",
       "      <th>minutes_included</th>\n",
       "      <th>rub_monthly_fee</th>\n",
       "      <th>rub_per_gb</th>\n",
       "      <th>rub_per_message</th>\n",
       "      <th>rub_per_minute</th>\n",
       "      <th>tariff_name</th>\n",
       "    </tr>\n",
       "  </thead>\n",
       "  <tbody>\n",
       "    <tr>\n",
       "      <th>0</th>\n",
       "      <td>50</td>\n",
       "      <td>15360</td>\n",
       "      <td>500</td>\n",
       "      <td>550</td>\n",
       "      <td>200</td>\n",
       "      <td>3</td>\n",
       "      <td>3</td>\n",
       "      <td>smart</td>\n",
       "    </tr>\n",
       "    <tr>\n",
       "      <th>1</th>\n",
       "      <td>1000</td>\n",
       "      <td>30720</td>\n",
       "      <td>3000</td>\n",
       "      <td>1950</td>\n",
       "      <td>150</td>\n",
       "      <td>1</td>\n",
       "      <td>1</td>\n",
       "      <td>ultra</td>\n",
       "    </tr>\n",
       "  </tbody>\n",
       "</table>\n",
       "</div>"
      ],
      "text/plain": [
       "   messages_included  mb_per_month_included  minutes_included  \\\n",
       "0                 50                  15360               500   \n",
       "1               1000                  30720              3000   \n",
       "\n",
       "   rub_monthly_fee  rub_per_gb  rub_per_message  rub_per_minute tariff_name  \n",
       "0              550         200                3               3       smart  \n",
       "1             1950         150                1               1       ultra  "
      ]
     },
     "metadata": {},
     "output_type": "display_data"
    }
   ],
   "source": [
    "users = pd.read_csv('/datasets/users.csv')\n",
    "calls = pd.read_csv('/datasets/calls.csv')\n",
    "messages = pd.read_csv('/datasets/messages.csv')\n",
    "internet = pd.read_csv('/datasets/internet.csv', index_col=0)\n",
    "tariffs = pd.read_csv('/datasets/tariffs.csv')\n",
    "\n",
    "display(users.head())\n",
    "display(calls.head())\n",
    "display(messages.head())\n",
    "display(internet.head())\n",
    "display(tariffs.head())"
   ]
  },
  {
   "cell_type": "markdown",
   "metadata": {},
   "source": [
    "Согласно документации к данным:\n",
    "\n",
    "Таблица **`users`** (информация о пользователях):\n",
    "- `user_id` — уникальный идентификатор пользователя\n",
    "- `first_name` — имя пользователя\n",
    "- `last_name` — фамилия пользователя\n",
    "- `age` — возраст пользователя (годы)\n",
    "- `reg_date` — дата подключения тарифа (день, месяц, год)\n",
    "- `churn_date` — дата прекращения пользования тарифом (если значение пропущено, то тариф ещё действовал на момент выгрузки данных)\n",
    "- `city` — город проживания пользователя\n",
    "- `tariff` — название тарифного плана\n",
    "\n",
    "Таблица **`calls`** (информация о звонках):\n",
    "- `id` — уникальный номер звонка\n",
    "- `call_date` — дата звонка\n",
    "- `duration` — длительность звонка в минутах\n",
    "- `user_id` — идентификатор пользователя, сделавшего звонок\n",
    "\n",
    "Таблица **`messages`** (информация о сообщениях):\n",
    "- `id` — уникальный номер сообщения\n",
    "- `message_date` — дата сообщения\n",
    "- `user_id` — идентификатор пользователя, отправившего сообщение\n",
    "\n",
    "Таблица **`internet`** (информация об интернет-сессиях):\n",
    "- `id` — уникальный номер сессии\n",
    "- `mb_used` — объём потраченного за сессию интернет-трафика (в мегабайтах)\n",
    "- `session_date` — дата интернет-сессии\n",
    "- `user_id` — идентификатор пользователя\n",
    "\n",
    "Таблица **`tariffs`** (информация о тарифах):\n",
    "- `tariff_name` — название тарифа\n",
    "- `rub_monthly_fee` — ежемесячная абонентская плата в рублях\n",
    "- `minutes_included` — количество минут разговора в месяц, включённых в абонентскую плату\n",
    "- `messages_included` — количество сообщений в месяц, включённых в абонентскую плату\n",
    "- `mb_per_month_included` — объём интернет-трафика, включённого в абонентскую плату (в мегабайтах)\n",
    "- `rub_per_minute` — стоимость минуты разговора сверх тарифного пакета\n",
    "- `rub_per_message` — стоимость отправки сообщения сверх тарифного пакета\n",
    "- `rub_per_gb` — стоимость дополнительного гигабайта интернет-трафика сверх тарифного пакета (1 гигабайт = 1024 мегабайта)"
   ]
  },
  {
   "cell_type": "markdown",
   "metadata": {},
   "source": [
    "Изучим общую информацию о таблицах:"
   ]
  },
  {
   "cell_type": "code",
   "execution_count": 3,
   "metadata": {},
   "outputs": [
    {
     "name": "stdout",
     "output_type": "stream",
     "text": [
      "<class 'pandas.core.frame.DataFrame'>\n",
      "RangeIndex: 500 entries, 0 to 499\n",
      "Data columns (total 8 columns):\n",
      " #   Column      Non-Null Count  Dtype \n",
      "---  ------      --------------  ----- \n",
      " 0   user_id     500 non-null    int64 \n",
      " 1   age         500 non-null    int64 \n",
      " 2   churn_date  38 non-null     object\n",
      " 3   city        500 non-null    object\n",
      " 4   first_name  500 non-null    object\n",
      " 5   last_name   500 non-null    object\n",
      " 6   reg_date    500 non-null    object\n",
      " 7   tariff      500 non-null    object\n",
      "dtypes: int64(2), object(6)\n",
      "memory usage: 31.4+ KB\n",
      "\n",
      "\n",
      "\n",
      "<class 'pandas.core.frame.DataFrame'>\n",
      "RangeIndex: 202607 entries, 0 to 202606\n",
      "Data columns (total 4 columns):\n",
      " #   Column     Non-Null Count   Dtype  \n",
      "---  ------     --------------   -----  \n",
      " 0   id         202607 non-null  object \n",
      " 1   call_date  202607 non-null  object \n",
      " 2   duration   202607 non-null  float64\n",
      " 3   user_id    202607 non-null  int64  \n",
      "dtypes: float64(1), int64(1), object(2)\n",
      "memory usage: 6.2+ MB\n",
      "\n",
      "\n",
      "\n",
      "<class 'pandas.core.frame.DataFrame'>\n",
      "RangeIndex: 123036 entries, 0 to 123035\n",
      "Data columns (total 3 columns):\n",
      " #   Column        Non-Null Count   Dtype \n",
      "---  ------        --------------   ----- \n",
      " 0   id            123036 non-null  object\n",
      " 1   message_date  123036 non-null  object\n",
      " 2   user_id       123036 non-null  int64 \n",
      "dtypes: int64(1), object(2)\n",
      "memory usage: 2.8+ MB\n",
      "\n",
      "\n",
      "\n",
      "<class 'pandas.core.frame.DataFrame'>\n",
      "Int64Index: 149396 entries, 0 to 149395\n",
      "Data columns (total 4 columns):\n",
      " #   Column        Non-Null Count   Dtype  \n",
      "---  ------        --------------   -----  \n",
      " 0   id            149396 non-null  object \n",
      " 1   mb_used       149396 non-null  float64\n",
      " 2   session_date  149396 non-null  object \n",
      " 3   user_id       149396 non-null  int64  \n",
      "dtypes: float64(1), int64(1), object(2)\n",
      "memory usage: 5.7+ MB\n",
      "\n",
      "\n",
      "\n",
      "<class 'pandas.core.frame.DataFrame'>\n",
      "RangeIndex: 2 entries, 0 to 1\n",
      "Data columns (total 8 columns):\n",
      " #   Column                 Non-Null Count  Dtype \n",
      "---  ------                 --------------  ----- \n",
      " 0   messages_included      2 non-null      int64 \n",
      " 1   mb_per_month_included  2 non-null      int64 \n",
      " 2   minutes_included       2 non-null      int64 \n",
      " 3   rub_monthly_fee        2 non-null      int64 \n",
      " 4   rub_per_gb             2 non-null      int64 \n",
      " 5   rub_per_message        2 non-null      int64 \n",
      " 6   rub_per_minute         2 non-null      int64 \n",
      " 7   tariff_name            2 non-null      object\n",
      "dtypes: int64(7), object(1)\n",
      "memory usage: 256.0+ bytes\n",
      "\n",
      "\n",
      "\n"
     ]
    }
   ],
   "source": [
    "tables = [users, calls, messages, internet, tariffs]\n",
    "\n",
    "for i in tables:\n",
    "    i.info()\n",
    "    print('\\n' * 2)"
   ]
  },
  {
   "cell_type": "markdown",
   "metadata": {},
   "source": [
    "Заменим тип данных в столбцах с датой с текстового на `datetime`:"
   ]
  },
  {
   "cell_type": "code",
   "execution_count": 4,
   "metadata": {},
   "outputs": [],
   "source": [
    "users['churn_date'] = pd.to_datetime(users['churn_date'])\n",
    "calls['call_date'] = pd.to_datetime(calls['call_date'])\n",
    "messages['message_date'] = pd.to_datetime(messages['message_date'])\n",
    "internet['session_date'] = pd.to_datetime(internet['session_date'])"
   ]
  },
  {
   "cell_type": "markdown",
   "metadata": {},
   "source": [
    "Проверим наличие явных дубликатов в таблицах:"
   ]
  },
  {
   "cell_type": "code",
   "execution_count": 5,
   "metadata": {
    "scrolled": true
   },
   "outputs": [
    {
     "name": "stdout",
     "output_type": "stream",
     "text": [
      "Количество дубликатов в users : 0\n",
      "Количество дубликатов в calls : 0\n",
      "Количество дубликатов в messages : 0\n",
      "Количество дубликатов в internet : 0\n",
      "Количество дубликатов в tariffs : 0\n"
     ]
    }
   ],
   "source": [
    "table_name = ['users', 'calls', 'messages', 'internet', 'tariffs']\n",
    "j=-1\n",
    "\n",
    "for i in tables:\n",
    "    j +=1\n",
    "    print('Количество дубликатов в', table_name[j],':', i.duplicated().sum())"
   ]
  },
  {
   "cell_type": "markdown",
   "metadata": {},
   "source": [
    "Явные дубликаты в таблицах не обнаружены. \n",
    "\n",
    "Проверим наличие пропусков в таблицах:"
   ]
  },
  {
   "cell_type": "code",
   "execution_count": 6,
   "metadata": {},
   "outputs": [
    {
     "name": "stdout",
     "output_type": "stream",
     "text": [
      "Количество пропусков в таблице users :\n",
      " user_id      0.00\n",
      "age          0.00\n",
      "churn_date   0.92\n",
      "city         0.00\n",
      "first_name   0.00\n",
      "last_name    0.00\n",
      "reg_date     0.00\n",
      "tariff       0.00\n",
      "dtype: float64 \n",
      "\n",
      "Количество пропусков в таблице calls :\n",
      " id          0.00\n",
      "call_date   0.00\n",
      "duration    0.00\n",
      "user_id     0.00\n",
      "dtype: float64 \n",
      "\n",
      "Количество пропусков в таблице messages :\n",
      " id             0.00\n",
      "message_date   0.00\n",
      "user_id        0.00\n",
      "dtype: float64 \n",
      "\n",
      "Количество пропусков в таблице internet :\n",
      " id             0.00\n",
      "mb_used        0.00\n",
      "session_date   0.00\n",
      "user_id        0.00\n",
      "dtype: float64 \n",
      "\n",
      "Количество пропусков в таблице tariffs :\n",
      " messages_included       0.00\n",
      "mb_per_month_included   0.00\n",
      "minutes_included        0.00\n",
      "rub_monthly_fee         0.00\n",
      "rub_per_gb              0.00\n",
      "rub_per_message         0.00\n",
      "rub_per_minute          0.00\n",
      "tariff_name             0.00\n",
      "dtype: float64 \n",
      "\n"
     ]
    }
   ],
   "source": [
    "j=-1\n",
    "for i in tables:\n",
    "    j +=1\n",
    "    print('Количество пропусков в таблице', table_name[j],':\\n', round(i.isna().mean(), 2), '\\n')"
   ]
  },
  {
   "cell_type": "markdown",
   "metadata": {},
   "source": [
    "В столбце `churn_date` присутствует значительное количество пропусков, но согласно документации к данным, если значение в данном поле пропущено, то тариф ещё действовал на момент выгрузки, поэтому наличие данных пропусков не является ошибкой."
   ]
  },
  {
   "cell_type": "markdown",
   "metadata": {},
   "source": [
    "## Исследовательский анализ данных"
   ]
  },
  {
   "cell_type": "markdown",
   "metadata": {},
   "source": [
    "Объединим данные о тарифах, звонках, сообщениях и интернет-сессиях в единый датафрейм и сгруппируем его помесячно. \n",
    "\n",
    "Оператор всегда округляет секунды до минут, а мегабайты — до гигабайт. Каждый звонок округляется отдельно, а для веб-трафика отдельные сессии не считаются. Округлим длительность звонков согласно тарифам:"
   ]
  },
  {
   "cell_type": "code",
   "execution_count": 7,
   "metadata": {},
   "outputs": [],
   "source": [
    "calls['duration_rounded'] = calls['duration'].apply(lambda x: math.ceil(x))"
   ]
  },
  {
   "cell_type": "markdown",
   "metadata": {},
   "source": [
    "Добавим столбец с месяцем:"
   ]
  },
  {
   "cell_type": "code",
   "execution_count": 8,
   "metadata": {},
   "outputs": [],
   "source": [
    "calls['month'] = calls['call_date'].dt.strftime('%Y-%m')\n",
    "messages['month'] = messages['message_date'].dt.strftime('%Y-%m')\n",
    "internet['month'] = internet['session_date'].dt.strftime('%Y-%m')"
   ]
  },
  {
   "cell_type": "markdown",
   "metadata": {},
   "source": [
    "Далее сгруппируем данные по месяцу и `user_id`:"
   ]
  },
  {
   "cell_type": "code",
   "execution_count": 9,
   "metadata": {},
   "outputs": [],
   "source": [
    "calls_grouped = calls.groupby(['month', 'user_id'])['duration_rounded'].sum().reset_index()\n",
    "messages_grouped = messages.groupby(['month', 'user_id'])['id'].count().reset_index().rename(columns={'id':'message_count'})\n",
    "internet_grouped = internet.groupby(['month', 'user_id'])['mb_used'].sum().reset_index()"
   ]
  },
  {
   "cell_type": "markdown",
   "metadata": {},
   "source": [
    "Объединим датафреймы по полю `user_id` и `month`:"
   ]
  },
  {
   "cell_type": "code",
   "execution_count": 10,
   "metadata": {},
   "outputs": [],
   "source": [
    "dfs = [calls_grouped, messages_grouped, internet_grouped]\n",
    "df_merged = reduce(lambda left, right: pd.merge(left, right, on=['user_id', 'month'], how='outer'), dfs).fillna(0)"
   ]
  },
  {
   "cell_type": "markdown",
   "metadata": {},
   "source": [
    "Обогатим полученный датафрейм данными о пользователе и тарифе:"
   ]
  },
  {
   "cell_type": "code",
   "execution_count": 11,
   "metadata": {},
   "outputs": [],
   "source": [
    "df_merged = df_merged.merge(users[['user_id', 'tariff', 'city']], on='user_id', how='left')\n",
    "df_merged = df_merged.merge(tariffs, left_on='tariff', right_on='tariff_name', how='left').drop(columns=['tariff_name'])"
   ]
  },
  {
   "cell_type": "markdown",
   "metadata": {},
   "source": [
    "Добавим информацию о перерасходе услуг:"
   ]
  },
  {
   "cell_type": "code",
   "execution_count": 12,
   "metadata": {},
   "outputs": [],
   "source": [
    "# перерасход минут\n",
    "df_merged['minutes_extra'] = (df_merged['duration_rounded'] - df_merged['minutes_included']).clip(lower=0)\n",
    "\n",
    "# перерасход сообщений\n",
    "df_merged['messages_extra'] = (df_merged['message_count'] - df_merged['messages_included']).clip(lower=0)\n",
    "\n",
    "# перерасход трафика и округление вверх\n",
    "df_merged['gb_extra'] = (df_merged['mb_used'] - df_merged['mb_per_month_included']\n",
    "                        ).apply(lambda x: math.ceil(x / 1024)).clip(lower=0)"
   ]
  },
  {
   "cell_type": "markdown",
   "metadata": {},
   "source": [
    "Добавим информацию о выручке по пользователю с учетом перерасхода услуг, включенных в тариф:"
   ]
  },
  {
   "cell_type": "code",
   "execution_count": 13,
   "metadata": {},
   "outputs": [],
   "source": [
    "df_merged['revenue'] = (\n",
    "    df_merged['rub_monthly_fee']\n",
    "    + df_merged['rub_per_minute'] * df_merged['minutes_extra']\n",
    "    + df_merged['rub_per_message'] * df_merged['messages_extra']\n",
    "    + df_merged['rub_per_gb'] * df_merged['gb_extra']\n",
    ")"
   ]
  },
  {
   "cell_type": "markdown",
   "metadata": {},
   "source": [
    "Добавим информацию об объеме использованного интернет-трафика в Гб:"
   ]
  },
  {
   "cell_type": "code",
   "execution_count": 14,
   "metadata": {},
   "outputs": [],
   "source": [
    "df_merged['gb_used'] = df_merged['mb_used'] / 1024"
   ]
  },
  {
   "cell_type": "markdown",
   "metadata": {},
   "source": [
    "Проверим корректность объединения датафреймов:"
   ]
  },
  {
   "cell_type": "code",
   "execution_count": 15,
   "metadata": {},
   "outputs": [
    {
     "name": "stdout",
     "output_type": "stream",
     "text": [
      "1450301.0 — длительность звонков в исходном датафрейме\n",
      "1450301.0 — длительность звонков в объединенном датафрейме\n",
      "\n",
      "\n",
      "123036.0 — количество сообщений в исходном датафрейме\n",
      "123036.0 — количество сообщений в объединенном датафрейме\n",
      "\n",
      "\n",
      "55305268.0 — объем интернет-трафика в исходном датафрейме\n",
      "55305268.0 — объем интернет-трафика в объединенном датафрейме\n"
     ]
    }
   ],
   "source": [
    "print(calls['duration_rounded'].sum().round(0).astype('float'), '— длительность звонков в исходном датафрейме')\n",
    "print(df_merged['duration_rounded'].sum().round(0), '— длительность звонков в объединенном датафрейме')\n",
    "print('\\n')\n",
    "\n",
    "print(messages['id'].count().astype('float'), '— количество сообщений в исходном датафрейме')\n",
    "print(df_merged['message_count'].sum(), '— количество сообщений в объединенном датафрейме')\n",
    "print('\\n')\n",
    "\n",
    "print(internet['mb_used'].sum().round(0), '— объем интернет-трафика в исходном датафрейме')\n",
    "print(df_merged['mb_used'].sum().round(0), '— объем интернет-трафика в объединенном датафрейме')"
   ]
  },
  {
   "cell_type": "markdown",
   "metadata": {},
   "source": [
    "Данные объединены корректно.\n",
    "\n",
    "Изучим распределение длительности звонков, количества сообщений и объема интернет-трафика в разрезе тарифов:"
   ]
  },
  {
   "cell_type": "code",
   "execution_count": 16,
   "metadata": {},
   "outputs": [
    {
     "data": {
      "image/png": "[encoded data removed]",
      "text/plain": [
       "<Figure size 720x864 with 3 Axes>"
      ]
     },
     "metadata": {
      "needs_background": "light"
     },
     "output_type": "display_data"
    }
   ],
   "source": [
    "columns=['duration_rounded', 'message_count', 'gb_used']\n",
    "title={'duration_rounded':'Длительность звонков', 'message_count':'Количество сообщений', 'gb_used':'Объем трафика'}\n",
    "unit={'duration_rounded':'мин.', 'message_count':'шт.', 'gb_used':'Гбайт'}\n",
    "\n",
    "plt.figure(figsize=(10, 12))\n",
    "plt.suptitle('Распределение клиентской активности по тарифам', fontsize=14, fontweight='bold')     \n",
    "\n",
    "counter = 0\n",
    "for column in columns:\n",
    "    counter += 1\n",
    "    for tariff in df_merged['tariff'].unique():\n",
    "        plt.subplot(3, 1, counter)\n",
    "        plt.subplots_adjust(hspace=0.5)\n",
    "        sns.kdeplot(df_merged.query('tariff == @tariff')[column], label=tariff, shade=True)\n",
    "        plt.xlabel(unit[column])\n",
    "        plt.title(title[column], pad=10)\n",
    "        sns.despine()\n",
    "plt.legend(bbox_to_anchor=[1, 4], frameon=False)\n",
    "plt.show()"
   ]
  },
  {
   "cell_type": "markdown",
   "metadata": {},
   "source": [
    "Из распределений видно, что данные пользователей тарифа «Смарт» имеют более выраженный пик значений и меньшую дисперсию.\n",
    "\n",
    "Изучим описательную статистику по клиентской активности в разрезе тарифов:"
   ]
  },
  {
   "cell_type": "code",
   "execution_count": 17,
   "metadata": {},
   "outputs": [
    {
     "data": {
      "text/html": [
       "<div>\n",
       "<style scoped>\n",
       "    .dataframe tbody tr th:only-of-type {\n",
       "        vertical-align: middle;\n",
       "    }\n",
       "\n",
       "    .dataframe tbody tr th {\n",
       "        vertical-align: top;\n",
       "    }\n",
       "\n",
       "    .dataframe thead th {\n",
       "        text-align: right;\n",
       "    }\n",
       "</style>\n",
       "<table border=\"1\" class=\"dataframe\">\n",
       "  <thead>\n",
       "    <tr style=\"text-align: right;\">\n",
       "      <th></th>\n",
       "      <th>tariff</th>\n",
       "      <th>smart</th>\n",
       "      <th>ultra</th>\n",
       "    </tr>\n",
       "  </thead>\n",
       "  <tbody>\n",
       "    <tr>\n",
       "      <th rowspan=\"4\" valign=\"top\">mean</th>\n",
       "      <th>duration_rounded</th>\n",
       "      <td>417.93</td>\n",
       "      <td>526.62</td>\n",
       "    </tr>\n",
       "    <tr>\n",
       "      <th>gb_used</th>\n",
       "      <td>15.83</td>\n",
       "      <td>19.01</td>\n",
       "    </tr>\n",
       "    <tr>\n",
       "      <th>message_count</th>\n",
       "      <td>33.38</td>\n",
       "      <td>49.36</td>\n",
       "    </tr>\n",
       "    <tr>\n",
       "      <th>revenue</th>\n",
       "      <td>1,289.97</td>\n",
       "      <td>2,070.15</td>\n",
       "    </tr>\n",
       "    <tr>\n",
       "      <th rowspan=\"4\" valign=\"top\">var</th>\n",
       "      <th>duration_rounded</th>\n",
       "      <td>36,219.32</td>\n",
       "      <td>100,873.63</td>\n",
       "    </tr>\n",
       "    <tr>\n",
       "      <th>gb_used</th>\n",
       "      <td>32.87</td>\n",
       "      <td>97.04</td>\n",
       "    </tr>\n",
       "    <tr>\n",
       "      <th>message_count</th>\n",
       "      <td>796.81</td>\n",
       "      <td>2,285.27</td>\n",
       "    </tr>\n",
       "    <tr>\n",
       "      <th>revenue</th>\n",
       "      <td>669,785.71</td>\n",
       "      <td>141,516.75</td>\n",
       "    </tr>\n",
       "    <tr>\n",
       "      <th rowspan=\"4\" valign=\"top\">std</th>\n",
       "      <th>duration_rounded</th>\n",
       "      <td>190.31</td>\n",
       "      <td>317.61</td>\n",
       "    </tr>\n",
       "    <tr>\n",
       "      <th>gb_used</th>\n",
       "      <td>5.73</td>\n",
       "      <td>9.85</td>\n",
       "    </tr>\n",
       "    <tr>\n",
       "      <th>message_count</th>\n",
       "      <td>28.23</td>\n",
       "      <td>47.80</td>\n",
       "    </tr>\n",
       "    <tr>\n",
       "      <th>revenue</th>\n",
       "      <td>818.40</td>\n",
       "      <td>376.19</td>\n",
       "    </tr>\n",
       "  </tbody>\n",
       "</table>\n",
       "</div>"
      ],
      "text/plain": [
       "tariff                     smart      ultra\n",
       "mean duration_rounded     417.93     526.62\n",
       "     gb_used               15.83      19.01\n",
       "     message_count         33.38      49.36\n",
       "     revenue            1,289.97   2,070.15\n",
       "var  duration_rounded  36,219.32 100,873.63\n",
       "     gb_used               32.87      97.04\n",
       "     message_count        796.81   2,285.27\n",
       "     revenue          669,785.71 141,516.75\n",
       "std  duration_rounded     190.31     317.61\n",
       "     gb_used                5.73       9.85\n",
       "     message_count         28.23      47.80\n",
       "     revenue              818.40     376.19"
      ]
     },
     "execution_count": 17,
     "metadata": {},
     "output_type": "execute_result"
    }
   ],
   "source": [
    "# функция для расчета дисперсии:\n",
    "def var(x):\n",
    "    return np.var(x, ddof=1)\n",
    "\n",
    "# функция для расчета стандартного отклонения:\n",
    "def std(x):\n",
    "    return np.std(x, ddof=1)\n",
    "\n",
    "# сформируем датафрейм с описательной статистикой:\n",
    "df_merged.pivot_table(index='tariff', values=['duration_rounded', 'message_count', 'gb_used', 'revenue'], \n",
    "                      aggfunc=['mean', var, std]).T"
   ]
  },
  {
   "cell_type": "markdown",
   "metadata": {},
   "source": [
    " Пользователи тарифа «Ультра» активней пользуются услугами связи и обладают более выской средней выручкой."
   ]
  },
  {
   "cell_type": "markdown",
   "metadata": {},
   "source": [
    "## Статистическая проверка гипотез"
   ]
  },
  {
   "cell_type": "markdown",
   "metadata": {},
   "source": [
    "Построим график распределения плотности вероятности средней выручки пользователей тарифов «Ультра» и «Смарт»:"
   ]
  },
  {
   "cell_type": "code",
   "execution_count": 18,
   "metadata": {},
   "outputs": [
    {
     "data": {
      "image/png": "[encoded data removed]",
      "text/plain": [
       "<Figure size 720x288 with 1 Axes>"
      ]
     },
     "metadata": {
      "needs_background": "light"
     },
     "output_type": "display_data"
    }
   ],
   "source": [
    "# зададим переменные:\n",
    "smart = df_merged[df_merged['tariff'] == 'smart']['revenue']\n",
    "ultra = df_merged[df_merged['tariff'] == 'ultra']['revenue']\n",
    "\n",
    "plt.figure(figsize=(10, 4))\n",
    "sns.kdeplot(smart, label='smart', shade=True)\n",
    "sns.kdeplot(ultra, label='ultra', shade=True)\n",
    "plt.title('Плотность распределения вероятности', pad=10)\n",
    "plt.xlabel('ARPU')\n",
    "plt.legend(frameon=False)\n",
    "sns.despine()"
   ]
  },
  {
   "cell_type": "markdown",
   "metadata": {},
   "source": [
    "Из распределения видно, что выручка пользователей тарифа «Ультра» выше, чем пользователей тарифа «Смарт».\n",
    "Для оценки статистической значимости данного различия проверим гипотезу о различии средней выручки пользователей тарифов «Ультра» и «Смарт».\n",
    "Сформулируем нулевую гипотезу $H_{0}$: различие в выручке между тарифами «Ультра» и «Смарт» отсутствует. Тогда альтернативная гипотеза $H_{1}$ будет звучать как: различие в выручке между тарифами «Ультра» и «Смарт» статистически значимо. Для проверки гипотезы о равенстве средних двух генеральных совокупностей применим t-тест для независимых выборок:"
   ]
  },
  {
   "cell_type": "code",
   "execution_count": 19,
   "metadata": {},
   "outputs": [
    {
     "name": "stdout",
     "output_type": "stream",
     "text": [
      "p-value: 4.2606313931076085e-250\n",
      "Отвергаем нулевую гипотезу\n"
     ]
    }
   ],
   "source": [
    "# определим критический уровень статистической значимости:\n",
    "alpha = 0.05\n",
    "\n",
    "# применим t-тест:\n",
    "test = st.ttest_ind(smart, ultra, equal_var = False)\n",
    "\n",
    "print('p-value:', test.pvalue)\n",
    "\n",
    "if test.pvalue < alpha:\n",
    "    print('Отвергаем нулевую гипотезу')\n",
    "else:\n",
    "    print('Не получилось отвергнуть нулевую гипотезу') "
   ]
  },
  {
   "cell_type": "markdown",
   "metadata": {},
   "source": [
    "Проверка гипотезы показала, что различие средней выручки пользователей тарифов «Ультра» и «Смарт» статистически значимо, выручка пользователей тарифа «Ультра» выше.\n",
    "\n",
    "Построим график распределения плотности вероятности средней выручки пользователей из Москвы и пользователей из других регионов в разрезе тарифов:"
   ]
  },
  {
   "cell_type": "code",
   "execution_count": 20,
   "metadata": {},
   "outputs": [
    {
     "data": {
      "image/png": "[encoded data removed]",
      "text/plain": [
       "<Figure size 1152x288 with 2 Axes>"
      ]
     },
     "metadata": {
      "needs_background": "light"
     },
     "output_type": "display_data"
    }
   ],
   "source": [
    "# зададим переменные:\n",
    "moscow = df_merged[df_merged['city'] == 'Москва']['revenue']\n",
    "regions = df_merged[df_merged['city'] != 'Москва']['revenue']\n",
    "\n",
    "moscow_smart = df_merged[(df_merged['city'] == 'Москва') & (df_merged['tariff'] == 'smart')]['revenue']\n",
    "regions_smart = df_merged[(df_merged['city'] != 'Москва') & (df_merged['tariff'] == 'smart')]['revenue']\n",
    "moscow_ultra = df_merged[(df_merged['city'] == 'Москва') & (df_merged['tariff'] == 'ultra')]['revenue']\n",
    "regions_ultra = df_merged[(df_merged['city'] != 'Москва') & (df_merged['tariff'] == 'ultra')]['revenue']\n",
    "\n",
    "# тариф «Смарт»\n",
    "plt.figure(figsize=(16, 4))\n",
    "plt.subplot(1, 2, 1)\n",
    "sns.kdeplot(moscow_smart, label='Москва', shade=True)\n",
    "sns.kdeplot(regions_smart, label='Регионы', shade=True)\n",
    "plt.title('Плотность распределения вероятности, тариф «Смарт»', pad=10)\n",
    "plt.xlabel('ARPU')\n",
    "plt.legend(frameon=False)\n",
    "\n",
    "# тариф «Ультра»\n",
    "plt.subplot(1, 2, 2)\n",
    "sns.kdeplot(moscow_ultra, label='Москва', shade=True)\n",
    "sns.kdeplot(regions_ultra, label='Регионы', shade=True)\n",
    "plt.title('Плотность распределения вероятности, тариф «Ультра»', pad=10)\n",
    "plt.xlabel('ARPU')\n",
    "plt.legend('', frameon=False) \n",
    "\n",
    "sns.despine()\n",
    "plt.show()"
   ]
  },
  {
   "cell_type": "markdown",
   "metadata": {},
   "source": [
    "Распределение выручки для пользователей из Москвы и пользователей из других регионов является сопоставимым. Аналогично проверим гипотезу о различии средней выручки пользователей из Москвы и пользователей из других регионов. Сформулируем нулевую гипотезу  $H_{0}$: различие в выручке между пользователями из Москвы и пользователями из других регионов отсутствует. Тогда альтернативная гипотеза  $H_{1}$ будет звучать как: различие в выручке между пользователями из Москвы и пользователями из других регионов статистически значимо. Для проверки гипотезы о равенстве средних двух генеральных совокупностей применим t-тест для независимых выборок:"
   ]
  },
  {
   "cell_type": "code",
   "execution_count": 21,
   "metadata": {},
   "outputs": [
    {
     "name": "stdout",
     "output_type": "stream",
     "text": [
      "p-value: 0.5440152911670224\n",
      "Не получилось отвергнуть нулевую гипотезу\n"
     ]
    }
   ],
   "source": [
    "# определим критический уровень статистической значимости:\n",
    "alpha = 0.05\n",
    "\n",
    "# применим t-тест:\n",
    "test = st.ttest_ind(moscow, regions)\n",
    "\n",
    "print('p-value:', test.pvalue)\n",
    "\n",
    "if test.pvalue < alpha:\n",
    "    print('Отвергаем нулевую гипотезу')\n",
    "else:\n",
    "    print('Не получилось отвергнуть нулевую гипотезу') "
   ]
  },
  {
   "cell_type": "markdown",
   "metadata": {},
   "source": [
    "Проверка гипотезы показала, что статистически значимое различие средней выручки пользователей из Москвы и пользователей из других регионов отсутствует.\n",
    "\n",
    "Рассмотрим суммарную выручку по тарифам:"
   ]
  },
  {
   "cell_type": "code",
   "execution_count": 22,
   "metadata": {},
   "outputs": [
    {
     "data": {
      "text/html": [
       "<div>\n",
       "<style scoped>\n",
       "    .dataframe tbody tr th:only-of-type {\n",
       "        vertical-align: middle;\n",
       "    }\n",
       "\n",
       "    .dataframe tbody tr th {\n",
       "        vertical-align: top;\n",
       "    }\n",
       "\n",
       "    .dataframe thead th {\n",
       "        text-align: right;\n",
       "    }\n",
       "</style>\n",
       "<table border=\"1\" class=\"dataframe\">\n",
       "  <thead>\n",
       "    <tr style=\"text-align: right;\">\n",
       "      <th></th>\n",
       "      <th>Тариф</th>\n",
       "      <th>Выручка</th>\n",
       "      <th>Кол-во клиентов</th>\n",
       "    </tr>\n",
       "  </thead>\n",
       "  <tbody>\n",
       "    <tr>\n",
       "      <th>0</th>\n",
       "      <td>smart</td>\n",
       "      <td>2,875,351.00</td>\n",
       "      <td>350</td>\n",
       "    </tr>\n",
       "    <tr>\n",
       "      <th>1</th>\n",
       "      <td>ultra</td>\n",
       "      <td>2,039,100.00</td>\n",
       "      <td>148</td>\n",
       "    </tr>\n",
       "  </tbody>\n",
       "</table>\n",
       "</div>"
      ],
      "text/plain": [
       "   Тариф      Выручка  Кол-во клиентов\n",
       "0  smart 2,875,351.00              350\n",
       "1  ultra 2,039,100.00              148"
      ]
     },
     "metadata": {},
     "output_type": "display_data"
    }
   ],
   "source": [
    "revenue_total = df_merged.pivot_table(index='tariff', values='revenue', aggfunc=['sum'])\n",
    "clients_cnt = df_merged.pivot_table(index='tariff', values='user_id', aggfunc=['nunique'])\n",
    "\n",
    "report = revenue_total.join(clients_cnt).reset_index()\n",
    "report.columns = ['Тариф', 'Выручка', 'Кол-во клиентов']\n",
    "display(report)"
   ]
  },
  {
   "cell_type": "markdown",
   "metadata": {},
   "source": [
    "Тариф «Смарт» принес оператору больше выручки, т.к. им пользуются в 2.4 раза больше клиентов, чем тарифом «Ультра»."
   ]
  },
  {
   "cell_type": "markdown",
   "metadata": {},
   "source": [
    "## Общий вывод"
   ]
  },
  {
   "cell_type": "markdown",
   "metadata": {},
   "source": [
    "На основании проведенного анализа мы выяснили, что пользователи тарифа «Ультра» более активно пользуются услугами оператора и обладают более высокой средней выручкой на одного пользователя (ARPU). Статистически значимое различие между средней выручкой пользователей из Москвы и пользователей из других регионов отсутствует. Тариф «Смарт» приносит оператору больше выручки, но для целей максимизации прибыли рекомендуется усилить рекламную кампанию тарифа «Ультра» по всей стране."
   ]
  }
 ],
 "metadata": {
  "ExecuteTimeLog": [
   {
    "duration": 1503,
    "start_time": "2022-05-29T19:58:11.083Z"
   },
   {
    "duration": 1193,
    "start_time": "2022-05-29T20:08:33.344Z"
   },
   {
    "duration": 15,
    "start_time": "2022-05-29T20:10:20.578Z"
   },
   {
    "duration": 9,
    "start_time": "2022-05-29T20:17:04.906Z"
   },
   {
    "duration": 14,
    "start_time": "2022-05-29T20:17:08.779Z"
   },
   {
    "duration": 79,
    "start_time": "2022-05-29T20:28:00.683Z"
   },
   {
    "duration": 50,
    "start_time": "2022-05-31T21:54:22.716Z"
   },
   {
    "duration": 1176,
    "start_time": "2022-05-31T21:54:26.121Z"
   },
   {
    "duration": 901,
    "start_time": "2022-05-31T21:54:27.299Z"
   },
   {
    "duration": 7,
    "start_time": "2022-05-31T21:54:28.202Z"
   },
   {
    "duration": 76,
    "start_time": "2022-05-31T21:54:28.210Z"
   },
   {
    "duration": 37,
    "start_time": "2022-05-31T21:54:28.287Z"
   },
   {
    "duration": 9,
    "start_time": "2022-05-31T21:54:54.735Z"
   },
   {
    "duration": 19,
    "start_time": "2022-05-31T21:55:10.947Z"
   },
   {
    "duration": 37,
    "start_time": "2022-05-31T21:55:33.959Z"
   },
   {
    "duration": 182,
    "start_time": "2022-05-31T21:56:03.867Z"
   },
   {
    "duration": 95,
    "start_time": "2022-05-31T21:58:22.228Z"
   },
   {
    "duration": 5,
    "start_time": "2022-05-31T22:01:33.632Z"
   },
   {
    "duration": 71,
    "start_time": "2022-05-31T22:01:39.215Z"
   },
   {
    "duration": 412,
    "start_time": "2022-05-31T22:02:10.880Z"
   },
   {
    "duration": 401,
    "start_time": "2022-05-31T22:02:15.888Z"
   },
   {
    "duration": 4,
    "start_time": "2022-05-31T22:02:25.242Z"
   },
   {
    "duration": 71,
    "start_time": "2022-05-31T22:02:30.019Z"
   },
   {
    "duration": 9,
    "start_time": "2022-05-31T22:02:34.285Z"
   },
   {
    "duration": 3,
    "start_time": "2022-06-01T20:21:54.521Z"
   },
   {
    "duration": 498,
    "start_time": "2022-06-01T20:21:54.526Z"
   },
   {
    "duration": 8,
    "start_time": "2022-06-01T20:21:55.025Z"
   },
   {
    "duration": 99,
    "start_time": "2022-06-01T20:21:55.035Z"
   },
   {
    "duration": 72,
    "start_time": "2022-06-01T20:21:55.136Z"
   },
   {
    "duration": 192,
    "start_time": "2022-06-01T20:30:03.913Z"
   },
   {
    "duration": 34,
    "start_time": "2022-06-01T20:30:32.633Z"
   },
   {
    "duration": 34,
    "start_time": "2022-06-01T20:30:47.058Z"
   },
   {
    "duration": 34,
    "start_time": "2022-06-01T20:31:07.431Z"
   },
   {
    "duration": 18,
    "start_time": "2022-06-01T21:50:11.853Z"
   },
   {
    "duration": 2,
    "start_time": "2022-06-01T22:18:42.006Z"
   },
   {
    "duration": 420,
    "start_time": "2022-06-01T22:18:43.062Z"
   },
   {
    "duration": 7,
    "start_time": "2022-06-01T22:18:44.636Z"
   },
   {
    "duration": 70,
    "start_time": "2022-06-01T22:18:46.630Z"
   },
   {
    "duration": 62,
    "start_time": "2022-06-01T22:18:51.719Z"
   },
   {
    "duration": 152,
    "start_time": "2022-06-01T22:18:53.042Z"
   },
   {
    "duration": 459,
    "start_time": "2022-06-01T22:31:14.721Z"
   },
   {
    "duration": 47,
    "start_time": "2022-06-01T22:31:34.964Z"
   },
   {
    "duration": 3,
    "start_time": "2022-06-01T22:31:57.752Z"
   },
   {
    "duration": 509,
    "start_time": "2022-06-01T22:32:06.827Z"
   },
   {
    "duration": 24,
    "start_time": "2022-06-01T22:32:11.337Z"
   },
   {
    "duration": 7555,
    "start_time": "2022-06-01T22:34:16.879Z"
   },
   {
    "duration": 20,
    "start_time": "2022-06-01T22:34:26.832Z"
   },
   {
    "duration": 434,
    "start_time": "2022-06-01T22:34:41.363Z"
   },
   {
    "duration": 29,
    "start_time": "2022-06-01T22:34:44.169Z"
   },
   {
    "duration": 7232,
    "start_time": "2022-06-01T22:34:52.683Z"
   },
   {
    "duration": 22,
    "start_time": "2022-06-01T22:35:01.597Z"
   },
   {
    "duration": 4957,
    "start_time": "2022-06-01T22:37:02.431Z"
   },
   {
    "duration": 21,
    "start_time": "2022-06-01T22:37:09.691Z"
   },
   {
    "duration": 6892,
    "start_time": "2022-06-01T22:37:17.770Z"
   },
   {
    "duration": 20,
    "start_time": "2022-06-01T22:37:34.117Z"
   },
   {
    "duration": 17,
    "start_time": "2022-06-01T22:38:23.332Z"
   },
   {
    "duration": 58,
    "start_time": "2022-06-01T22:40:39.073Z"
   },
   {
    "duration": 1044,
    "start_time": "2022-06-01T22:40:44.161Z"
   },
   {
    "duration": 975,
    "start_time": "2022-06-01T22:40:45.207Z"
   },
   {
    "duration": 8,
    "start_time": "2022-06-01T22:40:46.183Z"
   },
   {
    "duration": 95,
    "start_time": "2022-06-01T22:40:46.193Z"
   },
   {
    "duration": 80,
    "start_time": "2022-06-01T22:40:46.291Z"
   },
   {
    "duration": 192,
    "start_time": "2022-06-01T22:40:46.373Z"
   },
   {
    "duration": 44,
    "start_time": "2022-06-01T22:40:46.567Z"
   },
   {
    "duration": 15,
    "start_time": "2022-06-01T22:40:46.612Z"
   },
   {
    "duration": 52,
    "start_time": "2022-06-01T22:40:59.416Z"
   },
   {
    "duration": 1126,
    "start_time": "2022-06-01T22:41:03.243Z"
   },
   {
    "duration": 968,
    "start_time": "2022-06-01T22:41:04.371Z"
   },
   {
    "duration": 8,
    "start_time": "2022-06-01T22:41:05.340Z"
   },
   {
    "duration": 65,
    "start_time": "2022-06-01T22:41:05.350Z"
   },
   {
    "duration": 68,
    "start_time": "2022-06-01T22:41:05.426Z"
   },
   {
    "duration": 172,
    "start_time": "2022-06-01T22:41:05.496Z"
   },
   {
    "duration": 45,
    "start_time": "2022-06-01T22:41:05.669Z"
   },
   {
    "duration": 2,
    "start_time": "2022-06-01T22:41:07.880Z"
   },
   {
    "duration": 57,
    "start_time": "2022-06-01T22:41:21.626Z"
   },
   {
    "duration": 53,
    "start_time": "2022-06-01T22:41:33.757Z"
   },
   {
    "duration": 7,
    "start_time": "2022-06-01T22:41:37.296Z"
   },
   {
    "duration": 1112,
    "start_time": "2022-06-01T22:41:44.945Z"
   },
   {
    "duration": 3,
    "start_time": "2022-06-01T22:41:53.841Z"
   },
   {
    "duration": 985,
    "start_time": "2022-06-01T22:41:53.846Z"
   },
   {
    "duration": 10,
    "start_time": "2022-06-01T22:41:54.832Z"
   },
   {
    "duration": 72,
    "start_time": "2022-06-01T22:41:54.844Z"
   },
   {
    "duration": 83,
    "start_time": "2022-06-01T22:41:54.918Z"
   },
   {
    "duration": 171,
    "start_time": "2022-06-01T22:41:55.003Z"
   },
   {
    "duration": 54,
    "start_time": "2022-06-01T22:41:55.176Z"
   },
   {
    "duration": 3,
    "start_time": "2022-06-01T22:41:55.231Z"
   },
   {
    "duration": 7,
    "start_time": "2022-06-01T22:42:06.263Z"
   },
   {
    "duration": 441,
    "start_time": "2022-06-01T22:42:06.272Z"
   },
   {
    "duration": 7,
    "start_time": "2022-06-01T22:42:06.715Z"
   },
   {
    "duration": 61,
    "start_time": "2022-06-01T22:42:06.726Z"
   },
   {
    "duration": 75,
    "start_time": "2022-06-01T22:42:06.790Z"
   },
   {
    "duration": 163,
    "start_time": "2022-06-01T22:42:06.867Z"
   },
   {
    "duration": 45,
    "start_time": "2022-06-01T22:42:12.434Z"
   },
   {
    "duration": 12,
    "start_time": "2022-06-01T22:42:13.551Z"
   },
   {
    "duration": 55,
    "start_time": "2022-06-01T22:42:24.419Z"
   },
   {
    "duration": 7,
    "start_time": "2022-06-01T22:42:42.496Z"
   },
   {
    "duration": 1109,
    "start_time": "2022-06-01T22:42:52.259Z"
   },
   {
    "duration": 959,
    "start_time": "2022-06-01T22:42:53.371Z"
   },
   {
    "duration": 8,
    "start_time": "2022-06-01T22:42:54.332Z"
   },
   {
    "duration": 71,
    "start_time": "2022-06-01T22:42:54.342Z"
   },
   {
    "duration": 76,
    "start_time": "2022-06-01T22:42:54.414Z"
   },
   {
    "duration": 167,
    "start_time": "2022-06-01T22:42:54.492Z"
   },
   {
    "duration": 43,
    "start_time": "2022-06-01T22:42:54.661Z"
   },
   {
    "duration": 3,
    "start_time": "2022-06-01T22:42:54.706Z"
   },
   {
    "duration": 18,
    "start_time": "2022-06-01T22:42:58.225Z"
   },
   {
    "duration": 1175,
    "start_time": "2022-06-01T22:47:28.698Z"
   },
   {
    "duration": 1047,
    "start_time": "2022-06-01T22:47:29.875Z"
   },
   {
    "duration": 9,
    "start_time": "2022-06-01T22:47:30.923Z"
   },
   {
    "duration": 74,
    "start_time": "2022-06-01T22:47:30.933Z"
   },
   {
    "duration": 73,
    "start_time": "2022-06-01T22:47:31.008Z"
   },
   {
    "duration": 173,
    "start_time": "2022-06-01T22:47:31.083Z"
   },
   {
    "duration": 50,
    "start_time": "2022-06-01T22:47:31.258Z"
   },
   {
    "duration": 2,
    "start_time": "2022-06-01T22:47:31.310Z"
   },
   {
    "duration": 7497,
    "start_time": "2022-06-01T22:47:31.313Z"
   },
   {
    "duration": 21,
    "start_time": "2022-06-01T22:47:38.813Z"
   },
   {
    "duration": 51,
    "start_time": "2022-06-01T22:51:58.919Z"
   },
   {
    "duration": 1208,
    "start_time": "2022-06-01T22:52:02.852Z"
   },
   {
    "duration": 994,
    "start_time": "2022-06-01T22:52:04.061Z"
   },
   {
    "duration": 8,
    "start_time": "2022-06-01T22:52:05.057Z"
   },
   {
    "duration": 88,
    "start_time": "2022-06-01T22:52:05.066Z"
   },
   {
    "duration": 80,
    "start_time": "2022-06-01T22:52:05.156Z"
   },
   {
    "duration": 173,
    "start_time": "2022-06-01T22:52:05.238Z"
   },
   {
    "duration": 50,
    "start_time": "2022-06-01T22:52:05.412Z"
   },
   {
    "duration": 2,
    "start_time": "2022-06-01T22:52:05.464Z"
   },
   {
    "duration": 1147,
    "start_time": "2022-06-01T22:52:28.219Z"
   },
   {
    "duration": 966,
    "start_time": "2022-06-01T22:52:29.368Z"
   },
   {
    "duration": 10,
    "start_time": "2022-06-01T22:52:30.336Z"
   },
   {
    "duration": 85,
    "start_time": "2022-06-01T22:52:30.348Z"
   },
   {
    "duration": 86,
    "start_time": "2022-06-01T22:52:30.435Z"
   },
   {
    "duration": 170,
    "start_time": "2022-06-01T22:52:30.523Z"
   },
   {
    "duration": 53,
    "start_time": "2022-06-01T22:52:30.695Z"
   },
   {
    "duration": 3,
    "start_time": "2022-06-01T22:52:30.750Z"
   },
   {
    "duration": 7701,
    "start_time": "2022-06-01T22:52:30.754Z"
   },
   {
    "duration": 20,
    "start_time": "2022-06-01T22:52:38.457Z"
   },
   {
    "duration": 1714,
    "start_time": "2022-06-01T22:55:10.823Z"
   },
   {
    "duration": 14,
    "start_time": "2022-06-01T22:55:24.161Z"
   },
   {
    "duration": 3,
    "start_time": "2022-06-01T22:55:51.690Z"
   },
   {
    "duration": 7653,
    "start_time": "2022-06-01T22:55:56.705Z"
   },
   {
    "duration": 21,
    "start_time": "2022-06-01T22:56:05.276Z"
   },
   {
    "duration": 69,
    "start_time": "2022-06-01T23:02:01.501Z"
   },
   {
    "duration": 1351,
    "start_time": "2022-06-01T23:02:09.416Z"
   },
   {
    "duration": 1035,
    "start_time": "2022-06-01T23:02:10.769Z"
   },
   {
    "duration": 8,
    "start_time": "2022-06-01T23:02:11.805Z"
   },
   {
    "duration": 84,
    "start_time": "2022-06-01T23:02:11.815Z"
   },
   {
    "duration": 76,
    "start_time": "2022-06-01T23:02:11.900Z"
   },
   {
    "duration": 173,
    "start_time": "2022-06-01T23:02:11.978Z"
   },
   {
    "duration": 1756,
    "start_time": "2022-06-01T23:02:12.152Z"
   },
   {
    "duration": 2,
    "start_time": "2022-06-01T23:02:13.910Z"
   },
   {
    "duration": 59,
    "start_time": "2022-06-01T23:02:16.974Z"
   },
   {
    "duration": 2156,
    "start_time": "2022-06-02T20:27:29.619Z"
   },
   {
    "duration": 1087,
    "start_time": "2022-06-02T20:27:31.778Z"
   },
   {
    "duration": 9,
    "start_time": "2022-06-02T20:27:32.868Z"
   },
   {
    "duration": 108,
    "start_time": "2022-06-02T20:27:32.879Z"
   },
   {
    "duration": 77,
    "start_time": "2022-06-02T20:27:32.989Z"
   },
   {
    "duration": 227,
    "start_time": "2022-06-02T20:27:33.067Z"
   },
   {
    "duration": 1879,
    "start_time": "2022-06-02T20:27:33.296Z"
   },
   {
    "duration": 115,
    "start_time": "2022-06-02T20:31:46.941Z"
   },
   {
    "duration": 3,
    "start_time": "2022-06-02T20:31:51.115Z"
   },
   {
    "duration": 924,
    "start_time": "2022-06-02T20:31:51.119Z"
   },
   {
    "duration": 7,
    "start_time": "2022-06-02T20:31:52.045Z"
   },
   {
    "duration": 102,
    "start_time": "2022-06-02T20:31:52.054Z"
   },
   {
    "duration": 81,
    "start_time": "2022-06-02T20:31:52.158Z"
   },
   {
    "duration": 243,
    "start_time": "2022-06-02T20:31:52.241Z"
   },
   {
    "duration": 1934,
    "start_time": "2022-06-02T20:31:52.487Z"
   },
   {
    "duration": 3,
    "start_time": "2022-06-02T20:31:54.424Z"
   },
   {
    "duration": 2943,
    "start_time": "2022-06-02T20:32:19.006Z"
   },
   {
    "duration": 952,
    "start_time": "2022-06-02T20:32:21.951Z"
   },
   {
    "duration": 9,
    "start_time": "2022-06-02T20:32:22.904Z"
   },
   {
    "duration": 84,
    "start_time": "2022-06-02T20:32:22.914Z"
   },
   {
    "duration": 90,
    "start_time": "2022-06-02T20:32:23.001Z"
   },
   {
    "duration": 193,
    "start_time": "2022-06-02T20:32:23.093Z"
   },
   {
    "duration": 1626,
    "start_time": "2022-06-02T20:32:23.288Z"
   },
   {
    "duration": 3,
    "start_time": "2022-06-02T20:32:24.916Z"
   },
   {
    "duration": 8001,
    "start_time": "2022-06-02T20:32:24.921Z"
   },
   {
    "duration": 23,
    "start_time": "2022-06-02T20:32:32.923Z"
   },
   {
    "duration": 2,
    "start_time": "2022-06-02T21:14:33.553Z"
   },
   {
    "duration": 11,
    "start_time": "2022-06-02T21:14:39.179Z"
   },
   {
    "duration": 3,
    "start_time": "2022-06-02T21:14:47.466Z"
   },
   {
    "duration": 14,
    "start_time": "2022-06-02T21:14:49.253Z"
   },
   {
    "duration": 17,
    "start_time": "2022-06-02T21:14:53.305Z"
   },
   {
    "duration": 3,
    "start_time": "2022-06-02T21:15:56.857Z"
   },
   {
    "duration": 399,
    "start_time": "2022-06-02T21:15:56.862Z"
   },
   {
    "duration": 8,
    "start_time": "2022-06-02T21:15:57.262Z"
   },
   {
    "duration": 68,
    "start_time": "2022-06-02T21:15:57.272Z"
   },
   {
    "duration": 80,
    "start_time": "2022-06-02T21:15:57.342Z"
   },
   {
    "duration": 165,
    "start_time": "2022-06-02T21:15:57.423Z"
   },
   {
    "duration": 1891,
    "start_time": "2022-06-02T21:16:01.530Z"
   },
   {
    "duration": 8,
    "start_time": "2022-06-02T21:16:05.621Z"
   },
   {
    "duration": 2,
    "start_time": "2022-06-02T21:33:00.234Z"
   },
   {
    "duration": 439,
    "start_time": "2022-06-02T21:33:00.238Z"
   },
   {
    "duration": 7,
    "start_time": "2022-06-02T21:33:00.679Z"
   },
   {
    "duration": 90,
    "start_time": "2022-06-02T21:33:00.688Z"
   },
   {
    "duration": 67,
    "start_time": "2022-06-02T21:33:00.780Z"
   },
   {
    "duration": 174,
    "start_time": "2022-06-02T21:33:00.848Z"
   },
   {
    "duration": 1761,
    "start_time": "2022-06-02T21:33:01.024Z"
   },
   {
    "duration": 122,
    "start_time": "2022-06-02T21:33:02.787Z"
   },
   {
    "duration": 4,
    "start_time": "2022-06-02T21:33:15.823Z"
   },
   {
    "duration": 440,
    "start_time": "2022-06-02T21:33:15.829Z"
   },
   {
    "duration": 9,
    "start_time": "2022-06-02T21:33:16.271Z"
   },
   {
    "duration": 72,
    "start_time": "2022-06-02T21:33:16.281Z"
   },
   {
    "duration": 97,
    "start_time": "2022-06-02T21:33:16.355Z"
   },
   {
    "duration": 191,
    "start_time": "2022-06-02T21:33:16.454Z"
   },
   {
    "duration": 1584,
    "start_time": "2022-06-02T21:33:18.489Z"
   },
   {
    "duration": 62,
    "start_time": "2022-06-02T21:33:30.104Z"
   },
   {
    "duration": 1096,
    "start_time": "2022-06-02T21:34:03.327Z"
   },
   {
    "duration": 958,
    "start_time": "2022-06-02T21:34:04.425Z"
   },
   {
    "duration": 9,
    "start_time": "2022-06-02T21:34:05.385Z"
   },
   {
    "duration": 111,
    "start_time": "2022-06-02T21:34:05.398Z"
   },
   {
    "duration": 88,
    "start_time": "2022-06-02T21:34:05.511Z"
   },
   {
    "duration": 210,
    "start_time": "2022-06-02T21:34:05.600Z"
   },
   {
    "duration": 1966,
    "start_time": "2022-06-02T21:34:05.812Z"
   },
   {
    "duration": 75,
    "start_time": "2022-06-02T21:34:09.208Z"
   },
   {
    "duration": 2555,
    "start_time": "2022-06-02T21:35:51.478Z"
   },
   {
    "duration": 4,
    "start_time": "2022-06-02T21:36:09.531Z"
   },
   {
    "duration": 468,
    "start_time": "2022-06-02T21:36:09.536Z"
   },
   {
    "duration": 11,
    "start_time": "2022-06-02T21:36:10.005Z"
   },
   {
    "duration": 104,
    "start_time": "2022-06-02T21:36:10.018Z"
   },
   {
    "duration": 82,
    "start_time": "2022-06-02T21:36:10.124Z"
   },
   {
    "duration": 177,
    "start_time": "2022-06-02T21:36:10.207Z"
   },
   {
    "duration": 1856,
    "start_time": "2022-06-02T21:36:10.386Z"
   },
   {
    "duration": 78,
    "start_time": "2022-06-02T21:36:12.244Z"
   },
   {
    "duration": 2352,
    "start_time": "2022-06-02T21:36:14.433Z"
   },
   {
    "duration": 19,
    "start_time": "2022-06-02T21:36:37.814Z"
   },
   {
    "duration": 570,
    "start_time": "2022-06-02T21:38:38.550Z"
   },
   {
    "duration": 3,
    "start_time": "2022-06-02T21:38:50.279Z"
   },
   {
    "duration": 409,
    "start_time": "2022-06-02T21:38:50.284Z"
   },
   {
    "duration": 8,
    "start_time": "2022-06-02T21:38:50.694Z"
   },
   {
    "duration": 81,
    "start_time": "2022-06-02T21:38:50.704Z"
   },
   {
    "duration": 66,
    "start_time": "2022-06-02T21:38:50.786Z"
   },
   {
    "duration": 173,
    "start_time": "2022-06-02T21:38:50.854Z"
   },
   {
    "duration": 1774,
    "start_time": "2022-06-02T21:38:53.142Z"
   },
   {
    "duration": 638,
    "start_time": "2022-06-02T21:38:56.578Z"
   },
   {
    "duration": 13,
    "start_time": "2022-06-02T21:40:23.765Z"
   },
   {
    "duration": 3,
    "start_time": "2022-06-02T21:40:27.740Z"
   },
   {
    "duration": 427,
    "start_time": "2022-06-02T21:40:27.745Z"
   },
   {
    "duration": 10,
    "start_time": "2022-06-02T21:40:28.174Z"
   },
   {
    "duration": 70,
    "start_time": "2022-06-02T21:40:28.186Z"
   },
   {
    "duration": 75,
    "start_time": "2022-06-02T21:40:28.258Z"
   },
   {
    "duration": 178,
    "start_time": "2022-06-02T21:40:28.335Z"
   },
   {
    "duration": 1777,
    "start_time": "2022-06-02T21:40:28.515Z"
   },
   {
    "duration": 62,
    "start_time": "2022-06-02T21:40:30.294Z"
   },
   {
    "duration": 26,
    "start_time": "2022-06-02T21:40:30.359Z"
   },
   {
    "duration": 3,
    "start_time": "2022-06-02T21:40:36.043Z"
   },
   {
    "duration": 427,
    "start_time": "2022-06-02T21:40:36.049Z"
   },
   {
    "duration": 7,
    "start_time": "2022-06-02T21:40:36.478Z"
   },
   {
    "duration": 78,
    "start_time": "2022-06-02T21:40:36.486Z"
   },
   {
    "duration": 69,
    "start_time": "2022-06-02T21:40:36.566Z"
   },
   {
    "duration": 172,
    "start_time": "2022-06-02T21:40:36.637Z"
   },
   {
    "duration": 1815,
    "start_time": "2022-06-02T21:40:38.866Z"
   },
   {
    "duration": 17,
    "start_time": "2022-06-02T21:40:43.143Z"
   },
   {
    "duration": 1849,
    "start_time": "2022-06-02T21:40:48.244Z"
   },
   {
    "duration": 15,
    "start_time": "2022-06-02T21:40:51.238Z"
   },
   {
    "duration": 67,
    "start_time": "2022-06-02T21:41:04.928Z"
   },
   {
    "duration": 56,
    "start_time": "2022-06-02T21:41:25.917Z"
   },
   {
    "duration": 7,
    "start_time": "2022-06-02T21:41:28.250Z"
   },
   {
    "duration": 6,
    "start_time": "2022-06-02T21:41:33.286Z"
   },
   {
    "duration": 6,
    "start_time": "2022-06-02T22:02:11.848Z"
   },
   {
    "duration": 1385,
    "start_time": "2022-06-02T22:02:15.042Z"
   },
   {
    "duration": 940,
    "start_time": "2022-06-02T22:02:16.430Z"
   },
   {
    "duration": 7,
    "start_time": "2022-06-02T22:02:17.372Z"
   },
   {
    "duration": 72,
    "start_time": "2022-06-02T22:02:17.381Z"
   },
   {
    "duration": 85,
    "start_time": "2022-06-02T22:02:17.455Z"
   },
   {
    "duration": 195,
    "start_time": "2022-06-02T22:02:17.542Z"
   },
   {
    "duration": 1684,
    "start_time": "2022-06-02T22:02:17.739Z"
   },
   {
    "duration": 28,
    "start_time": "2022-06-02T22:02:19.424Z"
   },
   {
    "duration": 10,
    "start_time": "2022-06-02T22:02:22.708Z"
   },
   {
    "duration": 3,
    "start_time": "2022-06-02T22:04:31.193Z"
   },
   {
    "duration": 486,
    "start_time": "2022-06-02T22:04:31.198Z"
   },
   {
    "duration": 8,
    "start_time": "2022-06-02T22:04:31.685Z"
   },
   {
    "duration": 102,
    "start_time": "2022-06-02T22:04:31.695Z"
   },
   {
    "duration": 89,
    "start_time": "2022-06-02T22:04:31.799Z"
   },
   {
    "duration": 202,
    "start_time": "2022-06-02T22:04:31.890Z"
   },
   {
    "duration": 63,
    "start_time": "2022-06-02T22:04:36.396Z"
   },
   {
    "duration": 1666,
    "start_time": "2022-06-02T22:04:38.841Z"
   },
   {
    "duration": 75,
    "start_time": "2022-06-02T22:04:42.210Z"
   },
   {
    "duration": 11,
    "start_time": "2022-06-02T22:04:50.279Z"
   },
   {
    "duration": 120,
    "start_time": "2022-06-02T22:05:52.875Z"
   },
   {
    "duration": 17,
    "start_time": "2022-06-02T22:06:49.858Z"
   },
   {
    "duration": 10,
    "start_time": "2022-06-02T22:06:57.388Z"
   },
   {
    "duration": 5,
    "start_time": "2022-06-02T22:06:59.862Z"
   },
   {
    "duration": 15,
    "start_time": "2022-06-02T22:07:41.725Z"
   },
   {
    "duration": 4,
    "start_time": "2022-06-02T22:07:42.262Z"
   },
   {
    "duration": 16,
    "start_time": "2022-06-02T22:07:58.792Z"
   },
   {
    "duration": 4,
    "start_time": "2022-06-02T22:07:59.468Z"
   },
   {
    "duration": 16,
    "start_time": "2022-06-02T22:08:08.041Z"
   },
   {
    "duration": 3,
    "start_time": "2022-06-02T22:08:48.449Z"
   },
   {
    "duration": 440,
    "start_time": "2022-06-02T22:08:48.454Z"
   },
   {
    "duration": 8,
    "start_time": "2022-06-02T22:08:48.895Z"
   },
   {
    "duration": 97,
    "start_time": "2022-06-02T22:08:48.905Z"
   },
   {
    "duration": 70,
    "start_time": "2022-06-02T22:08:49.005Z"
   },
   {
    "duration": 176,
    "start_time": "2022-06-02T22:08:49.077Z"
   },
   {
    "duration": 1704,
    "start_time": "2022-06-02T22:08:49.255Z"
   },
   {
    "duration": 61,
    "start_time": "2022-06-02T22:08:50.961Z"
   },
   {
    "duration": 12,
    "start_time": "2022-06-02T22:08:52.858Z"
   },
   {
    "duration": 14,
    "start_time": "2022-06-02T22:09:01.580Z"
   },
   {
    "duration": 15,
    "start_time": "2022-06-02T22:10:31.788Z"
   },
   {
    "duration": 67,
    "start_time": "2022-06-02T22:18:02.987Z"
   },
   {
    "duration": 12,
    "start_time": "2022-06-02T22:18:07.214Z"
   },
   {
    "duration": 14,
    "start_time": "2022-06-02T22:18:07.846Z"
   },
   {
    "duration": 15,
    "start_time": "2022-06-02T22:21:22.355Z"
   },
   {
    "duration": 7,
    "start_time": "2022-06-02T22:27:08.408Z"
   },
   {
    "duration": 16,
    "start_time": "2022-06-02T22:27:11.482Z"
   },
   {
    "duration": 7,
    "start_time": "2022-06-02T22:35:46.148Z"
   },
   {
    "duration": 19,
    "start_time": "2022-06-02T22:35:51.161Z"
   },
   {
    "duration": 24,
    "start_time": "2022-06-02T22:37:52.427Z"
   },
   {
    "duration": 17,
    "start_time": "2022-06-02T22:38:14.106Z"
   },
   {
    "duration": 7,
    "start_time": "2022-06-02T22:38:23.242Z"
   },
   {
    "duration": 28,
    "start_time": "2022-06-02T22:38:25.498Z"
   },
   {
    "duration": 9,
    "start_time": "2022-06-02T22:47:02.999Z"
   },
   {
    "duration": 26,
    "start_time": "2022-06-02T22:47:05.404Z"
   },
   {
    "duration": 24,
    "start_time": "2022-06-02T22:50:00.046Z"
   },
   {
    "duration": 2,
    "start_time": "2022-06-02T22:50:26.951Z"
   },
   {
    "duration": 442,
    "start_time": "2022-06-02T22:50:26.955Z"
   },
   {
    "duration": 8,
    "start_time": "2022-06-02T22:50:27.398Z"
   },
   {
    "duration": 115,
    "start_time": "2022-06-02T22:50:27.407Z"
   },
   {
    "duration": 77,
    "start_time": "2022-06-02T22:50:27.525Z"
   },
   {
    "duration": 190,
    "start_time": "2022-06-02T22:50:27.603Z"
   },
   {
    "duration": 1651,
    "start_time": "2022-06-02T22:50:27.794Z"
   },
   {
    "duration": 72,
    "start_time": "2022-06-02T22:50:29.446Z"
   },
   {
    "duration": 12,
    "start_time": "2022-06-02T22:50:29.519Z"
   },
   {
    "duration": 9,
    "start_time": "2022-06-02T22:50:33.888Z"
   },
   {
    "duration": 9,
    "start_time": "2022-06-02T22:50:46.255Z"
   },
   {
    "duration": 17,
    "start_time": "2022-06-02T22:50:49.060Z"
   },
   {
    "duration": 3,
    "start_time": "2022-06-02T22:51:32.408Z"
   },
   {
    "duration": 426,
    "start_time": "2022-06-02T22:51:32.413Z"
   },
   {
    "duration": 8,
    "start_time": "2022-06-02T22:51:32.841Z"
   },
   {
    "duration": 85,
    "start_time": "2022-06-02T22:51:32.851Z"
   },
   {
    "duration": 76,
    "start_time": "2022-06-02T22:51:32.939Z"
   },
   {
    "duration": 168,
    "start_time": "2022-06-02T22:51:33.016Z"
   },
   {
    "duration": 1643,
    "start_time": "2022-06-02T22:51:33.186Z"
   },
   {
    "duration": 64,
    "start_time": "2022-06-02T22:51:34.831Z"
   },
   {
    "duration": 13,
    "start_time": "2022-06-02T22:51:34.897Z"
   },
   {
    "duration": 7,
    "start_time": "2022-06-02T22:51:34.911Z"
   },
   {
    "duration": 7,
    "start_time": "2022-06-02T22:51:34.920Z"
   },
   {
    "duration": 19,
    "start_time": "2022-06-02T22:51:34.929Z"
   },
   {
    "duration": 1275,
    "start_time": "2022-06-03T19:33:00.291Z"
   },
   {
    "duration": 1336,
    "start_time": "2022-06-03T19:33:01.568Z"
   },
   {
    "duration": 8,
    "start_time": "2022-06-03T19:33:02.905Z"
   },
   {
    "duration": 66,
    "start_time": "2022-06-03T19:33:02.914Z"
   },
   {
    "duration": 74,
    "start_time": "2022-06-03T19:33:02.983Z"
   },
   {
    "duration": 147,
    "start_time": "2022-06-03T19:33:03.059Z"
   },
   {
    "duration": 1732,
    "start_time": "2022-06-03T19:33:03.208Z"
   },
   {
    "duration": 67,
    "start_time": "2022-06-03T19:33:04.942Z"
   },
   {
    "duration": 21,
    "start_time": "2022-06-03T19:33:05.011Z"
   },
   {
    "duration": 7,
    "start_time": "2022-06-03T19:33:05.034Z"
   },
   {
    "duration": 11,
    "start_time": "2022-06-03T19:33:05.042Z"
   },
   {
    "duration": 16,
    "start_time": "2022-06-03T19:33:06.710Z"
   },
   {
    "duration": 3,
    "start_time": "2022-06-03T19:35:29.535Z"
   },
   {
    "duration": 415,
    "start_time": "2022-06-03T19:35:29.540Z"
   },
   {
    "duration": 6,
    "start_time": "2022-06-03T19:35:29.957Z"
   },
   {
    "duration": 94,
    "start_time": "2022-06-03T19:35:29.964Z"
   },
   {
    "duration": 70,
    "start_time": "2022-06-03T19:35:30.060Z"
   },
   {
    "duration": 149,
    "start_time": "2022-06-03T19:35:30.132Z"
   },
   {
    "duration": 1701,
    "start_time": "2022-06-03T19:35:30.282Z"
   },
   {
    "duration": 64,
    "start_time": "2022-06-03T19:35:31.985Z"
   },
   {
    "duration": 10,
    "start_time": "2022-06-03T19:35:32.051Z"
   },
   {
    "duration": 5,
    "start_time": "2022-06-03T19:35:32.063Z"
   },
   {
    "duration": 20,
    "start_time": "2022-06-03T19:35:32.070Z"
   },
   {
    "duration": 16,
    "start_time": "2022-06-03T19:35:32.992Z"
   },
   {
    "duration": 3,
    "start_time": "2022-06-03T19:36:13.946Z"
   },
   {
    "duration": 398,
    "start_time": "2022-06-03T19:36:13.951Z"
   },
   {
    "duration": 6,
    "start_time": "2022-06-03T19:36:14.351Z"
   },
   {
    "duration": 94,
    "start_time": "2022-06-03T19:36:14.359Z"
   },
   {
    "duration": 61,
    "start_time": "2022-06-03T19:36:14.454Z"
   },
   {
    "duration": 155,
    "start_time": "2022-06-03T19:36:14.516Z"
   },
   {
    "duration": 1815,
    "start_time": "2022-06-03T19:36:14.672Z"
   },
   {
    "duration": 62,
    "start_time": "2022-06-03T19:36:16.489Z"
   },
   {
    "duration": 13,
    "start_time": "2022-06-03T19:36:16.553Z"
   },
   {
    "duration": 6,
    "start_time": "2022-06-03T19:36:16.567Z"
   },
   {
    "duration": 8,
    "start_time": "2022-06-03T19:36:16.574Z"
   },
   {
    "duration": 16,
    "start_time": "2022-06-03T19:36:17.677Z"
   },
   {
    "duration": 11,
    "start_time": "2022-06-03T21:54:00.965Z"
   },
   {
    "duration": 28,
    "start_time": "2022-06-03T22:01:20.211Z"
   },
   {
    "duration": 7,
    "start_time": "2022-06-03T22:09:32.597Z"
   },
   {
    "duration": 4,
    "start_time": "2022-06-03T22:18:09.477Z"
   },
   {
    "duration": 28,
    "start_time": "2022-06-03T22:18:15.380Z"
   },
   {
    "duration": 7,
    "start_time": "2022-06-03T22:22:29.903Z"
   },
   {
    "duration": 19,
    "start_time": "2022-06-03T22:22:32.232Z"
   },
   {
    "duration": 8,
    "start_time": "2022-06-03T22:22:49.980Z"
   },
   {
    "duration": 13,
    "start_time": "2022-06-03T22:55:34.768Z"
   },
   {
    "duration": 24,
    "start_time": "2022-06-03T22:55:37.972Z"
   },
   {
    "duration": 10,
    "start_time": "2022-06-03T22:56:43.212Z"
   },
   {
    "duration": 24,
    "start_time": "2022-06-03T22:56:44.550Z"
   },
   {
    "duration": 11,
    "start_time": "2022-06-03T22:58:53.569Z"
   },
   {
    "duration": 22,
    "start_time": "2022-06-03T22:58:54.444Z"
   },
   {
    "duration": 11,
    "start_time": "2022-06-03T22:59:25.930Z"
   },
   {
    "duration": 23,
    "start_time": "2022-06-03T22:59:26.479Z"
   },
   {
    "duration": 11,
    "start_time": "2022-06-03T22:59:42.299Z"
   },
   {
    "duration": 25,
    "start_time": "2022-06-03T22:59:43.263Z"
   },
   {
    "duration": 12,
    "start_time": "2022-06-03T23:04:39.853Z"
   },
   {
    "duration": 26,
    "start_time": "2022-06-03T23:04:40.211Z"
   },
   {
    "duration": 67,
    "start_time": "2022-06-03T23:05:05.457Z"
   },
   {
    "duration": 27,
    "start_time": "2022-06-03T23:05:05.581Z"
   },
   {
    "duration": 37,
    "start_time": "2022-06-03T23:05:12.031Z"
   },
   {
    "duration": 35,
    "start_time": "2022-06-03T23:05:17.895Z"
   },
   {
    "duration": 35,
    "start_time": "2022-06-03T23:10:28.005Z"
   },
   {
    "duration": 28,
    "start_time": "2022-06-03T23:19:53.371Z"
   },
   {
    "duration": 38,
    "start_time": "2022-06-03T23:20:13.709Z"
   },
   {
    "duration": 37,
    "start_time": "2022-06-03T23:20:33.915Z"
   },
   {
    "duration": 36,
    "start_time": "2022-06-03T23:28:22.234Z"
   },
   {
    "duration": 2,
    "start_time": "2022-06-03T23:31:59.145Z"
   },
   {
    "duration": 109,
    "start_time": "2022-06-03T23:34:06.465Z"
   },
   {
    "duration": 18,
    "start_time": "2022-06-03T23:34:15.178Z"
   },
   {
    "duration": 41,
    "start_time": "2022-06-03T23:34:20.035Z"
   },
   {
    "duration": 16,
    "start_time": "2022-06-03T23:35:18.525Z"
   },
   {
    "duration": 36,
    "start_time": "2022-06-03T23:36:27.846Z"
   },
   {
    "duration": 37,
    "start_time": "2022-06-03T23:36:50.432Z"
   },
   {
    "duration": 146,
    "start_time": "2022-06-03T23:42:48.016Z"
   },
   {
    "duration": 34,
    "start_time": "2022-06-03T23:42:53.448Z"
   },
   {
    "duration": 37,
    "start_time": "2022-06-03T23:43:34.555Z"
   },
   {
    "duration": 36,
    "start_time": "2022-06-03T23:44:50.561Z"
   },
   {
    "duration": 38,
    "start_time": "2022-06-03T23:45:43.780Z"
   },
   {
    "duration": 34,
    "start_time": "2022-06-03T23:46:08.248Z"
   },
   {
    "duration": 95,
    "start_time": "2022-06-03T23:51:12.027Z"
   },
   {
    "duration": 36,
    "start_time": "2022-06-03T23:52:07.694Z"
   },
   {
    "duration": 36,
    "start_time": "2022-06-03T23:52:18.651Z"
   },
   {
    "duration": 33,
    "start_time": "2022-06-03T23:52:51.762Z"
   },
   {
    "duration": 14,
    "start_time": "2022-06-03T23:54:09.961Z"
   },
   {
    "duration": 34,
    "start_time": "2022-06-03T23:54:49.065Z"
   },
   {
    "duration": 2,
    "start_time": "2022-06-03T23:55:11.502Z"
   },
   {
    "duration": 408,
    "start_time": "2022-06-03T23:55:11.506Z"
   },
   {
    "duration": 7,
    "start_time": "2022-06-03T23:55:11.916Z"
   },
   {
    "duration": 84,
    "start_time": "2022-06-03T23:55:11.925Z"
   },
   {
    "duration": 64,
    "start_time": "2022-06-03T23:55:12.011Z"
   },
   {
    "duration": 161,
    "start_time": "2022-06-03T23:55:12.077Z"
   },
   {
    "duration": 1808,
    "start_time": "2022-06-03T23:55:12.240Z"
   },
   {
    "duration": 11,
    "start_time": "2022-06-03T23:55:14.049Z"
   },
   {
    "duration": 5,
    "start_time": "2022-06-03T23:55:14.061Z"
   },
   {
    "duration": 33,
    "start_time": "2022-06-03T23:55:17.034Z"
   },
   {
    "duration": 16,
    "start_time": "2022-06-04T00:01:00.914Z"
   },
   {
    "duration": 3,
    "start_time": "2022-06-04T00:01:08.271Z"
   },
   {
    "duration": 419,
    "start_time": "2022-06-04T00:01:08.277Z"
   },
   {
    "duration": 6,
    "start_time": "2022-06-04T00:01:08.698Z"
   },
   {
    "duration": 86,
    "start_time": "2022-06-04T00:01:08.706Z"
   },
   {
    "duration": 68,
    "start_time": "2022-06-04T00:01:08.794Z"
   },
   {
    "duration": 148,
    "start_time": "2022-06-04T00:01:08.864Z"
   },
   {
    "duration": 1809,
    "start_time": "2022-06-04T00:01:09.013Z"
   },
   {
    "duration": 21,
    "start_time": "2022-06-04T00:13:20.799Z"
   },
   {
    "duration": 13,
    "start_time": "2022-06-04T00:13:29.087Z"
   },
   {
    "duration": 1747,
    "start_time": "2022-06-04T00:26:50.299Z"
   },
   {
    "duration": 13,
    "start_time": "2022-06-04T00:26:52.048Z"
   },
   {
    "duration": 1253,
    "start_time": "2022-06-04T14:22:52.634Z"
   },
   {
    "duration": 945,
    "start_time": "2022-06-04T14:22:53.890Z"
   },
   {
    "duration": 9,
    "start_time": "2022-06-04T14:22:54.837Z"
   },
   {
    "duration": 80,
    "start_time": "2022-06-04T14:22:54.847Z"
   },
   {
    "duration": 65,
    "start_time": "2022-06-04T14:22:54.930Z"
   },
   {
    "duration": 165,
    "start_time": "2022-06-04T14:22:54.997Z"
   },
   {
    "duration": 1845,
    "start_time": "2022-06-04T14:22:55.164Z"
   },
   {
    "duration": 17,
    "start_time": "2022-06-04T14:22:57.011Z"
   },
   {
    "duration": 391,
    "start_time": "2022-06-04T14:39:02.147Z"
   },
   {
    "duration": 154,
    "start_time": "2022-06-04T14:39:37.655Z"
   },
   {
    "duration": 447,
    "start_time": "2022-06-04T14:39:49.851Z"
   },
   {
    "duration": 424,
    "start_time": "2022-06-04T14:41:23.883Z"
   },
   {
    "duration": 164,
    "start_time": "2022-06-04T14:50:41.211Z"
   },
   {
    "duration": 109,
    "start_time": "2022-06-04T14:50:48.708Z"
   },
   {
    "duration": 621,
    "start_time": "2022-06-04T14:51:53.916Z"
   },
   {
    "duration": 450,
    "start_time": "2022-06-04T14:52:07.312Z"
   },
   {
    "duration": 378,
    "start_time": "2022-06-04T14:53:01.963Z"
   },
   {
    "duration": 566,
    "start_time": "2022-06-04T14:53:06.145Z"
   },
   {
    "duration": 31,
    "start_time": "2022-06-04T14:55:57.749Z"
   },
   {
    "duration": 50,
    "start_time": "2022-06-04T14:56:21.539Z"
   },
   {
    "duration": 545,
    "start_time": "2022-06-04T14:56:30.004Z"
   },
   {
    "duration": 413,
    "start_time": "2022-06-04T14:59:33.854Z"
   },
   {
    "duration": 39,
    "start_time": "2022-06-04T14:59:39.621Z"
   },
   {
    "duration": 186,
    "start_time": "2022-06-04T14:59:51.342Z"
   },
   {
    "duration": 307,
    "start_time": "2022-06-04T15:02:08.726Z"
   },
   {
    "duration": 356,
    "start_time": "2022-06-04T15:02:26.136Z"
   },
   {
    "duration": 369,
    "start_time": "2022-06-04T15:03:03.159Z"
   },
   {
    "duration": 251,
    "start_time": "2022-06-04T15:03:17.781Z"
   },
   {
    "duration": 376,
    "start_time": "2022-06-04T15:06:36.699Z"
   },
   {
    "duration": 374,
    "start_time": "2022-06-04T15:07:05.056Z"
   },
   {
    "duration": 583,
    "start_time": "2022-06-04T15:07:31.803Z"
   },
   {
    "duration": 590,
    "start_time": "2022-06-04T15:08:04.899Z"
   },
   {
    "duration": 469,
    "start_time": "2022-06-04T15:08:23.019Z"
   },
   {
    "duration": 5,
    "start_time": "2022-06-04T15:09:59.223Z"
   },
   {
    "duration": 11,
    "start_time": "2022-06-04T15:10:04.242Z"
   },
   {
    "duration": 6,
    "start_time": "2022-06-04T15:10:25.740Z"
   },
   {
    "duration": 7,
    "start_time": "2022-06-04T15:10:37.553Z"
   },
   {
    "duration": 879,
    "start_time": "2022-06-04T15:14:09.078Z"
   },
   {
    "duration": 896,
    "start_time": "2022-06-04T15:14:57.541Z"
   },
   {
    "duration": 185,
    "start_time": "2022-06-04T15:16:56.506Z"
   },
   {
    "duration": 42,
    "start_time": "2022-06-04T15:17:12.650Z"
   },
   {
    "duration": 41,
    "start_time": "2022-06-04T15:17:23.880Z"
   },
   {
    "duration": 27,
    "start_time": "2022-06-04T15:17:38.545Z"
   },
   {
    "duration": 474,
    "start_time": "2022-06-04T15:20:17.142Z"
   },
   {
    "duration": 574,
    "start_time": "2022-06-04T15:21:35.381Z"
   },
   {
    "duration": 403,
    "start_time": "2022-06-04T15:22:31.178Z"
   },
   {
    "duration": 420,
    "start_time": "2022-06-04T15:24:29.534Z"
   },
   {
    "duration": 418,
    "start_time": "2022-06-04T15:25:00.597Z"
   },
   {
    "duration": 972,
    "start_time": "2022-06-04T15:26:19.014Z"
   },
   {
    "duration": 165,
    "start_time": "2022-06-04T15:27:51.129Z"
   },
   {
    "duration": 155,
    "start_time": "2022-06-04T15:28:11.546Z"
   },
   {
    "duration": 156,
    "start_time": "2022-06-04T15:28:15.085Z"
   },
   {
    "duration": 163,
    "start_time": "2022-06-04T15:28:28.601Z"
   },
   {
    "duration": 213,
    "start_time": "2022-06-04T15:28:43.124Z"
   },
   {
    "duration": 172,
    "start_time": "2022-06-04T15:29:05.781Z"
   },
   {
    "duration": 263,
    "start_time": "2022-06-04T15:29:08.129Z"
   },
   {
    "duration": 826,
    "start_time": "2022-06-04T15:30:25.081Z"
   },
   {
    "duration": 148,
    "start_time": "2022-06-04T15:30:45.101Z"
   },
   {
    "duration": 124,
    "start_time": "2022-06-04T15:30:47.035Z"
   },
   {
    "duration": 164,
    "start_time": "2022-06-04T15:31:04.014Z"
   },
   {
    "duration": 193,
    "start_time": "2022-06-04T15:31:05.793Z"
   },
   {
    "duration": 872,
    "start_time": "2022-06-04T15:31:22.613Z"
   },
   {
    "duration": 827,
    "start_time": "2022-06-04T15:31:27.212Z"
   },
   {
    "duration": 1008,
    "start_time": "2022-06-04T15:32:12.577Z"
   },
   {
    "duration": 902,
    "start_time": "2022-06-04T15:33:44.997Z"
   },
   {
    "duration": 636,
    "start_time": "2022-06-04T15:33:57.421Z"
   },
   {
    "duration": 1080,
    "start_time": "2022-06-04T15:34:12.697Z"
   },
   {
    "duration": 37,
    "start_time": "2022-06-04T15:39:03.621Z"
   },
   {
    "duration": 877,
    "start_time": "2022-06-04T15:39:12.589Z"
   },
   {
    "duration": 331,
    "start_time": "2022-06-04T15:41:11.021Z"
   },
   {
    "duration": 30,
    "start_time": "2022-06-04T15:43:42.092Z"
   },
   {
    "duration": 979,
    "start_time": "2022-06-04T15:49:01.565Z"
   },
   {
    "duration": 45,
    "start_time": "2022-06-04T15:51:09.188Z"
   },
   {
    "duration": 1047,
    "start_time": "2022-06-04T16:01:19.296Z"
   },
   {
    "duration": 1669,
    "start_time": "2022-06-04T16:02:26.613Z"
   },
   {
    "duration": 906,
    "start_time": "2022-06-04T16:02:38.776Z"
   },
   {
    "duration": 865,
    "start_time": "2022-06-04T16:02:42.460Z"
   },
   {
    "duration": 1497,
    "start_time": "2022-06-04T16:02:50.668Z"
   },
   {
    "duration": 1303,
    "start_time": "2022-06-04T16:04:55.301Z"
   },
   {
    "duration": 1072,
    "start_time": "2022-06-04T16:05:08.633Z"
   },
   {
    "duration": 1276,
    "start_time": "2022-06-04T16:05:16.872Z"
   },
   {
    "duration": 1011,
    "start_time": "2022-06-04T16:05:30.196Z"
   },
   {
    "duration": 931,
    "start_time": "2022-06-04T16:06:01.176Z"
   },
   {
    "duration": 990,
    "start_time": "2022-06-04T16:07:37.907Z"
   },
   {
    "duration": 837,
    "start_time": "2022-06-04T16:07:49.172Z"
   },
   {
    "duration": 896,
    "start_time": "2022-06-04T16:24:43.314Z"
   },
   {
    "duration": 1000,
    "start_time": "2022-06-04T16:24:51.054Z"
   },
   {
    "duration": 828,
    "start_time": "2022-06-04T16:24:56.437Z"
   },
   {
    "duration": 1010,
    "start_time": "2022-06-04T16:25:11.062Z"
   },
   {
    "duration": 913,
    "start_time": "2022-06-04T16:25:21.295Z"
   },
   {
    "duration": 998,
    "start_time": "2022-06-04T16:33:29.505Z"
   },
   {
    "duration": 902,
    "start_time": "2022-06-04T16:33:44.921Z"
   },
   {
    "duration": 1003,
    "start_time": "2022-06-04T16:34:38.516Z"
   },
   {
    "duration": 850,
    "start_time": "2022-06-04T16:34:48.504Z"
   },
   {
    "duration": 1141,
    "start_time": "2022-06-04T16:35:02.316Z"
   },
   {
    "duration": 1143,
    "start_time": "2022-06-04T16:35:16.414Z"
   },
   {
    "duration": 928,
    "start_time": "2022-06-04T16:41:54.703Z"
   },
   {
    "duration": 1064,
    "start_time": "2022-06-04T16:42:23.103Z"
   },
   {
    "duration": 941,
    "start_time": "2022-06-04T16:43:02.822Z"
   },
   {
    "duration": 887,
    "start_time": "2022-06-04T17:06:00.012Z"
   },
   {
    "duration": 792,
    "start_time": "2022-06-04T17:06:12.188Z"
   },
   {
    "duration": 1186,
    "start_time": "2022-06-04T17:06:46.125Z"
   },
   {
    "duration": 1045,
    "start_time": "2022-06-04T17:07:01.405Z"
   },
   {
    "duration": 784,
    "start_time": "2022-06-04T17:07:29.912Z"
   },
   {
    "duration": 1061,
    "start_time": "2022-06-04T17:08:29.103Z"
   },
   {
    "duration": 872,
    "start_time": "2022-06-04T17:16:03.017Z"
   },
   {
    "duration": 1162,
    "start_time": "2022-06-04T17:17:05.651Z"
   },
   {
    "duration": 896,
    "start_time": "2022-06-04T17:17:14.794Z"
   },
   {
    "duration": 969,
    "start_time": "2022-06-04T17:18:42.703Z"
   },
   {
    "duration": 24,
    "start_time": "2022-06-04T17:18:56.013Z"
   },
   {
    "duration": 818,
    "start_time": "2022-06-04T17:19:00.296Z"
   },
   {
    "duration": 26,
    "start_time": "2022-06-04T17:19:13.703Z"
   },
   {
    "duration": 1030,
    "start_time": "2022-06-04T17:19:24.807Z"
   },
   {
    "duration": 2,
    "start_time": "2022-06-04T17:19:59.951Z"
   },
   {
    "duration": 903,
    "start_time": "2022-06-04T17:20:26.220Z"
   },
   {
    "duration": 796,
    "start_time": "2022-06-04T17:20:32.085Z"
   },
   {
    "duration": 1058,
    "start_time": "2022-06-04T17:22:00.543Z"
   },
   {
    "duration": 782,
    "start_time": "2022-06-04T17:22:17.658Z"
   },
   {
    "duration": 943,
    "start_time": "2022-06-04T17:23:50.008Z"
   },
   {
    "duration": 505,
    "start_time": "2022-06-04T17:24:15.046Z"
   },
   {
    "duration": 442,
    "start_time": "2022-06-04T17:24:24.805Z"
   },
   {
    "duration": 644,
    "start_time": "2022-06-04T17:24:31.849Z"
   },
   {
    "duration": 426,
    "start_time": "2022-06-04T17:24:37.895Z"
   },
   {
    "duration": 136,
    "start_time": "2022-06-04T17:25:32.987Z"
   },
   {
    "duration": 127,
    "start_time": "2022-06-04T17:25:45.098Z"
   },
   {
    "duration": 792,
    "start_time": "2022-06-04T17:26:20.509Z"
   },
   {
    "duration": 174,
    "start_time": "2022-06-04T17:26:45.744Z"
   },
   {
    "duration": 925,
    "start_time": "2022-06-04T17:27:32.989Z"
   },
   {
    "duration": 866,
    "start_time": "2022-06-04T17:27:40.348Z"
   },
   {
    "duration": 3536,
    "start_time": "2022-06-04T17:30:27.294Z"
   },
   {
    "duration": 3879,
    "start_time": "2022-06-04T17:30:43.230Z"
   },
   {
    "duration": 22,
    "start_time": "2022-06-04T17:31:24.932Z"
   },
   {
    "duration": 23,
    "start_time": "2022-06-04T17:31:30.844Z"
   },
   {
    "duration": 749,
    "start_time": "2022-06-04T17:31:38.789Z"
   },
   {
    "duration": 1099,
    "start_time": "2022-06-04T17:35:09.298Z"
   },
   {
    "duration": 1724,
    "start_time": "2022-06-04T17:38:16.306Z"
   },
   {
    "duration": 237,
    "start_time": "2022-06-04T18:05:31.836Z"
   },
   {
    "duration": 1508,
    "start_time": "2022-06-04T18:05:40.312Z"
   },
   {
    "duration": 1128,
    "start_time": "2022-06-04T18:07:28.804Z"
   },
   {
    "duration": 922,
    "start_time": "2022-06-04T18:10:40.400Z"
   },
   {
    "duration": 1178,
    "start_time": "2022-06-04T18:11:02.026Z"
   },
   {
    "duration": 898,
    "start_time": "2022-06-04T18:11:28.060Z"
   },
   {
    "duration": 1068,
    "start_time": "2022-06-04T18:15:19.813Z"
   },
   {
    "duration": 1654,
    "start_time": "2022-06-04T18:16:55.436Z"
   },
   {
    "duration": 1742,
    "start_time": "2022-06-04T18:17:41.400Z"
   },
   {
    "duration": 1579,
    "start_time": "2022-06-04T18:18:59.002Z"
   },
   {
    "duration": 1594,
    "start_time": "2022-06-04T18:19:46.098Z"
   },
   {
    "duration": 1856,
    "start_time": "2022-06-04T18:20:13.815Z"
   },
   {
    "duration": 1499,
    "start_time": "2022-06-04T18:23:25.609Z"
   },
   {
    "duration": 1846,
    "start_time": "2022-06-04T18:23:33.439Z"
   },
   {
    "duration": 1798,
    "start_time": "2022-06-04T18:23:54.562Z"
   },
   {
    "duration": 1885,
    "start_time": "2022-06-04T18:25:27.109Z"
   },
   {
    "duration": 1706,
    "start_time": "2022-06-04T18:27:13.907Z"
   },
   {
    "duration": 1816,
    "start_time": "2022-06-04T18:27:29.627Z"
   },
   {
    "duration": 1989,
    "start_time": "2022-06-04T18:27:39.988Z"
   },
   {
    "duration": 1879,
    "start_time": "2022-06-04T18:27:55.708Z"
   },
   {
    "duration": 1941,
    "start_time": "2022-06-04T18:28:38.788Z"
   },
   {
    "duration": 2056,
    "start_time": "2022-06-04T18:29:01.696Z"
   },
   {
    "duration": 1613,
    "start_time": "2022-06-04T18:29:17.556Z"
   },
   {
    "duration": 1737,
    "start_time": "2022-06-04T18:29:41.559Z"
   },
   {
    "duration": 1687,
    "start_time": "2022-06-04T18:29:55.605Z"
   },
   {
    "duration": 1972,
    "start_time": "2022-06-04T18:30:07.431Z"
   },
   {
    "duration": 1747,
    "start_time": "2022-06-04T18:30:18.256Z"
   },
   {
    "duration": 1796,
    "start_time": "2022-06-04T18:30:36.015Z"
   },
   {
    "duration": 1542,
    "start_time": "2022-06-04T18:30:44.307Z"
   },
   {
    "duration": 2130,
    "start_time": "2022-06-04T18:30:51.546Z"
   },
   {
    "duration": 1536,
    "start_time": "2022-06-04T18:30:58.618Z"
   },
   {
    "duration": 1646,
    "start_time": "2022-06-04T18:31:12.243Z"
   },
   {
    "duration": 1589,
    "start_time": "2022-06-04T18:31:19.959Z"
   },
   {
    "duration": 1612,
    "start_time": "2022-06-04T18:31:31.101Z"
   },
   {
    "duration": 2088,
    "start_time": "2022-06-04T18:31:38.999Z"
   },
   {
    "duration": 1683,
    "start_time": "2022-06-04T18:33:13.200Z"
   },
   {
    "duration": 1608,
    "start_time": "2022-06-04T18:33:22.192Z"
   },
   {
    "duration": 1506,
    "start_time": "2022-06-04T18:33:32.316Z"
   },
   {
    "duration": 1559,
    "start_time": "2022-06-04T18:33:43.810Z"
   },
   {
    "duration": 1741,
    "start_time": "2022-06-04T18:34:01.330Z"
   },
   {
    "duration": 1745,
    "start_time": "2022-06-04T18:34:10.911Z"
   },
   {
    "duration": 2262,
    "start_time": "2022-06-04T18:34:20.903Z"
   },
   {
    "duration": 1682,
    "start_time": "2022-06-04T18:34:28.387Z"
   },
   {
    "duration": 1570,
    "start_time": "2022-06-04T18:34:34.543Z"
   },
   {
    "duration": 1640,
    "start_time": "2022-06-04T18:34:43.741Z"
   },
   {
    "duration": 1555,
    "start_time": "2022-06-04T18:34:58.660Z"
   },
   {
    "duration": 1639,
    "start_time": "2022-06-04T18:36:35.595Z"
   },
   {
    "duration": 1718,
    "start_time": "2022-06-04T18:36:40.925Z"
   },
   {
    "duration": 2401,
    "start_time": "2022-06-04T18:36:52.091Z"
   },
   {
    "duration": 1706,
    "start_time": "2022-06-04T18:37:08.618Z"
   },
   {
    "duration": 1685,
    "start_time": "2022-06-04T18:38:05.718Z"
   },
   {
    "duration": 1575,
    "start_time": "2022-06-04T18:38:27.092Z"
   },
   {
    "duration": 1626,
    "start_time": "2022-06-04T18:38:41.699Z"
   },
   {
    "duration": 1621,
    "start_time": "2022-06-04T18:38:51.995Z"
   },
   {
    "duration": 1638,
    "start_time": "2022-06-04T18:38:57.304Z"
   },
   {
    "duration": 1705,
    "start_time": "2022-06-04T18:39:07.387Z"
   },
   {
    "duration": 1581,
    "start_time": "2022-06-04T18:39:24.188Z"
   },
   {
    "duration": 2540,
    "start_time": "2022-06-04T18:39:47.221Z"
   },
   {
    "duration": 1565,
    "start_time": "2022-06-04T18:39:55.442Z"
   },
   {
    "duration": 1813,
    "start_time": "2022-06-04T18:40:22.395Z"
   },
   {
    "duration": 1568,
    "start_time": "2022-06-04T18:40:31.911Z"
   },
   {
    "duration": 1781,
    "start_time": "2022-06-04T18:40:41.727Z"
   },
   {
    "duration": 1586,
    "start_time": "2022-06-04T18:40:48.783Z"
   },
   {
    "duration": 1793,
    "start_time": "2022-06-04T18:41:36.188Z"
   },
   {
    "duration": 1785,
    "start_time": "2022-06-04T18:41:56.716Z"
   },
   {
    "duration": 1705,
    "start_time": "2022-06-04T18:42:05.694Z"
   },
   {
    "duration": 12215,
    "start_time": "2022-06-04T18:46:57.692Z"
   },
   {
    "duration": 1859,
    "start_time": "2022-06-04T18:48:41.825Z"
   },
   {
    "duration": 1569,
    "start_time": "2022-06-04T18:48:59.519Z"
   },
   {
    "duration": 1275,
    "start_time": "2022-06-04T19:01:34.303Z"
   },
   {
    "duration": 1644,
    "start_time": "2022-06-04T19:01:43.887Z"
   },
   {
    "duration": 1429,
    "start_time": "2022-06-04T19:02:50.639Z"
   },
   {
    "duration": 1469,
    "start_time": "2022-06-04T19:03:39.953Z"
   },
   {
    "duration": 1546,
    "start_time": "2022-06-04T19:04:16.979Z"
   },
   {
    "duration": 4,
    "start_time": "2022-06-04T19:26:00.695Z"
   },
   {
    "duration": 9,
    "start_time": "2022-06-04T19:26:05.358Z"
   },
   {
    "duration": 353,
    "start_time": "2022-06-04T19:26:45.915Z"
   },
   {
    "duration": 7,
    "start_time": "2022-06-04T19:26:58.976Z"
   },
   {
    "duration": 19,
    "start_time": "2022-06-04T19:31:29.676Z"
   },
   {
    "duration": 15,
    "start_time": "2022-06-04T19:31:43.396Z"
   },
   {
    "duration": 20,
    "start_time": "2022-06-04T19:31:55.152Z"
   },
   {
    "duration": 29,
    "start_time": "2022-06-04T19:41:25.031Z"
   },
   {
    "duration": 30,
    "start_time": "2022-06-04T19:45:52.193Z"
   },
   {
    "duration": 979,
    "start_time": "2022-06-04T19:46:30.234Z"
   },
   {
    "duration": 29,
    "start_time": "2022-06-04T19:47:26.191Z"
   },
   {
    "duration": 30,
    "start_time": "2022-06-04T19:49:22.697Z"
   },
   {
    "duration": 48,
    "start_time": "2022-06-04T19:50:48.502Z"
   },
   {
    "duration": 28,
    "start_time": "2022-06-04T19:51:09.528Z"
   },
   {
    "duration": 44,
    "start_time": "2022-06-04T19:51:18.095Z"
   },
   {
    "duration": 59,
    "start_time": "2022-06-04T19:52:34.898Z"
   },
   {
    "duration": 43,
    "start_time": "2022-06-04T20:00:06.564Z"
   },
   {
    "duration": 40,
    "start_time": "2022-06-04T20:00:14.601Z"
   },
   {
    "duration": 40,
    "start_time": "2022-06-04T20:01:27.963Z"
   },
   {
    "duration": 42,
    "start_time": "2022-06-04T20:01:38.262Z"
   },
   {
    "duration": 45,
    "start_time": "2022-06-04T20:01:46.811Z"
   },
   {
    "duration": 42,
    "start_time": "2022-06-04T20:01:52.705Z"
   },
   {
    "duration": 38,
    "start_time": "2022-06-04T20:01:59.005Z"
   },
   {
    "duration": 29,
    "start_time": "2022-06-04T20:04:07.593Z"
   },
   {
    "duration": 54,
    "start_time": "2022-06-04T20:04:13.219Z"
   },
   {
    "duration": 61,
    "start_time": "2022-06-04T20:04:31.221Z"
   },
   {
    "duration": 56,
    "start_time": "2022-06-04T20:04:46.363Z"
   },
   {
    "duration": 7,
    "start_time": "2022-06-04T20:05:26.901Z"
   },
   {
    "duration": 7,
    "start_time": "2022-06-04T20:05:29.428Z"
   },
   {
    "duration": 7,
    "start_time": "2022-06-04T20:05:33.952Z"
   },
   {
    "duration": 50,
    "start_time": "2022-06-04T20:05:46.651Z"
   },
   {
    "duration": 47,
    "start_time": "2022-06-04T20:06:03.640Z"
   },
   {
    "duration": 54,
    "start_time": "2022-06-04T20:06:13.964Z"
   },
   {
    "duration": 53,
    "start_time": "2022-06-04T20:06:33.129Z"
   },
   {
    "duration": 40,
    "start_time": "2022-06-04T20:07:00.519Z"
   },
   {
    "duration": 28,
    "start_time": "2022-06-04T20:07:44.083Z"
   },
   {
    "duration": 56,
    "start_time": "2022-06-04T20:07:46.145Z"
   },
   {
    "duration": 49,
    "start_time": "2022-06-04T20:07:49.697Z"
   },
   {
    "duration": 41,
    "start_time": "2022-06-04T20:07:55.164Z"
   },
   {
    "duration": 54,
    "start_time": "2022-06-04T20:08:06.789Z"
   },
   {
    "duration": 45,
    "start_time": "2022-06-04T20:10:45.515Z"
   },
   {
    "duration": 38,
    "start_time": "2022-06-04T20:10:50.005Z"
   },
   {
    "duration": 48,
    "start_time": "2022-06-04T20:11:42.609Z"
   },
   {
    "duration": 39,
    "start_time": "2022-06-04T20:11:56.591Z"
   },
   {
    "duration": 41,
    "start_time": "2022-06-04T20:12:06.822Z"
   },
   {
    "duration": 50,
    "start_time": "2022-06-04T20:12:16.449Z"
   },
   {
    "duration": 42,
    "start_time": "2022-06-04T20:12:56.916Z"
   },
   {
    "duration": 41,
    "start_time": "2022-06-04T20:15:00.037Z"
   },
   {
    "duration": 1701,
    "start_time": "2022-06-04T20:24:49.462Z"
   },
   {
    "duration": 1137,
    "start_time": "2022-06-04T20:25:20.994Z"
   },
   {
    "duration": 1767,
    "start_time": "2022-06-04T20:25:36.763Z"
   },
   {
    "duration": 1106,
    "start_time": "2022-06-04T20:25:40.513Z"
   },
   {
    "duration": 18,
    "start_time": "2022-06-04T20:26:01.066Z"
   },
   {
    "duration": 4,
    "start_time": "2022-06-04T20:26:28.191Z"
   },
   {
    "duration": 1239,
    "start_time": "2022-06-04T20:26:28.197Z"
   },
   {
    "duration": 9,
    "start_time": "2022-06-04T20:26:29.438Z"
   },
   {
    "duration": 92,
    "start_time": "2022-06-04T20:26:29.449Z"
   },
   {
    "duration": 66,
    "start_time": "2022-06-04T20:26:29.542Z"
   },
   {
    "duration": 185,
    "start_time": "2022-06-04T20:26:29.610Z"
   },
   {
    "duration": 1762,
    "start_time": "2022-06-04T20:26:31.755Z"
   },
   {
    "duration": 1179,
    "start_time": "2022-06-04T20:26:35.432Z"
   },
   {
    "duration": 1664,
    "start_time": "2022-06-04T20:27:00.521Z"
   },
   {
    "duration": 1238,
    "start_time": "2022-06-04T20:27:15.906Z"
   },
   {
    "duration": 45,
    "start_time": "2022-06-04T20:27:42.955Z"
   },
   {
    "duration": 45,
    "start_time": "2022-06-04T20:27:56.821Z"
   },
   {
    "duration": 3,
    "start_time": "2022-06-04T20:28:12.341Z"
   },
   {
    "duration": 436,
    "start_time": "2022-06-04T20:28:12.346Z"
   },
   {
    "duration": 7,
    "start_time": "2022-06-04T20:28:12.784Z"
   },
   {
    "duration": 91,
    "start_time": "2022-06-04T20:28:12.793Z"
   },
   {
    "duration": 72,
    "start_time": "2022-06-04T20:28:12.886Z"
   },
   {
    "duration": 145,
    "start_time": "2022-06-04T20:28:12.959Z"
   },
   {
    "duration": 1873,
    "start_time": "2022-06-04T20:28:13.106Z"
   },
   {
    "duration": 1393,
    "start_time": "2022-06-04T20:28:14.981Z"
   },
   {
    "duration": 3,
    "start_time": "2022-06-04T20:28:18.542Z"
   },
   {
    "duration": 434,
    "start_time": "2022-06-04T20:28:18.547Z"
   },
   {
    "duration": 8,
    "start_time": "2022-06-04T20:28:18.983Z"
   },
   {
    "duration": 80,
    "start_time": "2022-06-04T20:28:18.994Z"
   },
   {
    "duration": 67,
    "start_time": "2022-06-04T20:28:19.076Z"
   },
   {
    "duration": 174,
    "start_time": "2022-06-04T20:28:19.145Z"
   },
   {
    "duration": 1731,
    "start_time": "2022-06-04T20:28:19.326Z"
   },
   {
    "duration": 1248,
    "start_time": "2022-06-04T20:28:21.058Z"
   },
   {
    "duration": 43,
    "start_time": "2022-06-04T20:28:22.308Z"
   },
   {
    "duration": 44,
    "start_time": "2022-06-04T20:28:22.353Z"
   },
   {
    "duration": 46,
    "start_time": "2022-06-04T20:29:02.891Z"
   },
   {
    "duration": 36,
    "start_time": "2022-06-04T20:29:25.138Z"
   },
   {
    "duration": 60,
    "start_time": "2022-06-04T20:29:36.491Z"
   },
   {
    "duration": 48,
    "start_time": "2022-06-04T20:30:16.135Z"
   },
   {
    "duration": 49,
    "start_time": "2022-06-04T20:34:02.587Z"
   },
   {
    "duration": 38,
    "start_time": "2022-06-04T20:37:18.789Z"
   },
   {
    "duration": 1836,
    "start_time": "2022-06-04T20:38:44.317Z"
   },
   {
    "duration": 37,
    "start_time": "2022-06-04T20:40:28.854Z"
   },
   {
    "duration": 1951,
    "start_time": "2022-06-04T20:46:51.976Z"
   },
   {
    "duration": 1246,
    "start_time": "2022-06-04T20:46:57.456Z"
   },
   {
    "duration": 13,
    "start_time": "2022-06-04T20:47:11.507Z"
   },
   {
    "duration": 40,
    "start_time": "2022-06-04T20:47:15.929Z"
   },
   {
    "duration": 50,
    "start_time": "2022-06-04T20:50:49.853Z"
   },
   {
    "duration": 1496,
    "start_time": "2022-06-05T16:24:09.609Z"
   },
   {
    "duration": 1305,
    "start_time": "2022-06-05T16:24:11.107Z"
   },
   {
    "duration": 10,
    "start_time": "2022-06-05T16:24:12.413Z"
   },
   {
    "duration": 92,
    "start_time": "2022-06-05T16:24:12.425Z"
   },
   {
    "duration": 76,
    "start_time": "2022-06-05T16:24:12.525Z"
   },
   {
    "duration": 215,
    "start_time": "2022-06-05T16:24:12.603Z"
   },
   {
    "duration": 2482,
    "start_time": "2022-06-05T16:24:12.819Z"
   },
   {
    "duration": 2117,
    "start_time": "2022-06-05T16:24:15.303Z"
   },
   {
    "duration": 71,
    "start_time": "2022-06-05T16:24:17.422Z"
   },
   {
    "duration": 299,
    "start_time": "2022-06-05T16:24:17.496Z"
   },
   {
    "duration": 4,
    "start_time": "2022-06-05T16:52:05.615Z"
   },
   {
    "duration": 442,
    "start_time": "2022-06-05T16:52:05.621Z"
   },
   {
    "duration": 10,
    "start_time": "2022-06-05T16:52:06.065Z"
   },
   {
    "duration": 102,
    "start_time": "2022-06-05T16:52:06.077Z"
   },
   {
    "duration": 75,
    "start_time": "2022-06-05T16:52:06.181Z"
   },
   {
    "duration": 169,
    "start_time": "2022-06-05T16:52:06.257Z"
   },
   {
    "duration": 1982,
    "start_time": "2022-06-05T16:52:06.428Z"
   },
   {
    "duration": 1440,
    "start_time": "2022-06-05T16:52:08.412Z"
   },
   {
    "duration": 41,
    "start_time": "2022-06-05T16:52:09.854Z"
   },
   {
    "duration": 215,
    "start_time": "2022-06-05T16:52:09.897Z"
   },
   {
    "duration": 315,
    "start_time": "2022-06-05T16:53:53.764Z"
   },
   {
    "duration": 116,
    "start_time": "2022-06-05T17:00:28.603Z"
   },
   {
    "duration": 4,
    "start_time": "2022-06-05T17:00:34.251Z"
   },
   {
    "duration": 538,
    "start_time": "2022-06-05T17:00:34.257Z"
   },
   {
    "duration": 11,
    "start_time": "2022-06-05T17:00:34.797Z"
   },
   {
    "duration": 107,
    "start_time": "2022-06-05T17:00:34.811Z"
   },
   {
    "duration": 78,
    "start_time": "2022-06-05T17:00:34.920Z"
   },
   {
    "duration": 185,
    "start_time": "2022-06-05T17:00:35.000Z"
   },
   {
    "duration": 2122,
    "start_time": "2022-06-05T17:00:35.187Z"
   },
   {
    "duration": 1731,
    "start_time": "2022-06-05T17:00:37.311Z"
   },
   {
    "duration": 65,
    "start_time": "2022-06-05T17:00:39.051Z"
   },
   {
    "duration": 313,
    "start_time": "2022-06-05T17:00:39.119Z"
   },
   {
    "duration": 36,
    "start_time": "2022-06-05T17:00:39.439Z"
   },
   {
    "duration": 14,
    "start_time": "2022-06-05T17:00:49.546Z"
   },
   {
    "duration": 175,
    "start_time": "2022-06-05T17:01:02.584Z"
   },
   {
    "duration": 113,
    "start_time": "2022-06-05T17:01:12.447Z"
   },
   {
    "duration": 142,
    "start_time": "2022-06-05T17:01:51.160Z"
   },
   {
    "duration": 168,
    "start_time": "2022-06-05T17:01:56.224Z"
   },
   {
    "duration": 229,
    "start_time": "2022-06-05T17:08:36.854Z"
   },
   {
    "duration": 152,
    "start_time": "2022-06-05T17:08:43.341Z"
   },
   {
    "duration": 127,
    "start_time": "2022-06-05T17:09:25.052Z"
   },
   {
    "duration": 195,
    "start_time": "2022-06-05T17:20:26.706Z"
   },
   {
    "duration": 124,
    "start_time": "2022-06-05T17:27:44.662Z"
   },
   {
    "duration": 17,
    "start_time": "2022-06-05T17:28:02.542Z"
   },
   {
    "duration": 179,
    "start_time": "2022-06-05T17:29:13.317Z"
   },
   {
    "duration": 8,
    "start_time": "2022-06-05T17:31:15.804Z"
   },
   {
    "duration": 8,
    "start_time": "2022-06-05T17:31:23.379Z"
   },
   {
    "duration": 8,
    "start_time": "2022-06-05T18:34:02.258Z"
   },
   {
    "duration": 203,
    "start_time": "2022-06-05T18:40:15.456Z"
   },
   {
    "duration": 170,
    "start_time": "2022-06-05T18:40:31.963Z"
   },
   {
    "duration": 237,
    "start_time": "2022-06-05T18:41:02.174Z"
   },
   {
    "duration": 311,
    "start_time": "2022-06-05T18:41:18.516Z"
   },
   {
    "duration": 499,
    "start_time": "2022-06-05T18:46:25.186Z"
   },
   {
    "duration": 178,
    "start_time": "2022-06-05T18:46:50.993Z"
   },
   {
    "duration": 15,
    "start_time": "2022-06-05T18:47:05.412Z"
   },
   {
    "duration": 11,
    "start_time": "2022-06-05T18:51:27.456Z"
   },
   {
    "duration": 12,
    "start_time": "2022-06-05T18:51:33.500Z"
   },
   {
    "duration": 211,
    "start_time": "2022-06-05T18:51:50.842Z"
   },
   {
    "duration": 299,
    "start_time": "2022-06-05T18:52:06.310Z"
   },
   {
    "duration": 199,
    "start_time": "2022-06-05T18:52:37.051Z"
   },
   {
    "duration": 156,
    "start_time": "2022-06-05T18:52:54.775Z"
   },
   {
    "duration": 166,
    "start_time": "2022-06-05T18:53:08.822Z"
   },
   {
    "duration": 159,
    "start_time": "2022-06-05T18:53:59.097Z"
   },
   {
    "duration": 151,
    "start_time": "2022-06-05T18:54:10.491Z"
   },
   {
    "duration": 141,
    "start_time": "2022-06-05T18:54:37.947Z"
   },
   {
    "duration": 197,
    "start_time": "2022-06-05T18:54:47.848Z"
   },
   {
    "duration": 181,
    "start_time": "2022-06-05T18:55:09.575Z"
   },
   {
    "duration": 143,
    "start_time": "2022-06-05T18:55:15.916Z"
   },
   {
    "duration": 182,
    "start_time": "2022-06-05T18:55:51.368Z"
   },
   {
    "duration": 182,
    "start_time": "2022-06-05T18:56:05.790Z"
   },
   {
    "duration": 201,
    "start_time": "2022-06-05T19:07:04.978Z"
   },
   {
    "duration": 165,
    "start_time": "2022-06-05T19:07:16.541Z"
   },
   {
    "duration": 216,
    "start_time": "2022-06-05T19:07:22.440Z"
   },
   {
    "duration": 188,
    "start_time": "2022-06-05T19:07:27.769Z"
   },
   {
    "duration": 11,
    "start_time": "2022-06-05T19:12:33.349Z"
   },
   {
    "duration": 5,
    "start_time": "2022-06-05T19:12:38.286Z"
   },
   {
    "duration": 5,
    "start_time": "2022-06-05T19:12:44.086Z"
   },
   {
    "duration": 6,
    "start_time": "2022-06-05T19:12:47.644Z"
   },
   {
    "duration": 169,
    "start_time": "2022-06-05T19:13:02.721Z"
   },
   {
    "duration": 122,
    "start_time": "2022-06-05T19:13:06.456Z"
   },
   {
    "duration": 162,
    "start_time": "2022-06-05T19:13:11.918Z"
   },
   {
    "duration": 167,
    "start_time": "2022-06-05T19:15:24.489Z"
   },
   {
    "duration": 295,
    "start_time": "2022-06-05T19:18:52.072Z"
   },
   {
    "duration": 145,
    "start_time": "2022-06-05T19:18:59.355Z"
   },
   {
    "duration": 118,
    "start_time": "2022-06-05T19:19:47.076Z"
   },
   {
    "duration": 141,
    "start_time": "2022-06-05T19:19:51.477Z"
   },
   {
    "duration": 122,
    "start_time": "2022-06-05T19:19:55.044Z"
   },
   {
    "duration": 133,
    "start_time": "2022-06-05T19:20:11.750Z"
   },
   {
    "duration": 118,
    "start_time": "2022-06-05T19:20:16.005Z"
   },
   {
    "duration": 130,
    "start_time": "2022-06-05T19:20:25.246Z"
   },
   {
    "duration": 114,
    "start_time": "2022-06-05T19:20:30.568Z"
   },
   {
    "duration": 157,
    "start_time": "2022-06-05T19:20:34.585Z"
   },
   {
    "duration": 123,
    "start_time": "2022-06-05T19:20:38.806Z"
   },
   {
    "duration": 133,
    "start_time": "2022-06-05T19:20:43.840Z"
   },
   {
    "duration": 122,
    "start_time": "2022-06-05T19:20:48.362Z"
   },
   {
    "duration": 117,
    "start_time": "2022-06-05T19:23:07.971Z"
   },
   {
    "duration": 197,
    "start_time": "2022-06-05T19:25:20.355Z"
   },
   {
    "duration": 244,
    "start_time": "2022-06-05T19:25:45.996Z"
   },
   {
    "duration": 166,
    "start_time": "2022-06-05T19:26:51.110Z"
   },
   {
    "duration": 141,
    "start_time": "2022-06-05T19:29:25.765Z"
   },
   {
    "duration": 150,
    "start_time": "2022-06-05T19:29:49.021Z"
   },
   {
    "duration": 150,
    "start_time": "2022-06-05T19:30:33.513Z"
   },
   {
    "duration": 414,
    "start_time": "2022-06-05T19:30:50.166Z"
   },
   {
    "duration": 169,
    "start_time": "2022-06-05T19:32:42.556Z"
   },
   {
    "duration": 137,
    "start_time": "2022-06-05T19:36:19.106Z"
   },
   {
    "duration": 141,
    "start_time": "2022-06-05T19:36:22.002Z"
   },
   {
    "duration": 125,
    "start_time": "2022-06-05T19:36:48.374Z"
   },
   {
    "duration": 133,
    "start_time": "2022-06-05T19:37:07.609Z"
   },
   {
    "duration": 137,
    "start_time": "2022-06-05T19:37:11.163Z"
   },
   {
    "duration": 115,
    "start_time": "2022-06-05T19:37:47.885Z"
   },
   {
    "duration": 131,
    "start_time": "2022-06-05T19:37:50.565Z"
   },
   {
    "duration": 130,
    "start_time": "2022-06-05T19:37:53.921Z"
   },
   {
    "duration": 173,
    "start_time": "2022-06-05T19:37:54.397Z"
   },
   {
    "duration": 171,
    "start_time": "2022-06-05T19:38:30.477Z"
   },
   {
    "duration": 166,
    "start_time": "2022-06-05T19:42:49.302Z"
   },
   {
    "duration": 181,
    "start_time": "2022-06-05T19:43:11.575Z"
   },
   {
    "duration": 191,
    "start_time": "2022-06-05T19:43:14.612Z"
   },
   {
    "duration": 171,
    "start_time": "2022-06-05T19:43:24.904Z"
   },
   {
    "duration": 143,
    "start_time": "2022-06-05T19:44:40.397Z"
   },
   {
    "duration": 119,
    "start_time": "2022-06-05T20:07:45.688Z"
   },
   {
    "duration": 153,
    "start_time": "2022-06-05T20:09:32.610Z"
   },
   {
    "duration": 132,
    "start_time": "2022-06-05T20:10:02.540Z"
   },
   {
    "duration": 290,
    "start_time": "2022-06-05T20:10:23.715Z"
   },
   {
    "duration": 138,
    "start_time": "2022-06-05T20:10:59.644Z"
   },
   {
    "duration": 170,
    "start_time": "2022-06-05T20:11:14.450Z"
   },
   {
    "duration": 162,
    "start_time": "2022-06-05T20:11:21.183Z"
   },
   {
    "duration": 240,
    "start_time": "2022-06-05T20:13:26.021Z"
   },
   {
    "duration": 236,
    "start_time": "2022-06-05T20:16:05.453Z"
   },
   {
    "duration": 176,
    "start_time": "2022-06-05T20:17:30.578Z"
   },
   {
    "duration": 131,
    "start_time": "2022-06-05T20:18:42.909Z"
   },
   {
    "duration": 132,
    "start_time": "2022-06-05T20:18:56.911Z"
   },
   {
    "duration": 117,
    "start_time": "2022-06-05T20:19:25.845Z"
   },
   {
    "duration": 129,
    "start_time": "2022-06-05T20:19:42.042Z"
   },
   {
    "duration": 128,
    "start_time": "2022-06-05T20:19:48.804Z"
   },
   {
    "duration": 155,
    "start_time": "2022-06-05T20:20:08.098Z"
   },
   {
    "duration": 224,
    "start_time": "2022-06-05T20:23:02.513Z"
   },
   {
    "duration": 16,
    "start_time": "2022-06-05T20:23:20.057Z"
   },
   {
    "duration": 8,
    "start_time": "2022-06-05T20:23:36.280Z"
   },
   {
    "duration": 128,
    "start_time": "2022-06-05T20:26:45.171Z"
   },
   {
    "duration": 8,
    "start_time": "2022-06-05T20:37:57.958Z"
   },
   {
    "duration": 8,
    "start_time": "2022-06-05T20:50:55.053Z"
   },
   {
    "duration": 9,
    "start_time": "2022-06-05T20:51:03.550Z"
   },
   {
    "duration": 9,
    "start_time": "2022-06-05T20:51:20.468Z"
   },
   {
    "duration": 8,
    "start_time": "2022-06-05T20:55:15.340Z"
   },
   {
    "duration": 8,
    "start_time": "2022-06-05T20:55:53.884Z"
   },
   {
    "duration": 9,
    "start_time": "2022-06-05T20:56:16.136Z"
   },
   {
    "duration": 10,
    "start_time": "2022-06-05T21:08:15.623Z"
   },
   {
    "duration": 9,
    "start_time": "2022-06-05T21:08:23.696Z"
   },
   {
    "duration": 9,
    "start_time": "2022-06-05T21:08:31.994Z"
   },
   {
    "duration": 131,
    "start_time": "2022-06-05T21:26:19.953Z"
   },
   {
    "duration": 290,
    "start_time": "2022-06-05T21:28:14.788Z"
   },
   {
    "duration": 114,
    "start_time": "2022-06-05T21:29:05.993Z"
   },
   {
    "duration": 122,
    "start_time": "2022-06-05T21:29:23.145Z"
   },
   {
    "duration": 140,
    "start_time": "2022-06-05T21:36:20.441Z"
   },
   {
    "duration": 117,
    "start_time": "2022-06-05T21:36:46.385Z"
   },
   {
    "duration": 113,
    "start_time": "2022-06-05T21:38:29.172Z"
   },
   {
    "duration": 106,
    "start_time": "2022-06-05T21:38:39.675Z"
   },
   {
    "duration": 113,
    "start_time": "2022-06-05T21:38:45.764Z"
   },
   {
    "duration": 116,
    "start_time": "2022-06-05T21:38:50.443Z"
   },
   {
    "duration": 109,
    "start_time": "2022-06-05T21:40:11.647Z"
   },
   {
    "duration": 109,
    "start_time": "2022-06-05T21:40:42.954Z"
   },
   {
    "duration": 107,
    "start_time": "2022-06-05T21:40:47.644Z"
   },
   {
    "duration": 115,
    "start_time": "2022-06-05T21:40:54.064Z"
   },
   {
    "duration": 141,
    "start_time": "2022-06-05T21:41:01.018Z"
   },
   {
    "duration": 8,
    "start_time": "2022-06-05T21:51:06.142Z"
   },
   {
    "duration": 7,
    "start_time": "2022-06-05T21:51:18.765Z"
   },
   {
    "duration": 143,
    "start_time": "2022-06-05T21:55:09.079Z"
   },
   {
    "duration": 146,
    "start_time": "2022-06-05T21:58:54.756Z"
   },
   {
    "duration": 154,
    "start_time": "2022-06-05T21:59:05.219Z"
   },
   {
    "duration": 166,
    "start_time": "2022-06-05T21:59:20.743Z"
   },
   {
    "duration": 122,
    "start_time": "2022-06-05T21:59:57.662Z"
   },
   {
    "duration": 29,
    "start_time": "2022-06-05T22:00:34.712Z"
   },
   {
    "duration": 113,
    "start_time": "2022-06-05T22:05:12.214Z"
   },
   {
    "duration": 122,
    "start_time": "2022-06-05T22:05:18.426Z"
   },
   {
    "duration": 123,
    "start_time": "2022-06-05T22:07:10.542Z"
   },
   {
    "duration": 120,
    "start_time": "2022-06-05T22:07:26.183Z"
   },
   {
    "duration": 10,
    "start_time": "2022-06-05T22:11:32.049Z"
   },
   {
    "duration": 11,
    "start_time": "2022-06-05T22:11:34.523Z"
   },
   {
    "duration": 43,
    "start_time": "2022-06-05T22:11:56.807Z"
   },
   {
    "duration": 13,
    "start_time": "2022-06-05T22:15:14.128Z"
   },
   {
    "duration": 116,
    "start_time": "2022-06-05T22:49:53.780Z"
   },
   {
    "duration": 131,
    "start_time": "2022-06-05T22:50:10.511Z"
   },
   {
    "duration": 3590,
    "start_time": "2022-06-05T22:50:34.373Z"
   },
   {
    "duration": 3394,
    "start_time": "2022-06-05T22:50:47.560Z"
   },
   {
    "duration": 287,
    "start_time": "2022-06-05T22:52:22.020Z"
   },
   {
    "duration": 526,
    "start_time": "2022-06-05T22:58:55.742Z"
   },
   {
    "duration": 120,
    "start_time": "2022-06-05T22:59:08.339Z"
   },
   {
    "duration": 19,
    "start_time": "2022-06-05T23:01:01.429Z"
   },
   {
    "duration": 25,
    "start_time": "2022-06-05T23:01:06.921Z"
   },
   {
    "duration": 3424,
    "start_time": "2022-06-05T23:01:11.073Z"
   },
   {
    "duration": 3401,
    "start_time": "2022-06-05T23:01:23.200Z"
   },
   {
    "duration": 181,
    "start_time": "2022-06-05T23:03:28.869Z"
   },
   {
    "duration": 158,
    "start_time": "2022-06-05T23:04:37.643Z"
   },
   {
    "duration": 154,
    "start_time": "2022-06-05T23:06:36.353Z"
   },
   {
    "duration": 162,
    "start_time": "2022-06-05T23:07:24.674Z"
   },
   {
    "duration": 177,
    "start_time": "2022-06-05T23:08:07.365Z"
   },
   {
    "duration": 231,
    "start_time": "2022-06-05T23:08:59.748Z"
   },
   {
    "duration": 1429,
    "start_time": "2022-06-05T23:09:21.724Z"
   },
   {
    "duration": 207,
    "start_time": "2022-06-05T23:10:19.536Z"
   },
   {
    "duration": 392,
    "start_time": "2022-06-05T23:10:27.048Z"
   },
   {
    "duration": 198,
    "start_time": "2022-06-05T23:10:30.240Z"
   },
   {
    "duration": 190,
    "start_time": "2022-06-05T23:10:34.414Z"
   },
   {
    "duration": 199,
    "start_time": "2022-06-05T23:14:01.412Z"
   },
   {
    "duration": 192,
    "start_time": "2022-06-05T23:14:51.957Z"
   },
   {
    "duration": 1484,
    "start_time": "2022-06-06T20:40:43.010Z"
   },
   {
    "duration": 1299,
    "start_time": "2022-06-06T20:40:44.496Z"
   },
   {
    "duration": 18,
    "start_time": "2022-06-06T20:40:45.797Z"
   },
   {
    "duration": 93,
    "start_time": "2022-06-06T20:40:45.817Z"
   },
   {
    "duration": 82,
    "start_time": "2022-06-06T20:40:45.913Z"
   },
   {
    "duration": 239,
    "start_time": "2022-06-06T20:40:45.997Z"
   },
   {
    "duration": 2277,
    "start_time": "2022-06-06T20:40:46.238Z"
   },
   {
    "duration": 1779,
    "start_time": "2022-06-06T20:40:48.517Z"
   },
   {
    "duration": 57,
    "start_time": "2022-06-06T20:40:50.313Z"
   },
   {
    "duration": 189,
    "start_time": "2022-06-06T20:40:50.372Z"
   },
   {
    "duration": 151,
    "start_time": "2022-06-06T20:40:50.563Z"
   },
   {
    "duration": 10,
    "start_time": "2022-06-06T20:40:50.716Z"
   },
   {
    "duration": 162,
    "start_time": "2022-06-06T20:40:50.727Z"
   },
   {
    "duration": 241,
    "start_time": "2022-06-06T20:40:50.891Z"
   },
   {
    "duration": 2237,
    "start_time": "2022-06-06T20:42:35.666Z"
   },
   {
    "duration": 53,
    "start_time": "2022-06-06T20:58:46.482Z"
   },
   {
    "duration": 9,
    "start_time": "2022-06-06T21:44:14.027Z"
   },
   {
    "duration": 223,
    "start_time": "2022-06-06T21:44:38.972Z"
   },
   {
    "duration": 203,
    "start_time": "2022-06-06T22:02:36.911Z"
   },
   {
    "duration": 224,
    "start_time": "2022-06-06T22:11:40.847Z"
   },
   {
    "duration": 5,
    "start_time": "2022-06-06T22:11:45.837Z"
   },
   {
    "duration": 334,
    "start_time": "2022-06-06T22:13:05.653Z"
   },
   {
    "duration": 220,
    "start_time": "2022-06-06T22:13:38.238Z"
   },
   {
    "duration": 221,
    "start_time": "2022-06-06T22:40:37.134Z"
   },
   {
    "duration": 260,
    "start_time": "2022-06-06T22:52:15.095Z"
   },
   {
    "duration": 476,
    "start_time": "2022-06-06T22:57:24.035Z"
   },
   {
    "duration": 407,
    "start_time": "2022-06-06T22:57:44.887Z"
   },
   {
    "duration": 406,
    "start_time": "2022-06-06T22:58:01.647Z"
   },
   {
    "duration": 403,
    "start_time": "2022-06-06T23:01:42.626Z"
   },
   {
    "duration": 522,
    "start_time": "2022-06-06T23:02:00.646Z"
   },
   {
    "duration": 402,
    "start_time": "2022-06-06T23:02:11.621Z"
   },
   {
    "duration": 415,
    "start_time": "2022-06-06T23:02:35.798Z"
   },
   {
    "duration": 401,
    "start_time": "2022-06-06T23:10:44.311Z"
   },
   {
    "duration": 5,
    "start_time": "2022-06-06T23:11:14.846Z"
   },
   {
    "duration": 1208,
    "start_time": "2022-06-07T19:22:26.350Z"
   },
   {
    "duration": 4,
    "start_time": "2022-06-07T19:22:28.621Z"
   },
   {
    "duration": 1350,
    "start_time": "2022-06-07T19:22:28.627Z"
   },
   {
    "duration": 7,
    "start_time": "2022-06-07T19:22:29.978Z"
   },
   {
    "duration": 78,
    "start_time": "2022-06-07T19:22:29.987Z"
   },
   {
    "duration": 80,
    "start_time": "2022-06-07T19:22:30.067Z"
   },
   {
    "duration": 188,
    "start_time": "2022-06-07T19:22:30.148Z"
   },
   {
    "duration": 2034,
    "start_time": "2022-06-07T19:22:30.338Z"
   },
   {
    "duration": 1448,
    "start_time": "2022-06-07T19:22:32.373Z"
   },
   {
    "duration": 38,
    "start_time": "2022-06-07T19:22:33.823Z"
   },
   {
    "duration": 190,
    "start_time": "2022-06-07T19:22:33.863Z"
   },
   {
    "duration": 4,
    "start_time": "2022-06-07T19:22:34.054Z"
   },
   {
    "duration": 358,
    "start_time": "2022-06-07T19:22:34.060Z"
   },
   {
    "duration": 4,
    "start_time": "2022-06-07T19:22:34.420Z"
   },
   {
    "duration": 1718,
    "start_time": "2022-06-07T20:36:08.714Z"
   },
   {
    "duration": 2132,
    "start_time": "2022-06-07T20:36:26.202Z"
   },
   {
    "duration": 1231,
    "start_time": "2022-06-07T20:43:48.951Z"
   },
   {
    "duration": 3,
    "start_time": "2022-06-07T20:47:49.028Z"
   },
   {
    "duration": 730,
    "start_time": "2022-06-07T20:47:49.033Z"
   },
   {
    "duration": 8,
    "start_time": "2022-06-07T20:47:49.764Z"
   },
   {
    "duration": 74,
    "start_time": "2022-06-07T20:47:49.774Z"
   },
   {
    "duration": 69,
    "start_time": "2022-06-07T20:47:49.850Z"
   },
   {
    "duration": 132,
    "start_time": "2022-06-07T20:47:49.920Z"
   },
   {
    "duration": 1728,
    "start_time": "2022-06-07T20:47:50.055Z"
   },
   {
    "duration": 1101,
    "start_time": "2022-06-07T20:47:51.784Z"
   },
   {
    "duration": 35,
    "start_time": "2022-06-07T20:47:52.887Z"
   },
   {
    "duration": 160,
    "start_time": "2022-06-07T20:47:52.924Z"
   },
   {
    "duration": 4,
    "start_time": "2022-06-07T20:47:53.091Z"
   },
   {
    "duration": 296,
    "start_time": "2022-06-07T20:47:53.096Z"
   },
   {
    "duration": 4,
    "start_time": "2022-06-07T20:47:53.394Z"
   },
   {
    "duration": 36,
    "start_time": "2022-06-07T23:51:45.844Z"
   },
   {
    "duration": 56,
    "start_time": "2022-06-08T10:18:25.096Z"
   },
   {
    "duration": 1378,
    "start_time": "2022-06-08T10:18:31.643Z"
   },
   {
    "duration": 1626,
    "start_time": "2022-06-08T10:18:33.023Z"
   },
   {
    "duration": 79,
    "start_time": "2022-06-08T10:18:34.650Z"
   },
   {
    "duration": 82,
    "start_time": "2022-06-08T10:18:34.730Z"
   },
   {
    "duration": 194,
    "start_time": "2022-06-08T10:18:34.814Z"
   },
   {
    "duration": 36,
    "start_time": "2022-06-08T10:18:36.415Z"
   },
   {
    "duration": 27,
    "start_time": "2022-06-08T10:19:07.785Z"
   },
   {
    "duration": 28,
    "start_time": "2022-06-08T10:19:15.294Z"
   },
   {
    "duration": 35,
    "start_time": "2022-06-08T10:19:27.121Z"
   },
   {
    "duration": 1672,
    "start_time": "2022-06-08T10:25:38.963Z"
   },
   {
    "duration": 62,
    "start_time": "2022-06-08T10:26:30.902Z"
   },
   {
    "duration": 61,
    "start_time": "2022-06-08T10:26:39.680Z"
   },
   {
    "duration": 14,
    "start_time": "2022-06-08T10:27:49.638Z"
   },
   {
    "duration": 12,
    "start_time": "2022-06-08T10:29:11.833Z"
   },
   {
    "duration": 43,
    "start_time": "2022-06-08T10:29:41.601Z"
   },
   {
    "duration": 5,
    "start_time": "2022-06-08T10:31:07.043Z"
   },
   {
    "duration": 9,
    "start_time": "2022-06-08T10:38:30.411Z"
   },
   {
    "duration": 6,
    "start_time": "2022-06-08T10:38:48.583Z"
   },
   {
    "duration": 7,
    "start_time": "2022-06-08T10:38:49.185Z"
   },
   {
    "duration": 4,
    "start_time": "2022-06-08T10:38:53.373Z"
   },
   {
    "duration": 4,
    "start_time": "2022-06-08T10:38:59.642Z"
   },
   {
    "duration": 22,
    "start_time": "2022-06-08T10:39:06.224Z"
   },
   {
    "duration": 20,
    "start_time": "2022-06-08T10:39:12.862Z"
   },
   {
    "duration": 24,
    "start_time": "2022-06-08T10:39:54.870Z"
   },
   {
    "duration": 3,
    "start_time": "2022-06-08T10:40:19.099Z"
   },
   {
    "duration": 374,
    "start_time": "2022-06-08T10:40:19.110Z"
   },
   {
    "duration": 72,
    "start_time": "2022-06-08T10:40:19.486Z"
   },
   {
    "duration": 66,
    "start_time": "2022-06-08T10:40:19.559Z"
   },
   {
    "duration": 128,
    "start_time": "2022-06-08T10:40:19.627Z"
   },
   {
    "duration": 28,
    "start_time": "2022-06-08T10:40:19.757Z"
   },
   {
    "duration": 1563,
    "start_time": "2022-06-08T10:40:19.786Z"
   },
   {
    "duration": 49,
    "start_time": "2022-06-08T10:40:21.350Z"
   },
   {
    "duration": 12,
    "start_time": "2022-06-08T10:40:21.401Z"
   },
   {
    "duration": 18,
    "start_time": "2022-06-08T10:40:21.414Z"
   },
   {
    "duration": 7,
    "start_time": "2022-06-08T10:40:21.433Z"
   },
   {
    "duration": 8,
    "start_time": "2022-06-08T10:40:21.442Z"
   },
   {
    "duration": 13,
    "start_time": "2022-06-08T10:40:21.452Z"
   },
   {
    "duration": 7,
    "start_time": "2022-06-08T10:40:21.467Z"
   },
   {
    "duration": 20,
    "start_time": "2022-06-08T10:40:21.476Z"
   },
   {
    "duration": 20,
    "start_time": "2022-06-08T10:40:39.710Z"
   },
   {
    "duration": 19,
    "start_time": "2022-06-08T10:40:57.482Z"
   },
   {
    "duration": 17,
    "start_time": "2022-06-08T10:41:20.945Z"
   },
   {
    "duration": 10,
    "start_time": "2022-06-08T10:47:06.583Z"
   },
   {
    "duration": 8,
    "start_time": "2022-06-08T10:53:04.160Z"
   },
   {
    "duration": 5,
    "start_time": "2022-06-08T10:53:05.973Z"
   },
   {
    "duration": 3,
    "start_time": "2022-06-08T10:53:06.739Z"
   },
   {
    "duration": 3,
    "start_time": "2022-06-08T10:53:13.633Z"
   },
   {
    "duration": 376,
    "start_time": "2022-06-08T10:53:13.637Z"
   },
   {
    "duration": 73,
    "start_time": "2022-06-08T10:53:14.015Z"
   },
   {
    "duration": 70,
    "start_time": "2022-06-08T10:53:14.090Z"
   },
   {
    "duration": 131,
    "start_time": "2022-06-08T10:53:14.162Z"
   },
   {
    "duration": 34,
    "start_time": "2022-06-08T10:53:14.295Z"
   },
   {
    "duration": 1553,
    "start_time": "2022-06-08T10:53:14.331Z"
   },
   {
    "duration": 102,
    "start_time": "2022-06-08T10:53:15.885Z"
   },
   {
    "duration": 11,
    "start_time": "2022-06-08T10:53:15.989Z"
   },
   {
    "duration": 10,
    "start_time": "2022-06-08T10:53:16.001Z"
   },
   {
    "duration": 17,
    "start_time": "2022-06-08T10:53:16.013Z"
   },
   {
    "duration": 5,
    "start_time": "2022-06-08T10:53:16.031Z"
   },
   {
    "duration": 12,
    "start_time": "2022-06-08T10:53:16.037Z"
   },
   {
    "duration": 696,
    "start_time": "2022-06-08T11:06:44.640Z"
   },
   {
    "duration": 3,
    "start_time": "2022-06-08T11:10:13.315Z"
   },
   {
    "duration": 383,
    "start_time": "2022-06-08T11:10:13.319Z"
   },
   {
    "duration": 66,
    "start_time": "2022-06-08T11:10:13.704Z"
   },
   {
    "duration": 71,
    "start_time": "2022-06-08T11:10:13.771Z"
   },
   {
    "duration": 153,
    "start_time": "2022-06-08T11:10:13.844Z"
   },
   {
    "duration": 45,
    "start_time": "2022-06-08T11:10:13.999Z"
   },
   {
    "duration": 1588,
    "start_time": "2022-06-08T11:10:14.045Z"
   },
   {
    "duration": 51,
    "start_time": "2022-06-08T11:10:15.635Z"
   },
   {
    "duration": 13,
    "start_time": "2022-06-08T11:10:15.687Z"
   },
   {
    "duration": 26,
    "start_time": "2022-06-08T11:10:15.701Z"
   },
   {
    "duration": 10,
    "start_time": "2022-06-08T11:10:15.729Z"
   },
   {
    "duration": 8,
    "start_time": "2022-06-08T11:10:15.740Z"
   },
   {
    "duration": 4,
    "start_time": "2022-06-08T11:10:16.371Z"
   },
   {
    "duration": 479,
    "start_time": "2022-06-08T11:10:22.705Z"
   },
   {
    "duration": 19,
    "start_time": "2022-06-08T11:10:40.082Z"
   },
   {
    "duration": 14,
    "start_time": "2022-06-08T11:10:48.517Z"
   },
   {
    "duration": 13,
    "start_time": "2022-06-08T11:10:54.958Z"
   },
   {
    "duration": 8,
    "start_time": "2022-06-08T11:12:43.656Z"
   },
   {
    "duration": 7,
    "start_time": "2022-06-08T11:15:16.041Z"
   },
   {
    "duration": 8,
    "start_time": "2022-06-08T11:15:19.819Z"
   },
   {
    "duration": 9,
    "start_time": "2022-06-08T11:15:57.549Z"
   },
   {
    "duration": 9,
    "start_time": "2022-06-08T11:16:17.992Z"
   },
   {
    "duration": 9,
    "start_time": "2022-06-08T11:19:03.122Z"
   },
   {
    "duration": 10,
    "start_time": "2022-06-08T11:19:11.676Z"
   },
   {
    "duration": 8,
    "start_time": "2022-06-08T11:19:52.309Z"
   },
   {
    "duration": 11,
    "start_time": "2022-06-08T11:23:14.826Z"
   },
   {
    "duration": 8,
    "start_time": "2022-06-08T11:23:35.521Z"
   },
   {
    "duration": 4,
    "start_time": "2022-06-08T11:24:27.823Z"
   },
   {
    "duration": 3,
    "start_time": "2022-06-08T11:26:13.145Z"
   },
   {
    "duration": 458,
    "start_time": "2022-06-08T11:26:13.150Z"
   },
   {
    "duration": 87,
    "start_time": "2022-06-08T11:26:13.610Z"
   },
   {
    "duration": 96,
    "start_time": "2022-06-08T11:26:13.699Z"
   },
   {
    "duration": 190,
    "start_time": "2022-06-08T11:26:13.797Z"
   },
   {
    "duration": 58,
    "start_time": "2022-06-08T11:26:13.990Z"
   },
   {
    "duration": 1802,
    "start_time": "2022-06-08T11:26:14.050Z"
   },
   {
    "duration": 56,
    "start_time": "2022-06-08T11:26:15.854Z"
   },
   {
    "duration": 32,
    "start_time": "2022-06-08T11:26:15.912Z"
   },
   {
    "duration": 10,
    "start_time": "2022-06-08T11:26:15.946Z"
   },
   {
    "duration": 10,
    "start_time": "2022-06-08T11:26:15.958Z"
   },
   {
    "duration": 8,
    "start_time": "2022-06-08T11:26:15.969Z"
   },
   {
    "duration": 4,
    "start_time": "2022-06-08T11:26:15.978Z"
   },
   {
    "duration": 16,
    "start_time": "2022-06-08T11:26:15.984Z"
   },
   {
    "duration": 13,
    "start_time": "2022-06-08T11:26:18.331Z"
   },
   {
    "duration": 14,
    "start_time": "2022-06-08T11:26:25.208Z"
   },
   {
    "duration": 8,
    "start_time": "2022-06-08T11:26:35.759Z"
   },
   {
    "duration": 4,
    "start_time": "2022-06-08T11:27:03.175Z"
   },
   {
    "duration": 3,
    "start_time": "2022-06-08T11:27:17.140Z"
   },
   {
    "duration": 4,
    "start_time": "2022-06-08T11:27:59.898Z"
   },
   {
    "duration": 5,
    "start_time": "2022-06-08T11:34:19.991Z"
   },
   {
    "duration": 5,
    "start_time": "2022-06-08T11:34:55.297Z"
   },
   {
    "duration": 5,
    "start_time": "2022-06-08T11:35:16.252Z"
   },
   {
    "duration": 12,
    "start_time": "2022-06-08T11:36:36.809Z"
   },
   {
    "duration": 11,
    "start_time": "2022-06-08T11:37:00.839Z"
   },
   {
    "duration": 11,
    "start_time": "2022-06-08T11:37:03.072Z"
   },
   {
    "duration": 11,
    "start_time": "2022-06-08T11:37:32.592Z"
   },
   {
    "duration": 11,
    "start_time": "2022-06-08T11:38:35.693Z"
   },
   {
    "duration": 11,
    "start_time": "2022-06-08T11:38:47.885Z"
   },
   {
    "duration": 1138,
    "start_time": "2022-06-08T11:46:48.188Z"
   },
   {
    "duration": 554,
    "start_time": "2022-06-08T11:46:59.185Z"
   },
   {
    "duration": 656,
    "start_time": "2022-06-08T11:47:11.504Z"
   },
   {
    "duration": 668,
    "start_time": "2022-06-08T11:47:21.825Z"
   },
   {
    "duration": 182,
    "start_time": "2022-06-08T11:48:34.724Z"
   },
   {
    "duration": 158,
    "start_time": "2022-06-08T11:48:39.059Z"
   },
   {
    "duration": 173,
    "start_time": "2022-06-08T11:48:42.023Z"
   },
   {
    "duration": 537,
    "start_time": "2022-06-08T11:48:49.275Z"
   },
   {
    "duration": 667,
    "start_time": "2022-06-08T11:49:02.579Z"
   },
   {
    "duration": 517,
    "start_time": "2022-06-08T11:49:17.734Z"
   },
   {
    "duration": 538,
    "start_time": "2022-06-08T11:49:26.607Z"
   },
   {
    "duration": 686,
    "start_time": "2022-06-08T11:49:53.216Z"
   },
   {
    "duration": 572,
    "start_time": "2022-06-08T11:50:17.936Z"
   },
   {
    "duration": 783,
    "start_time": "2022-06-08T11:51:31.697Z"
   },
   {
    "duration": 11,
    "start_time": "2022-06-08T11:51:57.544Z"
   },
   {
    "duration": 3,
    "start_time": "2022-06-08T11:52:08.915Z"
   },
   {
    "duration": 4,
    "start_time": "2022-06-08T11:52:12.605Z"
   },
   {
    "duration": 7,
    "start_time": "2022-06-08T11:52:21.931Z"
   },
   {
    "duration": 426,
    "start_time": "2022-06-08T11:52:21.940Z"
   },
   {
    "duration": 105,
    "start_time": "2022-06-08T11:52:22.368Z"
   },
   {
    "duration": 76,
    "start_time": "2022-06-08T11:52:22.475Z"
   },
   {
    "duration": 157,
    "start_time": "2022-06-08T11:52:22.553Z"
   },
   {
    "duration": 41,
    "start_time": "2022-06-08T11:52:22.712Z"
   },
   {
    "duration": 2114,
    "start_time": "2022-06-08T11:52:22.754Z"
   },
   {
    "duration": 63,
    "start_time": "2022-06-08T11:52:24.870Z"
   },
   {
    "duration": 22,
    "start_time": "2022-06-08T11:52:24.935Z"
   },
   {
    "duration": 14,
    "start_time": "2022-06-08T11:52:24.958Z"
   },
   {
    "duration": 24,
    "start_time": "2022-06-08T11:52:24.974Z"
   },
   {
    "duration": 7,
    "start_time": "2022-06-08T11:52:25.001Z"
   },
   {
    "duration": 47,
    "start_time": "2022-06-08T11:52:25.010Z"
   },
   {
    "duration": 24,
    "start_time": "2022-06-08T11:52:25.059Z"
   },
   {
    "duration": 1814,
    "start_time": "2022-06-08T11:52:27.110Z"
   },
   {
    "duration": 771,
    "start_time": "2022-06-08T11:52:34.487Z"
   },
   {
    "duration": 15,
    "start_time": "2022-06-08T11:54:31.125Z"
   },
   {
    "duration": 4,
    "start_time": "2022-06-08T11:56:19.601Z"
   },
   {
    "duration": 561,
    "start_time": "2022-06-08T11:56:24.724Z"
   },
   {
    "duration": 562,
    "start_time": "2022-06-08T12:46:01.444Z"
   },
   {
    "duration": 757,
    "start_time": "2022-06-08T12:46:06.511Z"
   },
   {
    "duration": 543,
    "start_time": "2022-06-08T12:46:11.134Z"
   },
   {
    "duration": 571,
    "start_time": "2022-06-08T12:46:20.027Z"
   },
   {
    "duration": 593,
    "start_time": "2022-06-08T12:47:14.528Z"
   },
   {
    "duration": 533,
    "start_time": "2022-06-08T12:47:26.931Z"
   },
   {
    "duration": 610,
    "start_time": "2022-06-08T12:47:34.115Z"
   },
   {
    "duration": 528,
    "start_time": "2022-06-08T12:49:50.221Z"
   },
   {
    "duration": 397,
    "start_time": "2022-06-08T12:50:26.885Z"
   },
   {
    "duration": 497,
    "start_time": "2022-06-08T12:50:32.686Z"
   },
   {
    "duration": 497,
    "start_time": "2022-06-08T12:51:34.571Z"
   },
   {
    "duration": 498,
    "start_time": "2022-06-08T12:51:39.806Z"
   },
   {
    "duration": 589,
    "start_time": "2022-06-08T12:51:45.906Z"
   },
   {
    "duration": 539,
    "start_time": "2022-06-08T12:51:51.939Z"
   },
   {
    "duration": 519,
    "start_time": "2022-06-08T12:52:00.508Z"
   },
   {
    "duration": 380,
    "start_time": "2022-06-08T12:55:53.118Z"
   },
   {
    "duration": 429,
    "start_time": "2022-06-08T12:55:58.947Z"
   },
   {
    "duration": 46,
    "start_time": "2022-06-08T12:56:35.796Z"
   },
   {
    "duration": 497,
    "start_time": "2022-06-08T12:57:09.743Z"
   },
   {
    "duration": 30,
    "start_time": "2022-06-08T12:57:16.071Z"
   },
   {
    "duration": 30,
    "start_time": "2022-06-08T12:57:19.006Z"
   },
   {
    "duration": 38,
    "start_time": "2022-06-08T12:57:25.163Z"
   },
   {
    "duration": 39,
    "start_time": "2022-06-08T12:57:43.734Z"
   },
   {
    "duration": 47,
    "start_time": "2022-06-08T12:57:59.486Z"
   },
   {
    "duration": 46,
    "start_time": "2022-06-08T13:01:08.400Z"
   },
   {
    "duration": 40,
    "start_time": "2022-06-08T13:01:41.222Z"
   },
   {
    "duration": 39,
    "start_time": "2022-06-08T13:03:58.215Z"
   },
   {
    "duration": 29,
    "start_time": "2022-06-08T13:07:11.148Z"
   },
   {
    "duration": 9,
    "start_time": "2022-06-08T13:08:37.410Z"
   },
   {
    "duration": 7,
    "start_time": "2022-06-08T13:09:05.309Z"
   },
   {
    "duration": 3,
    "start_time": "2022-06-08T13:09:12.119Z"
   },
   {
    "duration": 462,
    "start_time": "2022-06-08T13:09:12.124Z"
   },
   {
    "duration": 85,
    "start_time": "2022-06-08T13:09:12.588Z"
   },
   {
    "duration": 84,
    "start_time": "2022-06-08T13:09:12.675Z"
   },
   {
    "duration": 171,
    "start_time": "2022-06-08T13:09:12.761Z"
   },
   {
    "duration": 32,
    "start_time": "2022-06-08T13:09:12.934Z"
   },
   {
    "duration": 1902,
    "start_time": "2022-06-08T13:09:12.968Z"
   },
   {
    "duration": 60,
    "start_time": "2022-06-08T13:09:14.871Z"
   },
   {
    "duration": 12,
    "start_time": "2022-06-08T13:09:14.933Z"
   },
   {
    "duration": 10,
    "start_time": "2022-06-08T13:09:14.947Z"
   },
   {
    "duration": 11,
    "start_time": "2022-06-08T13:09:14.959Z"
   },
   {
    "duration": 7,
    "start_time": "2022-06-08T13:09:14.971Z"
   },
   {
    "duration": 25,
    "start_time": "2022-06-08T13:09:14.979Z"
   },
   {
    "duration": 48,
    "start_time": "2022-06-08T13:09:15.006Z"
   },
   {
    "duration": 445,
    "start_time": "2022-06-08T13:09:15.056Z"
   },
   {
    "duration": 40,
    "start_time": "2022-06-08T13:09:15.502Z"
   },
   {
    "duration": 6,
    "start_time": "2022-06-08T13:09:15.543Z"
   },
   {
    "duration": 26,
    "start_time": "2022-06-08T13:09:15.550Z"
   },
   {
    "duration": 269,
    "start_time": "2022-06-08T13:09:15.577Z"
   },
   {
    "duration": 5,
    "start_time": "2022-06-08T13:09:15.848Z"
   },
   {
    "duration": 329,
    "start_time": "2022-06-08T13:09:15.854Z"
   },
   {
    "duration": 4,
    "start_time": "2022-06-08T13:09:16.185Z"
   },
   {
    "duration": 4,
    "start_time": "2022-06-08T13:20:47.683Z"
   },
   {
    "duration": 394,
    "start_time": "2022-06-08T13:20:47.689Z"
   },
   {
    "duration": 80,
    "start_time": "2022-06-08T13:20:48.084Z"
   },
   {
    "duration": 69,
    "start_time": "2022-06-08T13:20:48.166Z"
   },
   {
    "duration": 152,
    "start_time": "2022-06-08T13:20:48.238Z"
   },
   {
    "duration": 47,
    "start_time": "2022-06-08T13:20:48.392Z"
   },
   {
    "duration": 1702,
    "start_time": "2022-06-08T13:20:48.441Z"
   },
   {
    "duration": 62,
    "start_time": "2022-06-08T13:20:50.145Z"
   },
   {
    "duration": 21,
    "start_time": "2022-06-08T13:20:50.208Z"
   },
   {
    "duration": 11,
    "start_time": "2022-06-08T13:20:50.230Z"
   },
   {
    "duration": 11,
    "start_time": "2022-06-08T13:20:50.243Z"
   },
   {
    "duration": 8,
    "start_time": "2022-06-08T13:20:50.256Z"
   },
   {
    "duration": 3,
    "start_time": "2022-06-08T13:20:50.266Z"
   },
   {
    "duration": 12,
    "start_time": "2022-06-08T13:20:50.271Z"
   },
   {
    "duration": 529,
    "start_time": "2022-06-08T13:20:50.285Z"
   },
   {
    "duration": 53,
    "start_time": "2022-06-08T13:20:50.816Z"
   },
   {
    "duration": 8,
    "start_time": "2022-06-08T13:20:50.870Z"
   },
   {
    "duration": 52,
    "start_time": "2022-06-08T13:20:50.880Z"
   },
   {
    "duration": 217,
    "start_time": "2022-06-08T13:20:50.934Z"
   },
   {
    "duration": 5,
    "start_time": "2022-06-08T13:20:51.152Z"
   },
   {
    "duration": 350,
    "start_time": "2022-06-08T13:20:51.159Z"
   },
   {
    "duration": 5,
    "start_time": "2022-06-08T13:20:51.511Z"
   },
   {
    "duration": 13,
    "start_time": "2022-06-08T13:26:54.816Z"
   },
   {
    "duration": 4,
    "start_time": "2022-06-08T13:27:17.856Z"
   },
   {
    "duration": 539,
    "start_time": "2022-06-08T13:27:17.863Z"
   },
   {
    "duration": 94,
    "start_time": "2022-06-08T13:27:18.405Z"
   },
   {
    "duration": 90,
    "start_time": "2022-06-08T13:27:18.500Z"
   },
   {
    "duration": 243,
    "start_time": "2022-06-08T13:27:18.593Z"
   },
   {
    "duration": 43,
    "start_time": "2022-06-08T13:27:18.838Z"
   },
   {
    "duration": 1819,
    "start_time": "2022-06-08T13:27:18.884Z"
   },
   {
    "duration": 76,
    "start_time": "2022-06-08T13:27:20.705Z"
   },
   {
    "duration": 16,
    "start_time": "2022-06-08T13:27:20.783Z"
   },
   {
    "duration": 30,
    "start_time": "2022-06-08T13:27:20.801Z"
   },
   {
    "duration": 17,
    "start_time": "2022-06-08T13:27:20.834Z"
   },
   {
    "duration": 3,
    "start_time": "2022-06-08T13:27:20.853Z"
   },
   {
    "duration": 21,
    "start_time": "2022-06-08T13:27:20.858Z"
   },
   {
    "duration": 13,
    "start_time": "2022-06-08T13:27:20.882Z"
   },
   {
    "duration": 34,
    "start_time": "2022-06-08T13:27:20.898Z"
   },
   {
    "duration": 559,
    "start_time": "2022-06-08T13:27:20.934Z"
   },
   {
    "duration": 64,
    "start_time": "2022-06-08T13:27:21.495Z"
   },
   {
    "duration": 9,
    "start_time": "2022-06-08T13:27:21.561Z"
   },
   {
    "duration": 57,
    "start_time": "2022-06-08T13:27:21.571Z"
   },
   {
    "duration": 228,
    "start_time": "2022-06-08T13:27:21.630Z"
   },
   {
    "duration": 6,
    "start_time": "2022-06-08T13:27:21.860Z"
   },
   {
    "duration": 544,
    "start_time": "2022-06-08T13:27:21.869Z"
   },
   {
    "duration": 14,
    "start_time": "2022-06-08T13:27:22.415Z"
   },
   {
    "duration": 324,
    "start_time": "2022-06-08T13:27:44.448Z"
   },
   {
    "duration": 334,
    "start_time": "2022-06-08T13:28:58.723Z"
   },
   {
    "duration": 3,
    "start_time": "2022-06-08T13:29:33.754Z"
   },
   {
    "duration": 398,
    "start_time": "2022-06-08T13:29:33.759Z"
   },
   {
    "duration": 83,
    "start_time": "2022-06-08T13:29:34.159Z"
   },
   {
    "duration": 62,
    "start_time": "2022-06-08T13:29:34.244Z"
   },
   {
    "duration": 166,
    "start_time": "2022-06-08T13:29:34.308Z"
   },
   {
    "duration": 31,
    "start_time": "2022-06-08T13:29:34.476Z"
   },
   {
    "duration": 1623,
    "start_time": "2022-06-08T13:29:34.509Z"
   },
   {
    "duration": 64,
    "start_time": "2022-06-08T13:29:36.134Z"
   },
   {
    "duration": 29,
    "start_time": "2022-06-08T13:29:36.201Z"
   },
   {
    "duration": 11,
    "start_time": "2022-06-08T13:29:36.232Z"
   },
   {
    "duration": 10,
    "start_time": "2022-06-08T13:29:36.246Z"
   },
   {
    "duration": 10,
    "start_time": "2022-06-08T13:29:36.258Z"
   },
   {
    "duration": 9,
    "start_time": "2022-06-08T13:29:36.270Z"
   },
   {
    "duration": 5,
    "start_time": "2022-06-08T13:29:36.281Z"
   },
   {
    "duration": 16,
    "start_time": "2022-06-08T13:29:36.287Z"
   },
   {
    "duration": 555,
    "start_time": "2022-06-08T13:29:36.305Z"
   },
   {
    "duration": 37,
    "start_time": "2022-06-08T13:29:36.862Z"
   },
   {
    "duration": 6,
    "start_time": "2022-06-08T13:29:36.900Z"
   },
   {
    "duration": 26,
    "start_time": "2022-06-08T13:29:36.926Z"
   },
   {
    "duration": 178,
    "start_time": "2022-06-08T13:29:36.953Z"
   },
   {
    "duration": 4,
    "start_time": "2022-06-08T13:29:37.132Z"
   },
   {
    "duration": 322,
    "start_time": "2022-06-08T13:29:37.138Z"
   },
   {
    "duration": 4,
    "start_time": "2022-06-08T13:29:37.462Z"
   },
   {
    "duration": 3,
    "start_time": "2022-06-08T13:37:55.594Z"
   },
   {
    "duration": 419,
    "start_time": "2022-06-08T13:37:55.599Z"
   },
   {
    "duration": 72,
    "start_time": "2022-06-08T13:37:56.019Z"
   },
   {
    "duration": 71,
    "start_time": "2022-06-08T13:37:56.092Z"
   },
   {
    "duration": 162,
    "start_time": "2022-06-08T13:37:56.166Z"
   },
   {
    "duration": 29,
    "start_time": "2022-06-08T13:37:56.330Z"
   },
   {
    "duration": 1689,
    "start_time": "2022-06-08T13:37:56.361Z"
   },
   {
    "duration": 146,
    "start_time": "2022-06-08T13:37:58.052Z"
   },
   {
    "duration": 12,
    "start_time": "2022-06-08T13:37:58.200Z"
   },
   {
    "duration": 18,
    "start_time": "2022-06-08T13:37:58.213Z"
   },
   {
    "duration": 11,
    "start_time": "2022-06-08T13:37:58.233Z"
   },
   {
    "duration": 2,
    "start_time": "2022-06-08T13:37:58.245Z"
   },
   {
    "duration": 11,
    "start_time": "2022-06-08T13:37:58.248Z"
   },
   {
    "duration": 5,
    "start_time": "2022-06-08T13:37:58.260Z"
   },
   {
    "duration": 17,
    "start_time": "2022-06-08T13:37:58.267Z"
   },
   {
    "duration": 463,
    "start_time": "2022-06-08T13:37:58.286Z"
   },
   {
    "duration": 48,
    "start_time": "2022-06-08T13:37:58.751Z"
   },
   {
    "duration": 7,
    "start_time": "2022-06-08T13:37:58.801Z"
   },
   {
    "duration": 48,
    "start_time": "2022-06-08T13:37:58.825Z"
   },
   {
    "duration": 176,
    "start_time": "2022-06-08T13:37:58.875Z"
   },
   {
    "duration": 5,
    "start_time": "2022-06-08T13:37:59.052Z"
   },
   {
    "duration": 348,
    "start_time": "2022-06-08T13:37:59.059Z"
   },
   {
    "duration": 5,
    "start_time": "2022-06-08T13:37:59.409Z"
   },
   {
    "duration": 10,
    "start_time": "2022-06-08T13:41:11.320Z"
   },
   {
    "duration": 3,
    "start_time": "2022-06-08T13:41:14.601Z"
   },
   {
    "duration": 400,
    "start_time": "2022-06-08T13:41:14.606Z"
   },
   {
    "duration": 75,
    "start_time": "2022-06-08T13:41:15.007Z"
   },
   {
    "duration": 75,
    "start_time": "2022-06-08T13:41:15.083Z"
   },
   {
    "duration": 144,
    "start_time": "2022-06-08T13:41:15.160Z"
   },
   {
    "duration": 39,
    "start_time": "2022-06-08T13:41:15.306Z"
   },
   {
    "duration": 1663,
    "start_time": "2022-06-08T13:41:15.347Z"
   },
   {
    "duration": 59,
    "start_time": "2022-06-08T13:41:17.012Z"
   },
   {
    "duration": 12,
    "start_time": "2022-06-08T13:41:17.073Z"
   },
   {
    "duration": 9,
    "start_time": "2022-06-08T13:41:17.087Z"
   },
   {
    "duration": 28,
    "start_time": "2022-06-08T13:41:17.098Z"
   },
   {
    "duration": 2,
    "start_time": "2022-06-08T13:41:17.128Z"
   },
   {
    "duration": 7,
    "start_time": "2022-06-08T13:41:17.131Z"
   },
   {
    "duration": 7,
    "start_time": "2022-06-08T13:41:17.140Z"
   },
   {
    "duration": 13,
    "start_time": "2022-06-08T13:41:17.149Z"
   },
   {
    "duration": 467,
    "start_time": "2022-06-08T13:41:17.164Z"
   },
   {
    "duration": 38,
    "start_time": "2022-06-08T13:41:17.632Z"
   },
   {
    "duration": 26,
    "start_time": "2022-06-08T13:41:17.671Z"
   },
   {
    "duration": 189,
    "start_time": "2022-06-08T13:41:17.699Z"
   },
   {
    "duration": 6,
    "start_time": "2022-06-08T13:41:17.889Z"
   },
   {
    "duration": 374,
    "start_time": "2022-06-08T13:41:17.896Z"
   },
   {
    "duration": 5,
    "start_time": "2022-06-08T13:41:18.272Z"
   },
   {
    "duration": 11,
    "start_time": "2022-06-08T13:43:08.332Z"
   },
   {
    "duration": 43,
    "start_time": "2022-06-08T13:44:32.519Z"
   },
   {
    "duration": 17,
    "start_time": "2022-06-08T13:47:53.232Z"
   },
   {
    "duration": 19,
    "start_time": "2022-06-08T13:48:38.828Z"
   },
   {
    "duration": 23,
    "start_time": "2022-06-08T13:50:07.246Z"
   },
   {
    "duration": 16,
    "start_time": "2022-06-08T13:50:25.928Z"
   },
   {
    "duration": 21,
    "start_time": "2022-06-08T13:50:46.279Z"
   },
   {
    "duration": 10,
    "start_time": "2022-06-08T13:53:42.353Z"
   },
   {
    "duration": 68,
    "start_time": "2022-06-08T14:56:14.329Z"
   },
   {
    "duration": 1396,
    "start_time": "2022-06-08T14:56:18.388Z"
   },
   {
    "duration": 1057,
    "start_time": "2022-06-08T14:56:19.786Z"
   },
   {
    "duration": 89,
    "start_time": "2022-06-08T14:56:20.845Z"
   },
   {
    "duration": 105,
    "start_time": "2022-06-08T14:56:20.937Z"
   },
   {
    "duration": 198,
    "start_time": "2022-06-08T14:56:21.044Z"
   },
   {
    "duration": 49,
    "start_time": "2022-06-08T14:56:21.244Z"
   },
   {
    "duration": 2021,
    "start_time": "2022-06-08T14:56:21.295Z"
   },
   {
    "duration": 86,
    "start_time": "2022-06-08T14:56:23.318Z"
   },
   {
    "duration": 14,
    "start_time": "2022-06-08T14:56:23.406Z"
   },
   {
    "duration": 10,
    "start_time": "2022-06-08T14:56:23.422Z"
   },
   {
    "duration": 13,
    "start_time": "2022-06-08T14:56:23.433Z"
   },
   {
    "duration": 17,
    "start_time": "2022-06-08T14:56:23.448Z"
   },
   {
    "duration": 17,
    "start_time": "2022-06-08T14:56:23.467Z"
   },
   {
    "duration": 13,
    "start_time": "2022-06-08T14:56:23.486Z"
   },
   {
    "duration": 539,
    "start_time": "2022-06-08T14:56:23.500Z"
   },
   {
    "duration": 49,
    "start_time": "2022-06-08T14:56:24.041Z"
   },
   {
    "duration": 192,
    "start_time": "2022-06-08T14:56:24.091Z"
   },
   {
    "duration": 5,
    "start_time": "2022-06-08T14:56:24.284Z"
   },
   {
    "duration": 375,
    "start_time": "2022-06-08T14:56:24.290Z"
   },
   {
    "duration": 15,
    "start_time": "2022-06-08T14:56:24.668Z"
   },
   {
    "duration": 19,
    "start_time": "2022-06-08T14:56:24.686Z"
   },
   {
    "duration": 23,
    "start_time": "2022-06-08T14:56:24.706Z"
   },
   {
    "duration": 211,
    "start_time": "2022-06-08T14:56:24.730Z"
   },
   {
    "duration": 190,
    "start_time": "2022-06-08T14:56:33.394Z"
   },
   {
    "duration": 20,
    "start_time": "2022-06-08T14:57:18.544Z"
   },
   {
    "duration": 23,
    "start_time": "2022-06-08T15:00:11.290Z"
   },
   {
    "duration": 26,
    "start_time": "2022-06-08T15:00:27.305Z"
   },
   {
    "duration": 5,
    "start_time": "2022-06-08T15:01:07.055Z"
   },
   {
    "duration": 6,
    "start_time": "2022-06-08T15:01:27.610Z"
   },
   {
    "duration": 27,
    "start_time": "2022-06-08T15:03:57.512Z"
   },
   {
    "duration": 25,
    "start_time": "2022-06-08T15:04:02.659Z"
   },
   {
    "duration": 23,
    "start_time": "2022-06-08T15:04:13.534Z"
   },
   {
    "duration": 184,
    "start_time": "2022-06-08T15:04:29.673Z"
   },
   {
    "duration": 18,
    "start_time": "2022-06-08T15:04:47.897Z"
   },
   {
    "duration": 16,
    "start_time": "2022-06-08T15:04:58.624Z"
   },
   {
    "duration": 13,
    "start_time": "2022-06-08T15:05:25.558Z"
   },
   {
    "duration": 11,
    "start_time": "2022-06-08T15:05:28.550Z"
   },
   {
    "duration": 15,
    "start_time": "2022-06-08T15:05:33.505Z"
   },
   {
    "duration": 24,
    "start_time": "2022-06-08T15:06:30.506Z"
   },
   {
    "duration": 36,
    "start_time": "2022-06-08T15:06:40.651Z"
   },
   {
    "duration": 32,
    "start_time": "2022-06-08T15:07:29.588Z"
   },
   {
    "duration": 25,
    "start_time": "2022-06-08T15:07:33.438Z"
   },
   {
    "duration": 33,
    "start_time": "2022-06-08T15:07:39.117Z"
   },
   {
    "duration": 30,
    "start_time": "2022-06-08T15:07:42.853Z"
   },
   {
    "duration": 26,
    "start_time": "2022-06-08T15:07:47.504Z"
   },
   {
    "duration": 27,
    "start_time": "2022-06-08T15:09:01.434Z"
   },
   {
    "duration": 12,
    "start_time": "2022-06-08T15:09:50.194Z"
   },
   {
    "duration": 17,
    "start_time": "2022-06-08T15:09:57.078Z"
   },
   {
    "duration": 196,
    "start_time": "2022-06-08T15:10:01.683Z"
   },
   {
    "duration": 26,
    "start_time": "2022-06-08T15:10:08.860Z"
   },
   {
    "duration": 34,
    "start_time": "2022-06-08T15:11:33.811Z"
   },
   {
    "duration": 24,
    "start_time": "2022-06-08T15:11:37.604Z"
   },
   {
    "duration": 40,
    "start_time": "2022-06-08T15:11:44.441Z"
   },
   {
    "duration": 20,
    "start_time": "2022-06-08T15:11:52.886Z"
   },
   {
    "duration": 30,
    "start_time": "2022-06-08T15:12:11.302Z"
   },
   {
    "duration": 32,
    "start_time": "2022-06-08T15:12:28.864Z"
   },
   {
    "duration": 63,
    "start_time": "2022-06-08T15:12:39.151Z"
   },
   {
    "duration": 28,
    "start_time": "2022-06-08T15:12:43.781Z"
   },
   {
    "duration": 25,
    "start_time": "2022-06-08T15:13:19.393Z"
   },
   {
    "duration": 52,
    "start_time": "2022-06-08T15:16:57.420Z"
   },
   {
    "duration": 3,
    "start_time": "2022-06-08T15:17:05.907Z"
   },
   {
    "duration": 212,
    "start_time": "2022-06-08T15:22:17.673Z"
   },
   {
    "duration": 4,
    "start_time": "2022-06-08T15:23:20.470Z"
   },
   {
    "duration": 472,
    "start_time": "2022-06-08T15:23:20.477Z"
   },
   {
    "duration": 87,
    "start_time": "2022-06-08T15:23:20.951Z"
   },
   {
    "duration": 87,
    "start_time": "2022-06-08T15:23:21.041Z"
   },
   {
    "duration": 168,
    "start_time": "2022-06-08T15:23:21.129Z"
   },
   {
    "duration": 37,
    "start_time": "2022-06-08T15:23:21.299Z"
   },
   {
    "duration": 1796,
    "start_time": "2022-06-08T15:23:21.337Z"
   },
   {
    "duration": 129,
    "start_time": "2022-06-08T15:23:23.135Z"
   },
   {
    "duration": 15,
    "start_time": "2022-06-08T15:23:23.267Z"
   },
   {
    "duration": 16,
    "start_time": "2022-06-08T15:23:23.284Z"
   },
   {
    "duration": 11,
    "start_time": "2022-06-08T15:23:23.302Z"
   },
   {
    "duration": 5,
    "start_time": "2022-06-08T15:23:23.315Z"
   },
   {
    "duration": 16,
    "start_time": "2022-06-08T15:23:23.322Z"
   },
   {
    "duration": 36,
    "start_time": "2022-06-08T15:23:23.339Z"
   },
   {
    "duration": 491,
    "start_time": "2022-06-08T15:23:23.376Z"
   },
   {
    "duration": 44,
    "start_time": "2022-06-08T15:23:23.869Z"
   },
   {
    "duration": 216,
    "start_time": "2022-06-08T15:23:23.915Z"
   },
   {
    "duration": 6,
    "start_time": "2022-06-08T15:23:24.134Z"
   },
   {
    "duration": 341,
    "start_time": "2022-06-08T15:23:24.142Z"
   },
   {
    "duration": 4,
    "start_time": "2022-06-08T15:23:24.485Z"
   },
   {
    "duration": 22,
    "start_time": "2022-06-08T15:23:24.491Z"
   },
   {
    "duration": 386,
    "start_time": "2022-06-08T15:27:35.989Z"
   },
   {
    "duration": 1178,
    "start_time": "2022-06-09T07:28:38.989Z"
   },
   {
    "duration": 949,
    "start_time": "2022-06-09T07:28:40.169Z"
   },
   {
    "duration": 63,
    "start_time": "2022-06-09T07:28:41.119Z"
   },
   {
    "duration": 77,
    "start_time": "2022-06-09T07:28:41.184Z"
   },
   {
    "duration": 154,
    "start_time": "2022-06-09T07:28:41.263Z"
   },
   {
    "duration": 32,
    "start_time": "2022-06-09T07:28:41.427Z"
   },
   {
    "duration": 1584,
    "start_time": "2022-06-09T07:28:41.460Z"
   },
   {
    "duration": 68,
    "start_time": "2022-06-09T07:28:43.046Z"
   },
   {
    "duration": 23,
    "start_time": "2022-06-09T07:28:43.116Z"
   },
   {
    "duration": 14,
    "start_time": "2022-06-09T07:28:43.140Z"
   },
   {
    "duration": 14,
    "start_time": "2022-06-09T07:28:43.155Z"
   },
   {
    "duration": 5,
    "start_time": "2022-06-09T07:28:43.170Z"
   },
   {
    "duration": 7,
    "start_time": "2022-06-09T07:28:43.176Z"
   },
   {
    "duration": 12,
    "start_time": "2022-06-09T07:28:43.186Z"
   },
   {
    "duration": 523,
    "start_time": "2022-06-09T07:28:43.200Z"
   },
   {
    "duration": 44,
    "start_time": "2022-06-09T07:28:43.724Z"
   },
   {
    "duration": 195,
    "start_time": "2022-06-09T07:28:43.769Z"
   },
   {
    "duration": 5,
    "start_time": "2022-06-09T07:28:43.965Z"
   },
   {
    "duration": 312,
    "start_time": "2022-06-09T07:28:43.972Z"
   },
   {
    "duration": 94,
    "start_time": "2022-06-09T07:28:44.285Z"
   },
   {
    "duration": 0,
    "start_time": "2022-06-09T07:28:44.380Z"
   },
   {
    "duration": 4,
    "start_time": "2022-06-09T07:40:00.582Z"
   },
   {
    "duration": 495,
    "start_time": "2022-06-09T07:40:00.587Z"
   },
   {
    "duration": 81,
    "start_time": "2022-06-09T07:40:01.084Z"
   },
   {
    "duration": 79,
    "start_time": "2022-06-09T07:40:01.167Z"
   },
   {
    "duration": 184,
    "start_time": "2022-06-09T07:40:01.248Z"
   },
   {
    "duration": 37,
    "start_time": "2022-06-09T07:40:01.433Z"
   },
   {
    "duration": 90,
    "start_time": "2022-06-09T07:40:01.471Z"
   },
   {
    "duration": 1819,
    "start_time": "2022-06-09T07:40:01.563Z"
   },
   {
    "duration": 62,
    "start_time": "2022-06-09T07:40:03.384Z"
   },
   {
    "duration": 17,
    "start_time": "2022-06-09T07:40:03.448Z"
   },
   {
    "duration": 28,
    "start_time": "2022-06-09T07:40:03.468Z"
   },
   {
    "duration": 28,
    "start_time": "2022-06-09T07:40:03.498Z"
   },
   {
    "duration": 6,
    "start_time": "2022-06-09T07:40:03.528Z"
   },
   {
    "duration": 6,
    "start_time": "2022-06-09T07:40:03.536Z"
   },
   {
    "duration": 369,
    "start_time": "2022-06-09T07:40:03.543Z"
   },
   {
    "duration": 0,
    "start_time": "2022-06-09T07:40:03.914Z"
   },
   {
    "duration": 0,
    "start_time": "2022-06-09T07:40:03.915Z"
   },
   {
    "duration": 0,
    "start_time": "2022-06-09T07:40:03.917Z"
   },
   {
    "duration": 0,
    "start_time": "2022-06-09T07:40:03.918Z"
   },
   {
    "duration": 0,
    "start_time": "2022-06-09T07:40:03.919Z"
   },
   {
    "duration": 0,
    "start_time": "2022-06-09T07:40:03.921Z"
   },
   {
    "duration": 0,
    "start_time": "2022-06-09T07:40:03.921Z"
   },
   {
    "duration": 317,
    "start_time": "2022-06-09T07:40:47.841Z"
   },
   {
    "duration": 13,
    "start_time": "2022-06-09T07:40:55.226Z"
   },
   {
    "duration": 17,
    "start_time": "2022-06-09T07:41:11.275Z"
   },
   {
    "duration": 14,
    "start_time": "2022-06-09T07:41:21.698Z"
   },
   {
    "duration": 9,
    "start_time": "2022-06-09T07:41:26.365Z"
   },
   {
    "duration": 437,
    "start_time": "2022-06-09T07:41:26.376Z"
   },
   {
    "duration": 82,
    "start_time": "2022-06-09T07:41:26.815Z"
   },
   {
    "duration": 77,
    "start_time": "2022-06-09T07:41:26.899Z"
   },
   {
    "duration": 175,
    "start_time": "2022-06-09T07:41:26.978Z"
   },
   {
    "duration": 31,
    "start_time": "2022-06-09T07:41:27.155Z"
   },
   {
    "duration": 72,
    "start_time": "2022-06-09T07:41:27.187Z"
   },
   {
    "duration": 1636,
    "start_time": "2022-06-09T07:41:27.261Z"
   },
   {
    "duration": 62,
    "start_time": "2022-06-09T07:41:28.899Z"
   },
   {
    "duration": 14,
    "start_time": "2022-06-09T07:41:28.964Z"
   },
   {
    "duration": 10,
    "start_time": "2022-06-09T07:41:28.979Z"
   },
   {
    "duration": 10,
    "start_time": "2022-06-09T07:41:28.990Z"
   },
   {
    "duration": 30,
    "start_time": "2022-06-09T07:41:29.001Z"
   },
   {
    "duration": 4,
    "start_time": "2022-06-09T07:41:29.032Z"
   },
   {
    "duration": 15,
    "start_time": "2022-06-09T07:41:29.038Z"
   },
   {
    "duration": 474,
    "start_time": "2022-06-09T07:41:29.054Z"
   },
   {
    "duration": 0,
    "start_time": "2022-06-09T07:41:29.530Z"
   },
   {
    "duration": 0,
    "start_time": "2022-06-09T07:41:29.531Z"
   },
   {
    "duration": 0,
    "start_time": "2022-06-09T07:41:29.532Z"
   },
   {
    "duration": 0,
    "start_time": "2022-06-09T07:41:29.533Z"
   },
   {
    "duration": 0,
    "start_time": "2022-06-09T07:41:29.534Z"
   },
   {
    "duration": 0,
    "start_time": "2022-06-09T07:41:29.535Z"
   },
   {
    "duration": 158,
    "start_time": "2022-06-09T07:42:17.782Z"
   },
   {
    "duration": 489,
    "start_time": "2022-06-09T07:42:31.357Z"
   },
   {
    "duration": 4,
    "start_time": "2022-06-09T07:42:42.822Z"
   },
   {
    "duration": 410,
    "start_time": "2022-06-09T07:42:42.828Z"
   },
   {
    "duration": 101,
    "start_time": "2022-06-09T07:42:43.240Z"
   },
   {
    "duration": 63,
    "start_time": "2022-06-09T07:42:43.343Z"
   },
   {
    "duration": 153,
    "start_time": "2022-06-09T07:42:43.407Z"
   },
   {
    "duration": 31,
    "start_time": "2022-06-09T07:42:43.561Z"
   },
   {
    "duration": 83,
    "start_time": "2022-06-09T07:42:43.594Z"
   },
   {
    "duration": 1619,
    "start_time": "2022-06-09T07:42:43.679Z"
   },
   {
    "duration": 58,
    "start_time": "2022-06-09T07:42:45.301Z"
   },
   {
    "duration": 13,
    "start_time": "2022-06-09T07:42:45.360Z"
   },
   {
    "duration": 10,
    "start_time": "2022-06-09T07:42:45.374Z"
   },
   {
    "duration": 8,
    "start_time": "2022-06-09T07:42:45.385Z"
   },
   {
    "duration": 5,
    "start_time": "2022-06-09T07:42:45.394Z"
   },
   {
    "duration": 27,
    "start_time": "2022-06-09T07:42:45.400Z"
   },
   {
    "duration": 21,
    "start_time": "2022-06-09T07:42:45.428Z"
   },
   {
    "duration": 423,
    "start_time": "2022-06-09T07:42:45.450Z"
   },
   {
    "duration": 11,
    "start_time": "2022-06-09T07:42:45.874Z"
   },
   {
    "duration": 0,
    "start_time": "2022-06-09T07:42:45.887Z"
   },
   {
    "duration": 0,
    "start_time": "2022-06-09T07:42:45.888Z"
   },
   {
    "duration": 0,
    "start_time": "2022-06-09T07:42:45.888Z"
   },
   {
    "duration": 0,
    "start_time": "2022-06-09T07:42:45.889Z"
   },
   {
    "duration": 0,
    "start_time": "2022-06-09T07:42:45.890Z"
   },
   {
    "duration": 4,
    "start_time": "2022-06-09T07:43:11.584Z"
   },
   {
    "duration": 431,
    "start_time": "2022-06-09T07:43:11.590Z"
   },
   {
    "duration": 83,
    "start_time": "2022-06-09T07:43:12.022Z"
   },
   {
    "duration": 72,
    "start_time": "2022-06-09T07:43:12.107Z"
   },
   {
    "duration": 160,
    "start_time": "2022-06-09T07:43:12.180Z"
   },
   {
    "duration": 32,
    "start_time": "2022-06-09T07:43:12.341Z"
   },
   {
    "duration": 81,
    "start_time": "2022-06-09T07:43:12.375Z"
   },
   {
    "duration": 1683,
    "start_time": "2022-06-09T07:43:12.458Z"
   },
   {
    "duration": 58,
    "start_time": "2022-06-09T07:43:14.144Z"
   },
   {
    "duration": 25,
    "start_time": "2022-06-09T07:43:14.203Z"
   },
   {
    "duration": 10,
    "start_time": "2022-06-09T07:43:14.230Z"
   },
   {
    "duration": 10,
    "start_time": "2022-06-09T07:43:14.241Z"
   },
   {
    "duration": 6,
    "start_time": "2022-06-09T07:43:14.252Z"
   },
   {
    "duration": 6,
    "start_time": "2022-06-09T07:43:14.259Z"
   },
   {
    "duration": 13,
    "start_time": "2022-06-09T07:43:14.266Z"
   },
   {
    "duration": 501,
    "start_time": "2022-06-09T07:43:14.281Z"
   },
   {
    "duration": 71,
    "start_time": "2022-06-09T07:43:14.784Z"
   },
   {
    "duration": 203,
    "start_time": "2022-06-09T07:43:14.857Z"
   },
   {
    "duration": 4,
    "start_time": "2022-06-09T07:43:15.062Z"
   },
   {
    "duration": 364,
    "start_time": "2022-06-09T07:43:15.068Z"
   },
   {
    "duration": 10,
    "start_time": "2022-06-09T07:43:15.434Z"
   },
   {
    "duration": 0,
    "start_time": "2022-06-09T07:43:15.446Z"
   },
   {
    "duration": 4,
    "start_time": "2022-06-09T07:44:09.898Z"
   },
   {
    "duration": 434,
    "start_time": "2022-06-09T07:44:09.904Z"
   },
   {
    "duration": 90,
    "start_time": "2022-06-09T07:44:10.340Z"
   },
   {
    "duration": 73,
    "start_time": "2022-06-09T07:44:10.433Z"
   },
   {
    "duration": 167,
    "start_time": "2022-06-09T07:44:10.507Z"
   },
   {
    "duration": 33,
    "start_time": "2022-06-09T07:44:10.675Z"
   },
   {
    "duration": 66,
    "start_time": "2022-06-09T07:44:10.726Z"
   },
   {
    "duration": 1699,
    "start_time": "2022-06-09T07:44:10.794Z"
   },
   {
    "duration": 68,
    "start_time": "2022-06-09T07:44:12.495Z"
   },
   {
    "duration": 14,
    "start_time": "2022-06-09T07:44:12.564Z"
   },
   {
    "duration": 10,
    "start_time": "2022-06-09T07:44:12.579Z"
   },
   {
    "duration": 10,
    "start_time": "2022-06-09T07:44:12.590Z"
   },
   {
    "duration": 25,
    "start_time": "2022-06-09T07:44:12.602Z"
   },
   {
    "duration": 8,
    "start_time": "2022-06-09T07:44:12.629Z"
   },
   {
    "duration": 15,
    "start_time": "2022-06-09T07:44:12.638Z"
   },
   {
    "duration": 479,
    "start_time": "2022-06-09T07:44:12.655Z"
   },
   {
    "duration": 45,
    "start_time": "2022-06-09T07:44:13.136Z"
   },
   {
    "duration": 211,
    "start_time": "2022-06-09T07:44:13.182Z"
   },
   {
    "duration": 5,
    "start_time": "2022-06-09T07:44:13.394Z"
   },
   {
    "duration": 439,
    "start_time": "2022-06-09T07:44:13.400Z"
   },
   {
    "duration": 6,
    "start_time": "2022-06-09T07:44:13.840Z"
   },
   {
    "duration": 25,
    "start_time": "2022-06-09T07:44:13.847Z"
   },
   {
    "duration": 23,
    "start_time": "2022-06-09T07:44:39.892Z"
   },
   {
    "duration": 4,
    "start_time": "2022-06-09T07:44:49.641Z"
   },
   {
    "duration": 461,
    "start_time": "2022-06-09T07:44:49.646Z"
   },
   {
    "duration": 92,
    "start_time": "2022-06-09T07:44:50.109Z"
   },
   {
    "duration": 82,
    "start_time": "2022-06-09T07:44:50.203Z"
   },
   {
    "duration": 188,
    "start_time": "2022-06-09T07:44:50.287Z"
   },
   {
    "duration": 50,
    "start_time": "2022-06-09T07:44:50.477Z"
   },
   {
    "duration": 65,
    "start_time": "2022-06-09T07:44:50.529Z"
   },
   {
    "duration": 1668,
    "start_time": "2022-06-09T07:44:50.596Z"
   },
   {
    "duration": 58,
    "start_time": "2022-06-09T07:44:52.267Z"
   },
   {
    "duration": 14,
    "start_time": "2022-06-09T07:44:52.327Z"
   },
   {
    "duration": 30,
    "start_time": "2022-06-09T07:44:52.343Z"
   },
   {
    "duration": 24,
    "start_time": "2022-06-09T07:44:52.375Z"
   },
   {
    "duration": 37,
    "start_time": "2022-06-09T07:44:52.400Z"
   },
   {
    "duration": 20,
    "start_time": "2022-06-09T07:44:52.439Z"
   },
   {
    "duration": 51,
    "start_time": "2022-06-09T07:44:52.461Z"
   },
   {
    "duration": 475,
    "start_time": "2022-06-09T07:44:52.513Z"
   },
   {
    "duration": 56,
    "start_time": "2022-06-09T07:44:52.990Z"
   },
   {
    "duration": 196,
    "start_time": "2022-06-09T07:44:53.047Z"
   },
   {
    "duration": 8,
    "start_time": "2022-06-09T07:44:53.245Z"
   },
   {
    "duration": 385,
    "start_time": "2022-06-09T07:44:53.254Z"
   },
   {
    "duration": 5,
    "start_time": "2022-06-09T07:44:53.641Z"
   },
   {
    "duration": 31,
    "start_time": "2022-06-09T07:44:53.647Z"
   },
   {
    "duration": 4,
    "start_time": "2022-06-09T07:47:29.938Z"
   },
   {
    "duration": 433,
    "start_time": "2022-06-09T07:47:29.944Z"
   },
   {
    "duration": 86,
    "start_time": "2022-06-09T07:47:30.379Z"
   },
   {
    "duration": 137,
    "start_time": "2022-06-09T07:47:30.467Z"
   },
   {
    "duration": 239,
    "start_time": "2022-06-09T07:47:30.606Z"
   },
   {
    "duration": 49,
    "start_time": "2022-06-09T07:47:30.847Z"
   },
   {
    "duration": 133,
    "start_time": "2022-06-09T07:47:30.898Z"
   },
   {
    "duration": 1753,
    "start_time": "2022-06-09T07:47:31.033Z"
   },
   {
    "duration": 102,
    "start_time": "2022-06-09T07:47:32.790Z"
   },
   {
    "duration": 18,
    "start_time": "2022-06-09T07:47:32.894Z"
   },
   {
    "duration": 25,
    "start_time": "2022-06-09T07:47:32.915Z"
   },
   {
    "duration": 35,
    "start_time": "2022-06-09T07:47:32.942Z"
   },
   {
    "duration": 7,
    "start_time": "2022-06-09T07:47:32.979Z"
   },
   {
    "duration": 7,
    "start_time": "2022-06-09T07:47:32.989Z"
   },
   {
    "duration": 19,
    "start_time": "2022-06-09T07:47:32.998Z"
   },
   {
    "duration": 579,
    "start_time": "2022-06-09T07:47:33.019Z"
   },
   {
    "duration": 62,
    "start_time": "2022-06-09T07:47:33.600Z"
   },
   {
    "duration": 242,
    "start_time": "2022-06-09T07:47:33.663Z"
   },
   {
    "duration": 7,
    "start_time": "2022-06-09T07:47:33.907Z"
   },
   {
    "duration": 346,
    "start_time": "2022-06-09T07:47:33.928Z"
   },
   {
    "duration": 5,
    "start_time": "2022-06-09T07:47:34.276Z"
   },
   {
    "duration": 24,
    "start_time": "2022-06-09T07:47:34.283Z"
   },
   {
    "duration": 1192,
    "start_time": "2022-06-09T15:49:18.629Z"
   },
   {
    "duration": 1146,
    "start_time": "2022-06-09T15:49:19.823Z"
   },
   {
    "duration": 56,
    "start_time": "2022-06-09T15:49:20.970Z"
   },
   {
    "duration": 68,
    "start_time": "2022-06-09T15:49:21.028Z"
   },
   {
    "duration": 160,
    "start_time": "2022-06-09T15:49:21.098Z"
   },
   {
    "duration": 38,
    "start_time": "2022-06-09T15:49:21.260Z"
   },
   {
    "duration": 65,
    "start_time": "2022-06-09T15:49:21.300Z"
   },
   {
    "duration": 1718,
    "start_time": "2022-06-09T15:49:21.366Z"
   },
   {
    "duration": 64,
    "start_time": "2022-06-09T15:49:23.086Z"
   },
   {
    "duration": 26,
    "start_time": "2022-06-09T15:49:23.152Z"
   },
   {
    "duration": 9,
    "start_time": "2022-06-09T15:49:23.179Z"
   },
   {
    "duration": 18,
    "start_time": "2022-06-09T15:49:23.190Z"
   },
   {
    "duration": 6,
    "start_time": "2022-06-09T15:49:23.209Z"
   },
   {
    "duration": 14,
    "start_time": "2022-06-09T15:49:23.217Z"
   },
   {
    "duration": 18,
    "start_time": "2022-06-09T15:49:23.232Z"
   },
   {
    "duration": 501,
    "start_time": "2022-06-09T15:49:23.251Z"
   },
   {
    "duration": 44,
    "start_time": "2022-06-09T15:49:23.754Z"
   },
   {
    "duration": 174,
    "start_time": "2022-06-09T15:49:23.799Z"
   },
   {
    "duration": 7,
    "start_time": "2022-06-09T15:49:23.974Z"
   },
   {
    "duration": 319,
    "start_time": "2022-06-09T15:49:23.983Z"
   },
   {
    "duration": 4,
    "start_time": "2022-06-09T15:49:24.304Z"
   },
   {
    "duration": 31,
    "start_time": "2022-06-09T15:49:24.310Z"
   }
  ],
  "kernelspec": {
   "display_name": "Python 3 (ipykernel)",
   "language": "python",
   "name": "python3"
  },
  "language_info": {
   "codemirror_mode": {
    "name": "ipython",
    "version": 3
   },
   "file_extension": ".py",
   "mimetype": "text/x-python",
   "name": "python",
   "nbconvert_exporter": "python",
   "pygments_lexer": "ipython3",
   "version": "3.9.7"
  },
  "toc": {
   "base_numbering": 1,
   "nav_menu": {},
   "number_sections": true,
   "sideBar": true,
   "skip_h1_title": true,
   "title_cell": "Содержание",
   "title_sidebar": "Contents",
   "toc_cell": true,
   "toc_position": {
    "height": "calc(100% - 180px)",
    "left": "10px",
    "top": "150px",
    "width": "261.67px"
   },
   "toc_section_display": true,
   "toc_window_display": false
  }
 },
 "nbformat": 4,
 "nbformat_minor": 2
}
